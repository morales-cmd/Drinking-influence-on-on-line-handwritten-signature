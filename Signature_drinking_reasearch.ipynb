{
  "nbformat": 4,
  "nbformat_minor": 0,
  "metadata": {
    "colab": {
      "name": "Signature_drinking_reasearch.ipynb",
      "provenance": [],
      "collapsed_sections": [],
      "toc_visible": true,
      "mount_file_id": "1pqyRWRs0YeSNJW0w068j_NE4EQGezHJM",
      "authorship_tag": "ABX9TyMc6xrjpsPrw479vc4bVoVd",
      "include_colab_link": true
    },
    "kernelspec": {
      "name": "python3",
      "display_name": "Python 3"
    }
  },
  "cells": [
    {
      "cell_type": "markdown",
      "metadata": {
        "id": "view-in-github",
        "colab_type": "text"
      },
      "source": [
        "<a href=\"https://colab.research.google.com/github/morales-cmd/Drinking-influence-on-on-line-handwritten-signature/blob/main/Signature_drinking_reasearch.ipynb\" target=\"_parent\"><img src=\"https://colab.research.google.com/assets/colab-badge.svg\" alt=\"Open In Colab\"/></a>"
      ]
    },
    {
      "cell_type": "markdown",
      "source": [
        "# Feature extraction data"
      ],
      "metadata": {
        "id": "R6r6YsopqtmH"
      }
    },
    {
      "cell_type": "code",
      "source": [
        "import numpy as np\n",
        "import cv2\n",
        "import librosa, librosa.display\n",
        "import pandas as pd\n",
        "import os\n",
        "from google.colab.patches import cv2_imshow"
      ],
      "metadata": {
        "id": "033DYNNloLSa",
        "colab": {
          "base_uri": "https://localhost:8080/"
        },
        "outputId": "0b24e0f1-a32c-43c2-f70a-2ef9d2fb7441"
      },
      "execution_count": 2,
      "outputs": [
        {
          "output_type": "stream",
          "name": "stderr",
          "text": [
            "/usr/local/lib/python3.7/dist-packages/resampy/interpn.py:114: NumbaWarning: The TBB threading layer requires TBB version 2019.5 or later i.e., TBB_INTERFACE_VERSION >= 11005. Found TBB_INTERFACE_VERSION = 9107. The TBB threading layer is disabled.\n",
            "  _resample_loop_p(x, t_out, interp_win, interp_delta, num_table, scale, y)\n"
          ]
        }
      ]
    },
    {
      "cell_type": "code",
      "source": [
        "v1=[7,10]\n",
        "v2=[4,5]\n",
        "np.dot(np.array(v1),np.array(v2))\n",
        "np.linalg.norm(v1)"
      ],
      "metadata": {
        "colab": {
          "base_uri": "https://localhost:8080/"
        },
        "id": "VmvGK7H_Cz_G",
        "outputId": "eab794b9-93e4-4927-f887-868b148d0f62"
      },
      "execution_count": 43,
      "outputs": [
        {
          "output_type": "execute_result",
          "data": {
            "text/plain": [
              "12.206555615733702"
            ]
          },
          "metadata": {},
          "execution_count": 43
        }
      ]
    },
    {
      "cell_type": "code",
      "metadata": {
        "id": "FcaQdtFSZdao"
      },
      "source": [
        "# euclidean distnace between 2 points (input 2 points)\n",
        "def distance(curpoint,prevpoint):\n",
        "  return np.sqrt((curpoint[0]-prevpoint[0])**2+(curpoint[1]-prevpoint[1])**2)\n",
        "\n",
        "# return acc stats (min,max, mean, zerocrossings) stat (input non-stationary points with vel and acc)\n",
        "def acceleration_stats(points):\n",
        "  arr=np.array(points)\n",
        "  arr=np.transpose(arr)\n",
        "  zero_crossings = librosa.zero_crossings(arr[6], pad=False)\n",
        "  return(min(arr[6]),max(arr[6]),np.mean(arr[6]),sum(zero_crossings))\n",
        "\n",
        "# return vector with acc/dur stat (input non-stationary points with vel and acc)\n",
        "def acceleration_by_duration(points):\n",
        "  sum=0\n",
        "  for i in range(1,len(points)):\n",
        "    if(points[i][6]>0):\n",
        "      sum+= points[i][4]-points[i-1][4]\n",
        "  dur=points[len(points)-1][4]-points[0][4]\n",
        "  return sum/dur\n",
        "\n",
        "# return vector with all strokes durations (input non-stationary points)\n",
        "def calc_vel_acc(points):\n",
        "  points[0].append(0)  #0 velocity at 1st point\n",
        "  points[0].append(0)  #0 acceleration at 1st point\n",
        "\n",
        "  for i in range(1,len(points)):\n",
        "    dist=distance(points[i],points[i-1])\n",
        "    velocity= dist/(points[i][4]-points[i-1][4])\n",
        "    points[i].append(velocity)\n",
        "    acceleration=(points[i][5]-points[i-1][5])/(points[i][4]-points[i-1][4])\n",
        "    points[i].append(acceleration)\n",
        "\n",
        "def angle(v1,v2):\n",
        "  return np.arccos(np.dot(np.array(v1),np.array(v2))/(np.linalg.norm(v1)*np.linalg.norm(v2)))\n",
        "\n",
        "\n",
        "def calc_dir_change_vel(points):\n",
        "  points[0].append(0)  #0 velocity at 1st point\n",
        "  points[1].append(0)  #0 acceleration at 1st point\n",
        "\n",
        "  for i in range(2,len(points)):\n",
        "    v1=[points[i][0]-points[i-1][0],points[i][1]-points[i-1][1]]\n",
        "    v2=[points[i-1][0]-points[i-2][0],points[i-1][1]-points[i-2][1]]\n",
        "\n",
        "    ang=angle(v1,v2);\n",
        "    velocity= ang/(points[i][4]-points[i-1][4])\n",
        "    # print(velocity)\n",
        "    points[i].append(velocity)\n",
        "    # acceleration=(points[i][5]-points[i-1][5])/(points[i][4]-points[i-1][4])\n",
        "    # points[i].append(acceleration)\n",
        "\n",
        "def dir_vel_stats(points):\n",
        "  arr=np.array(points)\n",
        "  arr=np.transpose(arr)\n",
        "  # print(np.nanmean(arr[7]))\n",
        "  return np.nanmean(arr[7])\n",
        "\n",
        "# return vector with all strokes durations (input all points)\n",
        "def stroke_dur(points):\n",
        "  strokes_durs=[]\n",
        "  start=points[0][4]\n",
        "  for i in range(1,len(points)):\n",
        "    if(points[i][3]>0 and points[i-1][3]==0):\n",
        "      start=points[i][4]\n",
        "    if(points[i][3]==0 and points[i-1][3]>0):\n",
        "      strokes_durs.append(points[i][4]-start)\n",
        "  return strokes_durs\n",
        "\n",
        "# return vector with all strokes lengths (input all points)\n",
        "def stroke_len(points):\n",
        "  strokes_lens=[]\n",
        "  sum=0\n",
        "  if points[0][3]>0:\n",
        "    start=1\n",
        "  else:\n",
        "    start=0\n",
        "  for i in range(1,len(points)):\n",
        "    if(points[i][3]>0 and points[i-1][3]==0):\n",
        "      start=1\n",
        "    if(points[i][3]==0 and points[i-1][3]>0):\n",
        "      start=0\n",
        "      strokes_lens.append(sum)\n",
        "      sum=0\n",
        "    if(start==1):\n",
        "      sum+=distance(points[i],points[i-1])\n",
        "  return strokes_lens\n",
        "\n",
        "def average_stroke_press(points):\n",
        "  strokes_press=[]\n",
        "  it = 0\n",
        "  sum = 0\n",
        "  if points[0][3]>0:\n",
        "    start=1\n",
        "  else:\n",
        "    start=0\n",
        "  for i in range(1,len(points)):\n",
        "    if(points[i][3]>0 and points[i-1][3]==0):\n",
        "      it=0\n",
        "      sum=0\n",
        "      start=1\n",
        "    if(points[i][3]==0 and points[i-1][3]>0):\n",
        "      start=0\n",
        "      strokes_press.append(sum/it)\n",
        "    if(start==1):\n",
        "      sum+=points[i][3]\n",
        "      it+=1\n",
        "  return strokes_press\n",
        "\n",
        "#visualization of signature\n",
        "def vizualization(points):\n",
        "  im=np.zeros((300,300))\n",
        "  for p in points:\n",
        "    im[200-int(p[1]),int(p[0])]=255\n",
        "  cv2_imshow(im)\n",
        "\n",
        "\n",
        "\n",
        "\n",
        "# remove points with no x and y changes or no time changes\n",
        "def remove_stationary_points(points):\n",
        "  new_points=[]\n",
        "  for i in range(1,len(points)):\n",
        "    if((points[i][0]!=points[i-1][0] or points[i][1]!=points[i-1][1])and (points[i][4]!=points[i-1][4])):\n",
        "      new_points.append(points[i])\n",
        "  return new_points\n",
        "def remove_noisy_points(points):\n",
        "  new_points=[]\n",
        "  for i in range(1,len(points)-1):\n",
        "    if(~(points[i][3]==0 and points[i-1][3]>0 and points[i+1][3]>0)):\n",
        "      new_points.append(points[i])\n",
        "  return new_points\n",
        "\n",
        "class Signature_features:\n",
        "  def __init__(self, acc_by_dur, m_str_dur,std_str_dur,m_str_len,std_str_len, acc_stats,m_press,std_press):\n",
        "    self.acc_by_dur = acc_by_dur\n",
        "    self.m_str_dur = m_str_dur\n",
        "    self.std_str_dur=std_str_dur\n",
        "    self.m_str_len = m_str_len\n",
        "    self.std_str_len=std_str_len\n",
        "    self.acc_stats = acc_stats\n",
        "    self.m_press= m_press\n",
        "    self.std_press=std_press\n",
        "\n",
        "def get_stats(lines):\n",
        "  points=[]\n",
        "  for l in lines:\n",
        "    a=l.replace(\"\\n\",\"\")\n",
        "    a=a.split(\", \")\n",
        "    a=[float(numeric_string) for numeric_string in a]\n",
        "    points.append(a)\n",
        "  # vizualization(points)\n",
        "  points_reduced=remove_stationary_points(points)\n",
        "  points_filtered=remove_noisy_points(points)\n",
        "  calc_vel_acc(points_reduced)\n",
        "  calc_dir_change_vel(points_reduced)\n",
        "  return points, [acceleration_by_duration(points_reduced), np.mean(stroke_dur(points_filtered)),np.std(stroke_dur(points_filtered)), np.mean(stroke_len(points_filtered)), np.std(stroke_len(points_filtered)), acceleration_stats(points_reduced)[0],acceleration_stats(points_reduced)[1],acceleration_stats(points_reduced)[2],acceleration_stats(points_reduced)[3],np.mean(average_stroke_press(points_filtered)), np.std(average_stroke_press(points_filtered)),dir_vel_stats(points_reduced)]\n",
        "\n",
        "def read_signature(path):\n",
        "  with open(path) as f:\n",
        "    lines = f.readlines()\n",
        "  return lines"
      ],
      "execution_count": 49,
      "outputs": []
    },
    {
      "cell_type": "code",
      "source": [
        "df = pd.DataFrame(columns=['XX','level', 'owner', 'acc_by_dur', 'mean_str_dur','std_str_dur', 'mean_str_len', 'std_str_len', 'min_acc','max_acc','mean_acc','zrc_acc','mean_str_press', 'std_str_press','mean_dir_change_vel'])\n",
        "id_num=0\n",
        "for user in os.listdir('/content/drive/MyDrive/Alkohol_dane/Dane'):\n",
        "  for level in os.listdir(f'/content/drive/MyDrive/Alkohol_dane/Dane/{user}'):\n",
        "    for filename in os.listdir(f'/content/drive/MyDrive/Alkohol_dane/Dane/{user}/{level}'):\n",
        "      signature=read_signature(f'/content/drive/MyDrive/Alkohol_dane/Dane/{user}/{level}/{filename}')\n",
        "      # print(img.shape)\n",
        "\n",
        "      sig_points, stats = get_stats(signature)\n",
        "      if id_num % 10 == 0 and user == 'Pawel':\n",
        "        vizualization(sig_points)\n",
        "      row = [id_num,'L'+str(level),user] + stats\n",
        "      s2 = pd.Series(pd.Series(row,name=id_num, index=['XX','level', 'owner', 'acc_by_dur', 'mean_str_dur','std_str_dur', 'mean_str_len', 'std_str_len', 'min_acc','max_acc','mean_acc','zrc_acc','mean_str_press', 'std_str_press','mean_dir_change_vel']))\n",
        "      df = df.append(s2, ignore_index=False)\n",
        "      id_num+=1"
      ],
      "metadata": {
        "id": "umHs_tKWoqMr",
        "colab": {
          "base_uri": "https://localhost:8080/",
          "height": 952
        },
        "outputId": "acedb3b8-29c3-438b-a15e-a01b591cdd18"
      },
      "execution_count": 51,
      "outputs": [
        {
          "output_type": "stream",
          "name": "stderr",
          "text": [
            "/usr/local/lib/python3.7/dist-packages/ipykernel_launcher.py:34: RuntimeWarning: invalid value encountered in double_scalars\n",
            "/usr/local/lib/python3.7/dist-packages/ipykernel_launcher.py:34: RuntimeWarning: invalid value encountered in arccos\n"
          ]
        },
        {
          "output_type": "display_data",
          "data": {
            "text/plain": [
              "<PIL.Image.Image image mode=L size=300x300 at 0x7FAECF9593D0>"
            ],
            "image/png": "[encoded data removed]"
          },
          "metadata": {}
        },
        {
          "output_type": "display_data",
          "data": {
            "text/plain": [
              "<PIL.Image.Image image mode=L size=300x300 at 0x7FAECF7DAA90>"
            ],
            "image/png": "[encoded data removed]"
          },
          "metadata": {}
        },
        {
          "output_type": "display_data",
          "data": {
            "text/plain": [
              "<PIL.Image.Image image mode=L size=300x300 at 0x7FAECF1C16D0>"
            ],
            "image/png": "[encoded data removed]"
          },
          "metadata": {}
        }
      ]
    },
    {
      "cell_type": "code",
      "source": [
        "df"
      ],
      "metadata": {
        "colab": {
          "base_uri": "https://localhost:8080/",
          "height": 468
        },
        "id": "SRrh8sd-meSX",
        "outputId": "7be78068-5d91-4d81-8405-9a03864fb13e"
      },
      "execution_count": 8,
      "outputs": [
        {
          "output_type": "execute_result",
          "data": {
            "text/plain": [
              "      XX level  owner  acc_by_dur  mean_str_dur  std_str_dur  mean_str_len  \\\n",
              "0      0    L4  Natka    0.432488      0.415000     0.317843    180.320240   \n",
              "1      1    L4  Natka    0.481938      0.384000     0.314103    160.513829   \n",
              "2      2    L4  Natka    0.460547      0.484500     0.356255    164.664455   \n",
              "3      3    L4  Natka    0.460486      0.393857     0.304580    164.376146   \n",
              "4      4    L4  Natka    0.455124      0.178750     0.180146     69.920054   \n",
              "..   ...   ...    ...         ...           ...          ...           ...   \n",
              "265  265    L0  Pawel    0.411765      0.272800     0.260273     46.931981   \n",
              "266  266    L0  Pawel    0.408665      0.132115     0.124953     21.105097   \n",
              "267  267    L0  Pawel    0.427708      0.062065     0.060678     11.090570   \n",
              "268  268    L0  Pawel    0.410153      0.152448     0.240040     22.947882   \n",
              "269  269    L0  Pawel    0.432571      0.128720     0.223143     22.091916   \n",
              "\n",
              "     std_str_len       min_acc        max_acc     mean_acc zrc_acc  \\\n",
              "0     135.902605 -70312.500000  207050.983066  3358.667043      86   \n",
              "1     135.078928 -51171.748091   81858.378329  1536.560239      86   \n",
              "2     115.293748 -30596.369823   84294.946825  1800.412073     122   \n",
              "3     136.367438 -55782.312925   79956.676502  2275.156331      96   \n",
              "4      69.772506 -63481.830903  160558.608036  2274.095219      86   \n",
              "..           ...           ...            ...          ...     ...   \n",
              "265    45.889248 -22881.273056   26690.718086   491.991847     151   \n",
              "266    18.425399 -21614.583333   28656.400073   567.799717     172   \n",
              "267    10.258034 -26696.018572   30577.777778   556.646091     163   \n",
              "268    34.991719 -22006.566437   24957.264957   719.636786     164   \n",
              "269    43.303120 -25624.573010   28316.494450   387.791147     161   \n",
              "\n",
              "     mean_str_press  std_str_press  mean_dir_change_vel  \n",
              "0        585.737978     112.616332            29.697667  \n",
              "1        589.315932      92.861890            32.019767  \n",
              "2        649.651359      76.108875            30.598403  \n",
              "3        558.625072      86.573288            32.956305  \n",
              "4        571.694538     113.505208            30.316241  \n",
              "..              ...            ...                  ...  \n",
              "265      696.555961      81.576547            31.991886  \n",
              "266      649.196103     213.758048            31.493602  \n",
              "267      646.957793     167.679769            32.361095  \n",
              "268      627.095983     221.749669            30.870444  \n",
              "269      702.910192     108.493199            33.622483  \n",
              "\n",
              "[270 rows x 15 columns]"
            ],
            "text/html": [
              "\n",
              "  <div id=\"df-d4c4beb2-1eef-4385-952f-915fa2cd60ed\">\n",
              "    <div class=\"colab-df-container\">\n",
              "      <div>\n",
              "<style scoped>\n",
              "    .dataframe tbody tr th:only-of-type {\n",
              "        vertical-align: middle;\n",
              "    }\n",
              "\n",
              "    .dataframe tbody tr th {\n",
              "        vertical-align: top;\n",
              "    }\n",
              "\n",
              "    .dataframe thead th {\n",
              "        text-align: right;\n",
              "    }\n",
              "</style>\n",
              "<table border=\"1\" class=\"dataframe\">\n",
              "  <thead>\n",
              "    <tr style=\"text-align: right;\">\n",
              "      <th></th>\n",
              "      <th>XX</th>\n",
              "      <th>level</th>\n",
              "      <th>owner</th>\n",
              "      <th>acc_by_dur</th>\n",
              "      <th>mean_str_dur</th>\n",
              "      <th>std_str_dur</th>\n",
              "      <th>mean_str_len</th>\n",
              "      <th>std_str_len</th>\n",
              "      <th>min_acc</th>\n",
              "      <th>max_acc</th>\n",
              "      <th>mean_acc</th>\n",
              "      <th>zrc_acc</th>\n",
              "      <th>mean_str_press</th>\n",
              "      <th>std_str_press</th>\n",
              "      <th>mean_dir_change_vel</th>\n",
              "    </tr>\n",
              "  </thead>\n",
              "  <tbody>\n",
              "    <tr>\n",
              "      <th>0</th>\n",
              "      <td>0</td>\n",
              "      <td>L4</td>\n",
              "      <td>Natka</td>\n",
              "      <td>0.432488</td>\n",
              "      <td>0.415000</td>\n",
              "      <td>0.317843</td>\n",
              "      <td>180.320240</td>\n",
              "      <td>135.902605</td>\n",
              "      <td>-70312.500000</td>\n",
              "      <td>207050.983066</td>\n",
              "      <td>3358.667043</td>\n",
              "      <td>86</td>\n",
              "      <td>585.737978</td>\n",
              "      <td>112.616332</td>\n",
              "      <td>29.697667</td>\n",
              "    </tr>\n",
              "    <tr>\n",
              "      <th>1</th>\n",
              "      <td>1</td>\n",
              "      <td>L4</td>\n",
              "      <td>Natka</td>\n",
              "      <td>0.481938</td>\n",
              "      <td>0.384000</td>\n",
              "      <td>0.314103</td>\n",
              "      <td>160.513829</td>\n",
              "      <td>135.078928</td>\n",
              "      <td>-51171.748091</td>\n",
              "      <td>81858.378329</td>\n",
              "      <td>1536.560239</td>\n",
              "      <td>86</td>\n",
              "      <td>589.315932</td>\n",
              "      <td>92.861890</td>\n",
              "      <td>32.019767</td>\n",
              "    </tr>\n",
              "    <tr>\n",
              "      <th>2</th>\n",
              "      <td>2</td>\n",
              "      <td>L4</td>\n",
              "      <td>Natka</td>\n",
              "      <td>0.460547</td>\n",
              "      <td>0.484500</td>\n",
              "      <td>0.356255</td>\n",
              "      <td>164.664455</td>\n",
              "      <td>115.293748</td>\n",
              "      <td>-30596.369823</td>\n",
              "      <td>84294.946825</td>\n",
              "      <td>1800.412073</td>\n",
              "      <td>122</td>\n",
              "      <td>649.651359</td>\n",
              "      <td>76.108875</td>\n",
              "      <td>30.598403</td>\n",
              "    </tr>\n",
              "    <tr>\n",
              "      <th>3</th>\n",
              "      <td>3</td>\n",
              "      <td>L4</td>\n",
              "      <td>Natka</td>\n",
              "      <td>0.460486</td>\n",
              "      <td>0.393857</td>\n",
              "      <td>0.304580</td>\n",
              "      <td>164.376146</td>\n",
              "      <td>136.367438</td>\n",
              "      <td>-55782.312925</td>\n",
              "      <td>79956.676502</td>\n",
              "      <td>2275.156331</td>\n",
              "      <td>96</td>\n",
              "      <td>558.625072</td>\n",
              "      <td>86.573288</td>\n",
              "      <td>32.956305</td>\n",
              "    </tr>\n",
              "    <tr>\n",
              "      <th>4</th>\n",
              "      <td>4</td>\n",
              "      <td>L4</td>\n",
              "      <td>Natka</td>\n",
              "      <td>0.455124</td>\n",
              "      <td>0.178750</td>\n",
              "      <td>0.180146</td>\n",
              "      <td>69.920054</td>\n",
              "      <td>69.772506</td>\n",
              "      <td>-63481.830903</td>\n",
              "      <td>160558.608036</td>\n",
              "      <td>2274.095219</td>\n",
              "      <td>86</td>\n",
              "      <td>571.694538</td>\n",
              "      <td>113.505208</td>\n",
              "      <td>30.316241</td>\n",
              "    </tr>\n",
              "    <tr>\n",
              "      <th>...</th>\n",
              "      <td>...</td>\n",
              "      <td>...</td>\n",
              "      <td>...</td>\n",
              "      <td>...</td>\n",
              "      <td>...</td>\n",
              "      <td>...</td>\n",
              "      <td>...</td>\n",
              "      <td>...</td>\n",
              "      <td>...</td>\n",
              "      <td>...</td>\n",
              "      <td>...</td>\n",
              "      <td>...</td>\n",
              "      <td>...</td>\n",
              "      <td>...</td>\n",
              "      <td>...</td>\n",
              "    </tr>\n",
              "    <tr>\n",
              "      <th>265</th>\n",
              "      <td>265</td>\n",
              "      <td>L0</td>\n",
              "      <td>Pawel</td>\n",
              "      <td>0.411765</td>\n",
              "      <td>0.272800</td>\n",
              "      <td>0.260273</td>\n",
              "      <td>46.931981</td>\n",
              "      <td>45.889248</td>\n",
              "      <td>-22881.273056</td>\n",
              "      <td>26690.718086</td>\n",
              "      <td>491.991847</td>\n",
              "      <td>151</td>\n",
              "      <td>696.555961</td>\n",
              "      <td>81.576547</td>\n",
              "      <td>31.991886</td>\n",
              "    </tr>\n",
              "    <tr>\n",
              "      <th>266</th>\n",
              "      <td>266</td>\n",
              "      <td>L0</td>\n",
              "      <td>Pawel</td>\n",
              "      <td>0.408665</td>\n",
              "      <td>0.132115</td>\n",
              "      <td>0.124953</td>\n",
              "      <td>21.105097</td>\n",
              "      <td>18.425399</td>\n",
              "      <td>-21614.583333</td>\n",
              "      <td>28656.400073</td>\n",
              "      <td>567.799717</td>\n",
              "      <td>172</td>\n",
              "      <td>649.196103</td>\n",
              "      <td>213.758048</td>\n",
              "      <td>31.493602</td>\n",
              "    </tr>\n",
              "    <tr>\n",
              "      <th>267</th>\n",
              "      <td>267</td>\n",
              "      <td>L0</td>\n",
              "      <td>Pawel</td>\n",
              "      <td>0.427708</td>\n",
              "      <td>0.062065</td>\n",
              "      <td>0.060678</td>\n",
              "      <td>11.090570</td>\n",
              "      <td>10.258034</td>\n",
              "      <td>-26696.018572</td>\n",
              "      <td>30577.777778</td>\n",
              "      <td>556.646091</td>\n",
              "      <td>163</td>\n",
              "      <td>646.957793</td>\n",
              "      <td>167.679769</td>\n",
              "      <td>32.361095</td>\n",
              "    </tr>\n",
              "    <tr>\n",
              "      <th>268</th>\n",
              "      <td>268</td>\n",
              "      <td>L0</td>\n",
              "      <td>Pawel</td>\n",
              "      <td>0.410153</td>\n",
              "      <td>0.152448</td>\n",
              "      <td>0.240040</td>\n",
              "      <td>22.947882</td>\n",
              "      <td>34.991719</td>\n",
              "      <td>-22006.566437</td>\n",
              "      <td>24957.264957</td>\n",
              "      <td>719.636786</td>\n",
              "      <td>164</td>\n",
              "      <td>627.095983</td>\n",
              "      <td>221.749669</td>\n",
              "      <td>30.870444</td>\n",
              "    </tr>\n",
              "    <tr>\n",
              "      <th>269</th>\n",
              "      <td>269</td>\n",
              "      <td>L0</td>\n",
              "      <td>Pawel</td>\n",
              "      <td>0.432571</td>\n",
              "      <td>0.128720</td>\n",
              "      <td>0.223143</td>\n",
              "      <td>22.091916</td>\n",
              "      <td>43.303120</td>\n",
              "      <td>-25624.573010</td>\n",
              "      <td>28316.494450</td>\n",
              "      <td>387.791147</td>\n",
              "      <td>161</td>\n",
              "      <td>702.910192</td>\n",
              "      <td>108.493199</td>\n",
              "      <td>33.622483</td>\n",
              "    </tr>\n",
              "  </tbody>\n",
              "</table>\n",
              "<p>270 rows × 15 columns</p>\n",
              "</div>\n",
              "      <button class=\"colab-df-convert\" onclick=\"convertToInteractive('df-d4c4beb2-1eef-4385-952f-915fa2cd60ed')\"\n",
              "              title=\"Convert this dataframe to an interactive table.\"\n",
              "              style=\"display:none;\">\n",
              "        \n",
              "  <svg xmlns=\"http://www.w3.org/2000/svg\" height=\"24px\"viewBox=\"0 0 24 24\"\n",
              "       width=\"24px\">\n",
              "    <path d=\"M0 0h24v24H0V0z\" fill=\"none\"/>\n",
              "    <path d=\"M18.56 5.44l.94 2.06.94-2.06 2.06-.94-2.06-.94-.94-2.06-.94 2.06-2.06.94zm-11 1L8.5 8.5l.94-2.06 2.06-.94-2.06-.94L8.5 2.5l-.94 2.06-2.06.94zm10 10l.94 2.06.94-2.06 2.06-.94-2.06-.94-.94-2.06-.94 2.06-2.06.94z\"/><path d=\"M17.41 7.96l-1.37-1.37c-.4-.4-.92-.59-1.43-.59-.52 0-1.04.2-1.43.59L10.3 9.45l-7.72 7.72c-.78.78-.78 2.05 0 2.83L4 21.41c.39.39.9.59 1.41.59.51 0 1.02-.2 1.41-.59l7.78-7.78 2.81-2.81c.8-.78.8-2.07 0-2.86zM5.41 20L4 18.59l7.72-7.72 1.47 1.35L5.41 20z\"/>\n",
              "  </svg>\n",
              "      </button>\n",
              "      \n",
              "  <style>\n",
              "    .colab-df-container {\n",
              "      display:flex;\n",
              "      flex-wrap:wrap;\n",
              "      gap: 12px;\n",
              "    }\n",
              "\n",
              "    .colab-df-convert {\n",
              "      background-color: #E8F0FE;\n",
              "      border: none;\n",
              "      border-radius: 50%;\n",
              "      cursor: pointer;\n",
              "      display: none;\n",
              "      fill: #1967D2;\n",
              "      height: 32px;\n",
              "      padding: 0 0 0 0;\n",
              "      width: 32px;\n",
              "    }\n",
              "\n",
              "    .colab-df-convert:hover {\n",
              "      background-color: #E2EBFA;\n",
              "      box-shadow: 0px 1px 2px rgba(60, 64, 67, 0.3), 0px 1px 3px 1px rgba(60, 64, 67, 0.15);\n",
              "      fill: #174EA6;\n",
              "    }\n",
              "\n",
              "    [theme=dark] .colab-df-convert {\n",
              "      background-color: #3B4455;\n",
              "      fill: #D2E3FC;\n",
              "    }\n",
              "\n",
              "    [theme=dark] .colab-df-convert:hover {\n",
              "      background-color: #434B5C;\n",
              "      box-shadow: 0px 1px 3px 1px rgba(0, 0, 0, 0.15);\n",
              "      filter: drop-shadow(0px 1px 2px rgba(0, 0, 0, 0.3));\n",
              "      fill: #FFFFFF;\n",
              "    }\n",
              "  </style>\n",
              "\n",
              "      <script>\n",
              "        const buttonEl =\n",
              "          document.querySelector('#df-d4c4beb2-1eef-4385-952f-915fa2cd60ed button.colab-df-convert');\n",
              "        buttonEl.style.display =\n",
              "          google.colab.kernel.accessAllowed ? 'block' : 'none';\n",
              "\n",
              "        async function convertToInteractive(key) {\n",
              "          const element = document.querySelector('#df-d4c4beb2-1eef-4385-952f-915fa2cd60ed');\n",
              "          const dataTable =\n",
              "            await google.colab.kernel.invokeFunction('convertToInteractive',\n",
              "                                                     [key], {});\n",
              "          if (!dataTable) return;\n",
              "\n",
              "          const docLinkHtml = 'Like what you see? Visit the ' +\n",
              "            '<a target=\"_blank\" href=https://colab.research.google.com/notebooks/data_table.ipynb>data table notebook</a>'\n",
              "            + ' to learn more about interactive tables.';\n",
              "          element.innerHTML = '';\n",
              "          dataTable['output_type'] = 'display_data';\n",
              "          await google.colab.output.renderOutput(dataTable, element);\n",
              "          const docLink = document.createElement('div');\n",
              "          docLink.innerHTML = docLinkHtml;\n",
              "          element.appendChild(docLink);\n",
              "        }\n",
              "      </script>\n",
              "    </div>\n",
              "  </div>\n",
              "  "
            ]
          },
          "metadata": {},
          "execution_count": 8
        }
      ]
    },
    {
      "cell_type": "code",
      "source": [
        "df.to_csv('/content/drive/MyDrive/Alkohol_dane/Alkohol_dane.csv',index=False)"
      ],
      "metadata": {
        "id": "EZRa1JzUmwtG"
      },
      "execution_count": 9,
      "outputs": []
    },
    {
      "cell_type": "markdown",
      "source": [
        "# Read CSV and explore data"
      ],
      "metadata": {
        "id": "V9kgRtgtqiFd"
      }
    },
    {
      "cell_type": "code",
      "source": [
        "pip install scipy -U"
      ],
      "metadata": {
        "colab": {
          "base_uri": "https://localhost:8080/"
        },
        "id": "CY3E12i1iMsc",
        "outputId": "ac713e87-32b6-46fe-9994-02ec86964ff7"
      },
      "execution_count": 1,
      "outputs": [
        {
          "output_type": "stream",
          "name": "stdout",
          "text": [
            "Looking in indexes: https://pypi.org/simple, https://us-python.pkg.dev/colab-wheels/public/simple/\n",
            "Requirement already satisfied: scipy in /usr/local/lib/python3.7/dist-packages (1.7.3)\n",
            "Requirement already satisfied: numpy<1.23.0,>=1.16.5 in /usr/local/lib/python3.7/dist-packages (from scipy) (1.21.6)\n"
          ]
        }
      ]
    },
    {
      "cell_type": "code",
      "source": [
        "pip install scikit_posthocs"
      ],
      "metadata": {
        "colab": {
          "base_uri": "https://localhost:8080/"
        },
        "id": "kojZAq8dpjH4",
        "outputId": "35996945-5505-4a19-daed-d23cfa92d1a2"
      },
      "execution_count": 3,
      "outputs": [
        {
          "output_type": "stream",
          "name": "stdout",
          "text": [
            "Looking in indexes: https://pypi.org/simple, https://us-python.pkg.dev/colab-wheels/public/simple/\n",
            "Collecting scikit_posthocs\n",
            "  Downloading scikit_posthocs-0.7.0-py3-none-any.whl (38 kB)\n",
            "Requirement already satisfied: seaborn in /usr/local/lib/python3.7/dist-packages (from scikit_posthocs) (0.11.2)\n",
            "Requirement already satisfied: scipy in /usr/local/lib/python3.7/dist-packages (from scikit_posthocs) (1.7.3)\n",
            "Requirement already satisfied: numpy in /usr/local/lib/python3.7/dist-packages (from scikit_posthocs) (1.21.6)\n",
            "Requirement already satisfied: matplotlib in /usr/local/lib/python3.7/dist-packages (from scikit_posthocs) (3.2.2)\n",
            "Requirement already satisfied: pandas>=0.20.0 in /usr/local/lib/python3.7/dist-packages (from scikit_posthocs) (1.3.5)\n",
            "Requirement already satisfied: statsmodels in /usr/local/lib/python3.7/dist-packages (from scikit_posthocs) (0.10.2)\n",
            "Requirement already satisfied: pytz>=2017.3 in /usr/local/lib/python3.7/dist-packages (from pandas>=0.20.0->scikit_posthocs) (2022.1)\n",
            "Requirement already satisfied: python-dateutil>=2.7.3 in /usr/local/lib/python3.7/dist-packages (from pandas>=0.20.0->scikit_posthocs) (2.8.2)\n",
            "Requirement already satisfied: six>=1.5 in /usr/local/lib/python3.7/dist-packages (from python-dateutil>=2.7.3->pandas>=0.20.0->scikit_posthocs) (1.15.0)\n",
            "Requirement already satisfied: kiwisolver>=1.0.1 in /usr/local/lib/python3.7/dist-packages (from matplotlib->scikit_posthocs) (1.4.3)\n",
            "Requirement already satisfied: cycler>=0.10 in /usr/local/lib/python3.7/dist-packages (from matplotlib->scikit_posthocs) (0.11.0)\n",
            "Requirement already satisfied: pyparsing!=2.0.4,!=2.1.2,!=2.1.6,>=2.0.1 in /usr/local/lib/python3.7/dist-packages (from matplotlib->scikit_posthocs) (3.0.9)\n",
            "Requirement already satisfied: typing-extensions in /usr/local/lib/python3.7/dist-packages (from kiwisolver>=1.0.1->matplotlib->scikit_posthocs) (4.1.1)\n",
            "Requirement already satisfied: patsy>=0.4.0 in /usr/local/lib/python3.7/dist-packages (from statsmodels->scikit_posthocs) (0.5.2)\n",
            "Installing collected packages: scikit-posthocs\n",
            "Successfully installed scikit-posthocs-0.7.0\n"
          ]
        }
      ]
    },
    {
      "cell_type": "code",
      "source": [
        "import os, shutil\n",
        "import time, datetime, pickle\n",
        "import pandas as pd\n",
        "import numpy as np\n",
        "import matplotlib.pyplot as plt\n",
        "import seaborn as sns\n",
        "import statsmodels.api as sm\n",
        "from statsmodels.formula.api import ols\n",
        "from scipy import stats\n",
        "from IPython.display import display, HTML\n",
        "import scikit_posthocs as sp\n",
        "\n",
        "data_fname = 'Alkohol_dane.csv'\n",
        "data_dir = '/content/drive/MyDrive/Alkohol_dane/'"
      ],
      "metadata": {
        "id": "v2W-O-8qqhes",
        "colab": {
          "base_uri": "https://localhost:8080/"
        },
        "outputId": "6d258599-ad2d-4496-8f3d-65f58cd8fe20"
      },
      "execution_count": 4,
      "outputs": [
        {
          "output_type": "stream",
          "name": "stderr",
          "text": [
            "/usr/local/lib/python3.7/dist-packages/statsmodels/tools/_testing.py:19: FutureWarning: pandas.util.testing is deprecated. Use the functions in the public API at pandas.testing instead.\n",
            "  import pandas.util.testing as tm\n"
          ]
        }
      ]
    },
    {
      "cell_type": "code",
      "source": [
        ""
      ],
      "metadata": {
        "id": "UQnKhs1MiLni"
      },
      "execution_count": null,
      "outputs": []
    },
    {
      "cell_type": "code",
      "source": [
        "db_raw = pd.read_csv(os.path.join(data_dir, data_fname))\n",
        "\n",
        "# Convert the first variable to category type\n",
        "db_raw['XX'] = db_raw['XX'].astype('category')\n",
        "# db_raw['category'] = db_raw['category'].astype('category')\n",
        "\n",
        "n_all_features = db_raw.shape[1] - 3\n",
        "\n",
        "print('Raw data shape:', db_raw.shape)"
      ],
      "metadata": {
        "colab": {
          "base_uri": "https://localhost:8080/"
        },
        "id": "WZxXe_F7rCvj",
        "outputId": "4edc735b-d280-4494-bd17-1203896db1ee"
      },
      "execution_count": 5,
      "outputs": [
        {
          "output_type": "stream",
          "name": "stdout",
          "text": [
            "Raw data shape: (270, 15)\n"
          ]
        }
      ]
    },
    {
      "cell_type": "code",
      "source": [
        "db_raw"
      ],
      "metadata": {
        "colab": {
          "base_uri": "https://localhost:8080/",
          "height": 468
        },
        "id": "OHSpvyqRsbYO",
        "outputId": "3128701f-8192-4554-e286-92137ca652dc"
      },
      "execution_count": 6,
      "outputs": [
        {
          "output_type": "execute_result",
          "data": {
            "text/plain": [
              "      XX level  owner  acc_by_dur  mean_str_dur  std_str_dur  mean_str_len  \\\n",
              "0      0    L4  Natka    0.432488      0.415000     0.317843    180.320240   \n",
              "1      1    L4  Natka    0.481938      0.384000     0.314103    160.513829   \n",
              "2      2    L4  Natka    0.460547      0.484500     0.356255    164.664455   \n",
              "3      3    L4  Natka    0.460486      0.393857     0.304580    164.376146   \n",
              "4      4    L4  Natka    0.455124      0.178750     0.180146     69.920054   \n",
              "..   ...   ...    ...         ...           ...          ...           ...   \n",
              "265  265    L0  Pawel    0.411765      0.272800     0.260273     46.931981   \n",
              "266  266    L0  Pawel    0.408665      0.132115     0.124953     21.105097   \n",
              "267  267    L0  Pawel    0.427708      0.062065     0.060678     11.090570   \n",
              "268  268    L0  Pawel    0.410153      0.152448     0.240040     22.947882   \n",
              "269  269    L0  Pawel    0.432571      0.128720     0.223143     22.091916   \n",
              "\n",
              "     std_str_len       min_acc        max_acc     mean_acc  zrc_acc  \\\n",
              "0     135.902605 -70312.500000  207050.983066  3358.667043       86   \n",
              "1     135.078928 -51171.748091   81858.378329  1536.560239       86   \n",
              "2     115.293748 -30596.369823   84294.946825  1800.412073      122   \n",
              "3     136.367438 -55782.312925   79956.676502  2275.156331       96   \n",
              "4      69.772506 -63481.830903  160558.608036  2274.095219       86   \n",
              "..           ...           ...            ...          ...      ...   \n",
              "265    45.889248 -22881.273056   26690.718086   491.991847      151   \n",
              "266    18.425399 -21614.583333   28656.400073   567.799717      172   \n",
              "267    10.258034 -26696.018572   30577.777778   556.646091      163   \n",
              "268    34.991719 -22006.566437   24957.264957   719.636786      164   \n",
              "269    43.303120 -25624.573010   28316.494450   387.791147      161   \n",
              "\n",
              "     mean_str_press  std_str_press  mean_dir_change_vel  \n",
              "0        585.737978     112.616332            29.697667  \n",
              "1        589.315932      92.861890            32.019767  \n",
              "2        649.651359      76.108875            30.598403  \n",
              "3        558.625072      86.573288            32.956305  \n",
              "4        571.694538     113.505208            30.316241  \n",
              "..              ...            ...                  ...  \n",
              "265      696.555961      81.576547            31.991886  \n",
              "266      649.196103     213.758048            31.493602  \n",
              "267      646.957793     167.679769            32.361095  \n",
              "268      627.095983     221.749669            30.870444  \n",
              "269      702.910192     108.493199            33.622483  \n",
              "\n",
              "[270 rows x 15 columns]"
            ],
            "text/html": [
              "\n",
              "  <div id=\"df-26ac3f88-9171-4a7a-bfae-0a27f1ec4be5\">\n",
              "    <div class=\"colab-df-container\">\n",
              "      <div>\n",
              "<style scoped>\n",
              "    .dataframe tbody tr th:only-of-type {\n",
              "        vertical-align: middle;\n",
              "    }\n",
              "\n",
              "    .dataframe tbody tr th {\n",
              "        vertical-align: top;\n",
              "    }\n",
              "\n",
              "    .dataframe thead th {\n",
              "        text-align: right;\n",
              "    }\n",
              "</style>\n",
              "<table border=\"1\" class=\"dataframe\">\n",
              "  <thead>\n",
              "    <tr style=\"text-align: right;\">\n",
              "      <th></th>\n",
              "      <th>XX</th>\n",
              "      <th>level</th>\n",
              "      <th>owner</th>\n",
              "      <th>acc_by_dur</th>\n",
              "      <th>mean_str_dur</th>\n",
              "      <th>std_str_dur</th>\n",
              "      <th>mean_str_len</th>\n",
              "      <th>std_str_len</th>\n",
              "      <th>min_acc</th>\n",
              "      <th>max_acc</th>\n",
              "      <th>mean_acc</th>\n",
              "      <th>zrc_acc</th>\n",
              "      <th>mean_str_press</th>\n",
              "      <th>std_str_press</th>\n",
              "      <th>mean_dir_change_vel</th>\n",
              "    </tr>\n",
              "  </thead>\n",
              "  <tbody>\n",
              "    <tr>\n",
              "      <th>0</th>\n",
              "      <td>0</td>\n",
              "      <td>L4</td>\n",
              "      <td>Natka</td>\n",
              "      <td>0.432488</td>\n",
              "      <td>0.415000</td>\n",
              "      <td>0.317843</td>\n",
              "      <td>180.320240</td>\n",
              "      <td>135.902605</td>\n",
              "      <td>-70312.500000</td>\n",
              "      <td>207050.983066</td>\n",
              "      <td>3358.667043</td>\n",
              "      <td>86</td>\n",
              "      <td>585.737978</td>\n",
              "      <td>112.616332</td>\n",
              "      <td>29.697667</td>\n",
              "    </tr>\n",
              "    <tr>\n",
              "      <th>1</th>\n",
              "      <td>1</td>\n",
              "      <td>L4</td>\n",
              "      <td>Natka</td>\n",
              "      <td>0.481938</td>\n",
              "      <td>0.384000</td>\n",
              "      <td>0.314103</td>\n",
              "      <td>160.513829</td>\n",
              "      <td>135.078928</td>\n",
              "      <td>-51171.748091</td>\n",
              "      <td>81858.378329</td>\n",
              "      <td>1536.560239</td>\n",
              "      <td>86</td>\n",
              "      <td>589.315932</td>\n",
              "      <td>92.861890</td>\n",
              "      <td>32.019767</td>\n",
              "    </tr>\n",
              "    <tr>\n",
              "      <th>2</th>\n",
              "      <td>2</td>\n",
              "      <td>L4</td>\n",
              "      <td>Natka</td>\n",
              "      <td>0.460547</td>\n",
              "      <td>0.484500</td>\n",
              "      <td>0.356255</td>\n",
              "      <td>164.664455</td>\n",
              "      <td>115.293748</td>\n",
              "      <td>-30596.369823</td>\n",
              "      <td>84294.946825</td>\n",
              "      <td>1800.412073</td>\n",
              "      <td>122</td>\n",
              "      <td>649.651359</td>\n",
              "      <td>76.108875</td>\n",
              "      <td>30.598403</td>\n",
              "    </tr>\n",
              "    <tr>\n",
              "      <th>3</th>\n",
              "      <td>3</td>\n",
              "      <td>L4</td>\n",
              "      <td>Natka</td>\n",
              "      <td>0.460486</td>\n",
              "      <td>0.393857</td>\n",
              "      <td>0.304580</td>\n",
              "      <td>164.376146</td>\n",
              "      <td>136.367438</td>\n",
              "      <td>-55782.312925</td>\n",
              "      <td>79956.676502</td>\n",
              "      <td>2275.156331</td>\n",
              "      <td>96</td>\n",
              "      <td>558.625072</td>\n",
              "      <td>86.573288</td>\n",
              "      <td>32.956305</td>\n",
              "    </tr>\n",
              "    <tr>\n",
              "      <th>4</th>\n",
              "      <td>4</td>\n",
              "      <td>L4</td>\n",
              "      <td>Natka</td>\n",
              "      <td>0.455124</td>\n",
              "      <td>0.178750</td>\n",
              "      <td>0.180146</td>\n",
              "      <td>69.920054</td>\n",
              "      <td>69.772506</td>\n",
              "      <td>-63481.830903</td>\n",
              "      <td>160558.608036</td>\n",
              "      <td>2274.095219</td>\n",
              "      <td>86</td>\n",
              "      <td>571.694538</td>\n",
              "      <td>113.505208</td>\n",
              "      <td>30.316241</td>\n",
              "    </tr>\n",
              "    <tr>\n",
              "      <th>...</th>\n",
              "      <td>...</td>\n",
              "      <td>...</td>\n",
              "      <td>...</td>\n",
              "      <td>...</td>\n",
              "      <td>...</td>\n",
              "      <td>...</td>\n",
              "      <td>...</td>\n",
              "      <td>...</td>\n",
              "      <td>...</td>\n",
              "      <td>...</td>\n",
              "      <td>...</td>\n",
              "      <td>...</td>\n",
              "      <td>...</td>\n",
              "      <td>...</td>\n",
              "      <td>...</td>\n",
              "    </tr>\n",
              "    <tr>\n",
              "      <th>265</th>\n",
              "      <td>265</td>\n",
              "      <td>L0</td>\n",
              "      <td>Pawel</td>\n",
              "      <td>0.411765</td>\n",
              "      <td>0.272800</td>\n",
              "      <td>0.260273</td>\n",
              "      <td>46.931981</td>\n",
              "      <td>45.889248</td>\n",
              "      <td>-22881.273056</td>\n",
              "      <td>26690.718086</td>\n",
              "      <td>491.991847</td>\n",
              "      <td>151</td>\n",
              "      <td>696.555961</td>\n",
              "      <td>81.576547</td>\n",
              "      <td>31.991886</td>\n",
              "    </tr>\n",
              "    <tr>\n",
              "      <th>266</th>\n",
              "      <td>266</td>\n",
              "      <td>L0</td>\n",
              "      <td>Pawel</td>\n",
              "      <td>0.408665</td>\n",
              "      <td>0.132115</td>\n",
              "      <td>0.124953</td>\n",
              "      <td>21.105097</td>\n",
              "      <td>18.425399</td>\n",
              "      <td>-21614.583333</td>\n",
              "      <td>28656.400073</td>\n",
              "      <td>567.799717</td>\n",
              "      <td>172</td>\n",
              "      <td>649.196103</td>\n",
              "      <td>213.758048</td>\n",
              "      <td>31.493602</td>\n",
              "    </tr>\n",
              "    <tr>\n",
              "      <th>267</th>\n",
              "      <td>267</td>\n",
              "      <td>L0</td>\n",
              "      <td>Pawel</td>\n",
              "      <td>0.427708</td>\n",
              "      <td>0.062065</td>\n",
              "      <td>0.060678</td>\n",
              "      <td>11.090570</td>\n",
              "      <td>10.258034</td>\n",
              "      <td>-26696.018572</td>\n",
              "      <td>30577.777778</td>\n",
              "      <td>556.646091</td>\n",
              "      <td>163</td>\n",
              "      <td>646.957793</td>\n",
              "      <td>167.679769</td>\n",
              "      <td>32.361095</td>\n",
              "    </tr>\n",
              "    <tr>\n",
              "      <th>268</th>\n",
              "      <td>268</td>\n",
              "      <td>L0</td>\n",
              "      <td>Pawel</td>\n",
              "      <td>0.410153</td>\n",
              "      <td>0.152448</td>\n",
              "      <td>0.240040</td>\n",
              "      <td>22.947882</td>\n",
              "      <td>34.991719</td>\n",
              "      <td>-22006.566437</td>\n",
              "      <td>24957.264957</td>\n",
              "      <td>719.636786</td>\n",
              "      <td>164</td>\n",
              "      <td>627.095983</td>\n",
              "      <td>221.749669</td>\n",
              "      <td>30.870444</td>\n",
              "    </tr>\n",
              "    <tr>\n",
              "      <th>269</th>\n",
              "      <td>269</td>\n",
              "      <td>L0</td>\n",
              "      <td>Pawel</td>\n",
              "      <td>0.432571</td>\n",
              "      <td>0.128720</td>\n",
              "      <td>0.223143</td>\n",
              "      <td>22.091916</td>\n",
              "      <td>43.303120</td>\n",
              "      <td>-25624.573010</td>\n",
              "      <td>28316.494450</td>\n",
              "      <td>387.791147</td>\n",
              "      <td>161</td>\n",
              "      <td>702.910192</td>\n",
              "      <td>108.493199</td>\n",
              "      <td>33.622483</td>\n",
              "    </tr>\n",
              "  </tbody>\n",
              "</table>\n",
              "<p>270 rows × 15 columns</p>\n",
              "</div>\n",
              "      <button class=\"colab-df-convert\" onclick=\"convertToInteractive('df-26ac3f88-9171-4a7a-bfae-0a27f1ec4be5')\"\n",
              "              title=\"Convert this dataframe to an interactive table.\"\n",
              "              style=\"display:none;\">\n",
              "        \n",
              "  <svg xmlns=\"http://www.w3.org/2000/svg\" height=\"24px\"viewBox=\"0 0 24 24\"\n",
              "       width=\"24px\">\n",
              "    <path d=\"M0 0h24v24H0V0z\" fill=\"none\"/>\n",
              "    <path d=\"M18.56 5.44l.94 2.06.94-2.06 2.06-.94-2.06-.94-.94-2.06-.94 2.06-2.06.94zm-11 1L8.5 8.5l.94-2.06 2.06-.94-2.06-.94L8.5 2.5l-.94 2.06-2.06.94zm10 10l.94 2.06.94-2.06 2.06-.94-2.06-.94-.94-2.06-.94 2.06-2.06.94z\"/><path d=\"M17.41 7.96l-1.37-1.37c-.4-.4-.92-.59-1.43-.59-.52 0-1.04.2-1.43.59L10.3 9.45l-7.72 7.72c-.78.78-.78 2.05 0 2.83L4 21.41c.39.39.9.59 1.41.59.51 0 1.02-.2 1.41-.59l7.78-7.78 2.81-2.81c.8-.78.8-2.07 0-2.86zM5.41 20L4 18.59l7.72-7.72 1.47 1.35L5.41 20z\"/>\n",
              "  </svg>\n",
              "      </button>\n",
              "      \n",
              "  <style>\n",
              "    .colab-df-container {\n",
              "      display:flex;\n",
              "      flex-wrap:wrap;\n",
              "      gap: 12px;\n",
              "    }\n",
              "\n",
              "    .colab-df-convert {\n",
              "      background-color: #E8F0FE;\n",
              "      border: none;\n",
              "      border-radius: 50%;\n",
              "      cursor: pointer;\n",
              "      display: none;\n",
              "      fill: #1967D2;\n",
              "      height: 32px;\n",
              "      padding: 0 0 0 0;\n",
              "      width: 32px;\n",
              "    }\n",
              "\n",
              "    .colab-df-convert:hover {\n",
              "      background-color: #E2EBFA;\n",
              "      box-shadow: 0px 1px 2px rgba(60, 64, 67, 0.3), 0px 1px 3px 1px rgba(60, 64, 67, 0.15);\n",
              "      fill: #174EA6;\n",
              "    }\n",
              "\n",
              "    [theme=dark] .colab-df-convert {\n",
              "      background-color: #3B4455;\n",
              "      fill: #D2E3FC;\n",
              "    }\n",
              "\n",
              "    [theme=dark] .colab-df-convert:hover {\n",
              "      background-color: #434B5C;\n",
              "      box-shadow: 0px 1px 3px 1px rgba(0, 0, 0, 0.15);\n",
              "      filter: drop-shadow(0px 1px 2px rgba(0, 0, 0, 0.3));\n",
              "      fill: #FFFFFF;\n",
              "    }\n",
              "  </style>\n",
              "\n",
              "      <script>\n",
              "        const buttonEl =\n",
              "          document.querySelector('#df-26ac3f88-9171-4a7a-bfae-0a27f1ec4be5 button.colab-df-convert');\n",
              "        buttonEl.style.display =\n",
              "          google.colab.kernel.accessAllowed ? 'block' : 'none';\n",
              "\n",
              "        async function convertToInteractive(key) {\n",
              "          const element = document.querySelector('#df-26ac3f88-9171-4a7a-bfae-0a27f1ec4be5');\n",
              "          const dataTable =\n",
              "            await google.colab.kernel.invokeFunction('convertToInteractive',\n",
              "                                                     [key], {});\n",
              "          if (!dataTable) return;\n",
              "\n",
              "          const docLinkHtml = 'Like what you see? Visit the ' +\n",
              "            '<a target=\"_blank\" href=https://colab.research.google.com/notebooks/data_table.ipynb>data table notebook</a>'\n",
              "            + ' to learn more about interactive tables.';\n",
              "          element.innerHTML = '';\n",
              "          dataTable['output_type'] = 'display_data';\n",
              "          await google.colab.output.renderOutput(dataTable, element);\n",
              "          const docLink = document.createElement('div');\n",
              "          docLink.innerHTML = docLinkHtml;\n",
              "          element.appendChild(docLink);\n",
              "        }\n",
              "      </script>\n",
              "    </div>\n",
              "  </div>\n",
              "  "
            ]
          },
          "metadata": {},
          "execution_count": 6
        }
      ]
    },
    {
      "cell_type": "code",
      "source": [
        "db_raw.iloc[:,:3].describe(include = 'all').T"
      ],
      "metadata": {
        "colab": {
          "base_uri": "https://localhost:8080/",
          "height": 143
        },
        "id": "onBW_5O-s_zl",
        "outputId": "27796604-be1e-46da-fd86-c15cedf0549e"
      },
      "execution_count": 7,
      "outputs": [
        {
          "output_type": "execute_result",
          "data": {
            "text/plain": [
              "      count unique    top freq\n",
              "XX      270    270      0    1\n",
              "level   270      6     L4   45\n",
              "owner   270      9  Natka   30"
            ],
            "text/html": [
              "\n",
              "  <div id=\"df-1510279c-67e1-4e79-b54f-9c834972d052\">\n",
              "    <div class=\"colab-df-container\">\n",
              "      <div>\n",
              "<style scoped>\n",
              "    .dataframe tbody tr th:only-of-type {\n",
              "        vertical-align: middle;\n",
              "    }\n",
              "\n",
              "    .dataframe tbody tr th {\n",
              "        vertical-align: top;\n",
              "    }\n",
              "\n",
              "    .dataframe thead th {\n",
              "        text-align: right;\n",
              "    }\n",
              "</style>\n",
              "<table border=\"1\" class=\"dataframe\">\n",
              "  <thead>\n",
              "    <tr style=\"text-align: right;\">\n",
              "      <th></th>\n",
              "      <th>count</th>\n",
              "      <th>unique</th>\n",
              "      <th>top</th>\n",
              "      <th>freq</th>\n",
              "    </tr>\n",
              "  </thead>\n",
              "  <tbody>\n",
              "    <tr>\n",
              "      <th>XX</th>\n",
              "      <td>270</td>\n",
              "      <td>270</td>\n",
              "      <td>0</td>\n",
              "      <td>1</td>\n",
              "    </tr>\n",
              "    <tr>\n",
              "      <th>level</th>\n",
              "      <td>270</td>\n",
              "      <td>6</td>\n",
              "      <td>L4</td>\n",
              "      <td>45</td>\n",
              "    </tr>\n",
              "    <tr>\n",
              "      <th>owner</th>\n",
              "      <td>270</td>\n",
              "      <td>9</td>\n",
              "      <td>Natka</td>\n",
              "      <td>30</td>\n",
              "    </tr>\n",
              "  </tbody>\n",
              "</table>\n",
              "</div>\n",
              "      <button class=\"colab-df-convert\" onclick=\"convertToInteractive('df-1510279c-67e1-4e79-b54f-9c834972d052')\"\n",
              "              title=\"Convert this dataframe to an interactive table.\"\n",
              "              style=\"display:none;\">\n",
              "        \n",
              "  <svg xmlns=\"http://www.w3.org/2000/svg\" height=\"24px\"viewBox=\"0 0 24 24\"\n",
              "       width=\"24px\">\n",
              "    <path d=\"M0 0h24v24H0V0z\" fill=\"none\"/>\n",
              "    <path d=\"M18.56 5.44l.94 2.06.94-2.06 2.06-.94-2.06-.94-.94-2.06-.94 2.06-2.06.94zm-11 1L8.5 8.5l.94-2.06 2.06-.94-2.06-.94L8.5 2.5l-.94 2.06-2.06.94zm10 10l.94 2.06.94-2.06 2.06-.94-2.06-.94-.94-2.06-.94 2.06-2.06.94z\"/><path d=\"M17.41 7.96l-1.37-1.37c-.4-.4-.92-.59-1.43-.59-.52 0-1.04.2-1.43.59L10.3 9.45l-7.72 7.72c-.78.78-.78 2.05 0 2.83L4 21.41c.39.39.9.59 1.41.59.51 0 1.02-.2 1.41-.59l7.78-7.78 2.81-2.81c.8-.78.8-2.07 0-2.86zM5.41 20L4 18.59l7.72-7.72 1.47 1.35L5.41 20z\"/>\n",
              "  </svg>\n",
              "      </button>\n",
              "      \n",
              "  <style>\n",
              "    .colab-df-container {\n",
              "      display:flex;\n",
              "      flex-wrap:wrap;\n",
              "      gap: 12px;\n",
              "    }\n",
              "\n",
              "    .colab-df-convert {\n",
              "      background-color: #E8F0FE;\n",
              "      border: none;\n",
              "      border-radius: 50%;\n",
              "      cursor: pointer;\n",
              "      display: none;\n",
              "      fill: #1967D2;\n",
              "      height: 32px;\n",
              "      padding: 0 0 0 0;\n",
              "      width: 32px;\n",
              "    }\n",
              "\n",
              "    .colab-df-convert:hover {\n",
              "      background-color: #E2EBFA;\n",
              "      box-shadow: 0px 1px 2px rgba(60, 64, 67, 0.3), 0px 1px 3px 1px rgba(60, 64, 67, 0.15);\n",
              "      fill: #174EA6;\n",
              "    }\n",
              "\n",
              "    [theme=dark] .colab-df-convert {\n",
              "      background-color: #3B4455;\n",
              "      fill: #D2E3FC;\n",
              "    }\n",
              "\n",
              "    [theme=dark] .colab-df-convert:hover {\n",
              "      background-color: #434B5C;\n",
              "      box-shadow: 0px 1px 3px 1px rgba(0, 0, 0, 0.15);\n",
              "      filter: drop-shadow(0px 1px 2px rgba(0, 0, 0, 0.3));\n",
              "      fill: #FFFFFF;\n",
              "    }\n",
              "  </style>\n",
              "\n",
              "      <script>\n",
              "        const buttonEl =\n",
              "          document.querySelector('#df-1510279c-67e1-4e79-b54f-9c834972d052 button.colab-df-convert');\n",
              "        buttonEl.style.display =\n",
              "          google.colab.kernel.accessAllowed ? 'block' : 'none';\n",
              "\n",
              "        async function convertToInteractive(key) {\n",
              "          const element = document.querySelector('#df-1510279c-67e1-4e79-b54f-9c834972d052');\n",
              "          const dataTable =\n",
              "            await google.colab.kernel.invokeFunction('convertToInteractive',\n",
              "                                                     [key], {});\n",
              "          if (!dataTable) return;\n",
              "\n",
              "          const docLinkHtml = 'Like what you see? Visit the ' +\n",
              "            '<a target=\"_blank\" href=https://colab.research.google.com/notebooks/data_table.ipynb>data table notebook</a>'\n",
              "            + ' to learn more about interactive tables.';\n",
              "          element.innerHTML = '';\n",
              "          dataTable['output_type'] = 'display_data';\n",
              "          await google.colab.output.renderOutput(dataTable, element);\n",
              "          const docLink = document.createElement('div');\n",
              "          docLink.innerHTML = docLinkHtml;\n",
              "          element.appendChild(docLink);\n",
              "        }\n",
              "      </script>\n",
              "    </div>\n",
              "  </div>\n",
              "  "
            ]
          },
          "metadata": {},
          "execution_count": 7
        }
      ]
    },
    {
      "cell_type": "code",
      "source": [
        "db_raw.iloc[:,3:].describe(include = 'all').T"
      ],
      "metadata": {
        "colab": {
          "base_uri": "https://localhost:8080/",
          "height": 426
        },
        "id": "oiWRnXWEt3xU",
        "outputId": "3802862f-5950-4585-8cf4-496a0bc9b369"
      },
      "execution_count": 8,
      "outputs": [
        {
          "output_type": "execute_result",
          "data": {
            "text/plain": [
              "                     count          mean           std            min  \\\n",
              "acc_by_dur           270.0      0.472687      0.146058       0.150617   \n",
              "mean_str_dur         270.0      0.090661      1.913591     -19.233667   \n",
              "std_str_dur          270.0      1.166588      4.047741       0.000000   \n",
              "mean_str_len         270.0    115.043080    119.024857      11.090570   \n",
              "std_str_len          270.0     74.593535     52.612974       0.000000   \n",
              "min_acc              270.0 -33604.219154  13972.098755 -109711.768731   \n",
              "max_acc              270.0  53730.637006  36902.662082   17777.777778   \n",
              "mean_acc             270.0   1049.852970    699.948119     131.248466   \n",
              "zrc_acc              270.0    103.455556     48.396249      36.000000   \n",
              "mean_str_press       270.0    678.213664    155.886496     327.221472   \n",
              "std_str_press        270.0     94.707326     56.005016       0.000000   \n",
              "mean_dir_change_vel  270.0     30.587660      3.674465      20.443521   \n",
              "\n",
              "                              25%           50%           75%            max  \n",
              "acc_by_dur               0.410916      0.447148      0.475207       1.107015  \n",
              "mean_str_dur             0.245848      0.352692      0.440208       3.574000  \n",
              "std_str_dur              0.172429      0.243027      0.317582      27.945347  \n",
              "mean_str_len            59.732655     80.529313    124.489958     985.312301  \n",
              "std_str_len             40.204193     59.339869     91.066383     322.276503  \n",
              "min_acc             -38376.773165 -30503.279229 -24150.847016  -11084.852890  \n",
              "max_acc              30702.789511  45879.737332  62500.000000  301469.808417  \n",
              "mean_acc               449.892557   1010.930553   1457.426129    4246.399087  \n",
              "zrc_acc                 67.000000     89.000000    126.500000     233.000000  \n",
              "mean_str_press         565.425072    653.917104    801.259566     987.583829  \n",
              "std_str_press           52.008531     81.637288    122.505621     300.091798  \n",
              "mean_dir_change_vel     27.905143     30.598055     33.039396      41.655542  "
            ],
            "text/html": [
              "\n",
              "  <div id=\"df-3e3b7f8b-e0d3-4000-b1f2-c10af2b7d7d2\">\n",
              "    <div class=\"colab-df-container\">\n",
              "      <div>\n",
              "<style scoped>\n",
              "    .dataframe tbody tr th:only-of-type {\n",
              "        vertical-align: middle;\n",
              "    }\n",
              "\n",
              "    .dataframe tbody tr th {\n",
              "        vertical-align: top;\n",
              "    }\n",
              "\n",
              "    .dataframe thead th {\n",
              "        text-align: right;\n",
              "    }\n",
              "</style>\n",
              "<table border=\"1\" class=\"dataframe\">\n",
              "  <thead>\n",
              "    <tr style=\"text-align: right;\">\n",
              "      <th></th>\n",
              "      <th>count</th>\n",
              "      <th>mean</th>\n",
              "      <th>std</th>\n",
              "      <th>min</th>\n",
              "      <th>25%</th>\n",
              "      <th>50%</th>\n",
              "      <th>75%</th>\n",
              "      <th>max</th>\n",
              "    </tr>\n",
              "  </thead>\n",
              "  <tbody>\n",
              "    <tr>\n",
              "      <th>acc_by_dur</th>\n",
              "      <td>270.0</td>\n",
              "      <td>0.472687</td>\n",
              "      <td>0.146058</td>\n",
              "      <td>0.150617</td>\n",
              "      <td>0.410916</td>\n",
              "      <td>0.447148</td>\n",
              "      <td>0.475207</td>\n",
              "      <td>1.107015</td>\n",
              "    </tr>\n",
              "    <tr>\n",
              "      <th>mean_str_dur</th>\n",
              "      <td>270.0</td>\n",
              "      <td>0.090661</td>\n",
              "      <td>1.913591</td>\n",
              "      <td>-19.233667</td>\n",
              "      <td>0.245848</td>\n",
              "      <td>0.352692</td>\n",
              "      <td>0.440208</td>\n",
              "      <td>3.574000</td>\n",
              "    </tr>\n",
              "    <tr>\n",
              "      <th>std_str_dur</th>\n",
              "      <td>270.0</td>\n",
              "      <td>1.166588</td>\n",
              "      <td>4.047741</td>\n",
              "      <td>0.000000</td>\n",
              "      <td>0.172429</td>\n",
              "      <td>0.243027</td>\n",
              "      <td>0.317582</td>\n",
              "      <td>27.945347</td>\n",
              "    </tr>\n",
              "    <tr>\n",
              "      <th>mean_str_len</th>\n",
              "      <td>270.0</td>\n",
              "      <td>115.043080</td>\n",
              "      <td>119.024857</td>\n",
              "      <td>11.090570</td>\n",
              "      <td>59.732655</td>\n",
              "      <td>80.529313</td>\n",
              "      <td>124.489958</td>\n",
              "      <td>985.312301</td>\n",
              "    </tr>\n",
              "    <tr>\n",
              "      <th>std_str_len</th>\n",
              "      <td>270.0</td>\n",
              "      <td>74.593535</td>\n",
              "      <td>52.612974</td>\n",
              "      <td>0.000000</td>\n",
              "      <td>40.204193</td>\n",
              "      <td>59.339869</td>\n",
              "      <td>91.066383</td>\n",
              "      <td>322.276503</td>\n",
              "    </tr>\n",
              "    <tr>\n",
              "      <th>min_acc</th>\n",
              "      <td>270.0</td>\n",
              "      <td>-33604.219154</td>\n",
              "      <td>13972.098755</td>\n",
              "      <td>-109711.768731</td>\n",
              "      <td>-38376.773165</td>\n",
              "      <td>-30503.279229</td>\n",
              "      <td>-24150.847016</td>\n",
              "      <td>-11084.852890</td>\n",
              "    </tr>\n",
              "    <tr>\n",
              "      <th>max_acc</th>\n",
              "      <td>270.0</td>\n",
              "      <td>53730.637006</td>\n",
              "      <td>36902.662082</td>\n",
              "      <td>17777.777778</td>\n",
              "      <td>30702.789511</td>\n",
              "      <td>45879.737332</td>\n",
              "      <td>62500.000000</td>\n",
              "      <td>301469.808417</td>\n",
              "    </tr>\n",
              "    <tr>\n",
              "      <th>mean_acc</th>\n",
              "      <td>270.0</td>\n",
              "      <td>1049.852970</td>\n",
              "      <td>699.948119</td>\n",
              "      <td>131.248466</td>\n",
              "      <td>449.892557</td>\n",
              "      <td>1010.930553</td>\n",
              "      <td>1457.426129</td>\n",
              "      <td>4246.399087</td>\n",
              "    </tr>\n",
              "    <tr>\n",
              "      <th>zrc_acc</th>\n",
              "      <td>270.0</td>\n",
              "      <td>103.455556</td>\n",
              "      <td>48.396249</td>\n",
              "      <td>36.000000</td>\n",
              "      <td>67.000000</td>\n",
              "      <td>89.000000</td>\n",
              "      <td>126.500000</td>\n",
              "      <td>233.000000</td>\n",
              "    </tr>\n",
              "    <tr>\n",
              "      <th>mean_str_press</th>\n",
              "      <td>270.0</td>\n",
              "      <td>678.213664</td>\n",
              "      <td>155.886496</td>\n",
              "      <td>327.221472</td>\n",
              "      <td>565.425072</td>\n",
              "      <td>653.917104</td>\n",
              "      <td>801.259566</td>\n",
              "      <td>987.583829</td>\n",
              "    </tr>\n",
              "    <tr>\n",
              "      <th>std_str_press</th>\n",
              "      <td>270.0</td>\n",
              "      <td>94.707326</td>\n",
              "      <td>56.005016</td>\n",
              "      <td>0.000000</td>\n",
              "      <td>52.008531</td>\n",
              "      <td>81.637288</td>\n",
              "      <td>122.505621</td>\n",
              "      <td>300.091798</td>\n",
              "    </tr>\n",
              "    <tr>\n",
              "      <th>mean_dir_change_vel</th>\n",
              "      <td>270.0</td>\n",
              "      <td>30.587660</td>\n",
              "      <td>3.674465</td>\n",
              "      <td>20.443521</td>\n",
              "      <td>27.905143</td>\n",
              "      <td>30.598055</td>\n",
              "      <td>33.039396</td>\n",
              "      <td>41.655542</td>\n",
              "    </tr>\n",
              "  </tbody>\n",
              "</table>\n",
              "</div>\n",
              "      <button class=\"colab-df-convert\" onclick=\"convertToInteractive('df-3e3b7f8b-e0d3-4000-b1f2-c10af2b7d7d2')\"\n",
              "              title=\"Convert this dataframe to an interactive table.\"\n",
              "              style=\"display:none;\">\n",
              "        \n",
              "  <svg xmlns=\"http://www.w3.org/2000/svg\" height=\"24px\"viewBox=\"0 0 24 24\"\n",
              "       width=\"24px\">\n",
              "    <path d=\"M0 0h24v24H0V0z\" fill=\"none\"/>\n",
              "    <path d=\"M18.56 5.44l.94 2.06.94-2.06 2.06-.94-2.06-.94-.94-2.06-.94 2.06-2.06.94zm-11 1L8.5 8.5l.94-2.06 2.06-.94-2.06-.94L8.5 2.5l-.94 2.06-2.06.94zm10 10l.94 2.06.94-2.06 2.06-.94-2.06-.94-.94-2.06-.94 2.06-2.06.94z\"/><path d=\"M17.41 7.96l-1.37-1.37c-.4-.4-.92-.59-1.43-.59-.52 0-1.04.2-1.43.59L10.3 9.45l-7.72 7.72c-.78.78-.78 2.05 0 2.83L4 21.41c.39.39.9.59 1.41.59.51 0 1.02-.2 1.41-.59l7.78-7.78 2.81-2.81c.8-.78.8-2.07 0-2.86zM5.41 20L4 18.59l7.72-7.72 1.47 1.35L5.41 20z\"/>\n",
              "  </svg>\n",
              "      </button>\n",
              "      \n",
              "  <style>\n",
              "    .colab-df-container {\n",
              "      display:flex;\n",
              "      flex-wrap:wrap;\n",
              "      gap: 12px;\n",
              "    }\n",
              "\n",
              "    .colab-df-convert {\n",
              "      background-color: #E8F0FE;\n",
              "      border: none;\n",
              "      border-radius: 50%;\n",
              "      cursor: pointer;\n",
              "      display: none;\n",
              "      fill: #1967D2;\n",
              "      height: 32px;\n",
              "      padding: 0 0 0 0;\n",
              "      width: 32px;\n",
              "    }\n",
              "\n",
              "    .colab-df-convert:hover {\n",
              "      background-color: #E2EBFA;\n",
              "      box-shadow: 0px 1px 2px rgba(60, 64, 67, 0.3), 0px 1px 3px 1px rgba(60, 64, 67, 0.15);\n",
              "      fill: #174EA6;\n",
              "    }\n",
              "\n",
              "    [theme=dark] .colab-df-convert {\n",
              "      background-color: #3B4455;\n",
              "      fill: #D2E3FC;\n",
              "    }\n",
              "\n",
              "    [theme=dark] .colab-df-convert:hover {\n",
              "      background-color: #434B5C;\n",
              "      box-shadow: 0px 1px 3px 1px rgba(0, 0, 0, 0.15);\n",
              "      filter: drop-shadow(0px 1px 2px rgba(0, 0, 0, 0.3));\n",
              "      fill: #FFFFFF;\n",
              "    }\n",
              "  </style>\n",
              "\n",
              "      <script>\n",
              "        const buttonEl =\n",
              "          document.querySelector('#df-3e3b7f8b-e0d3-4000-b1f2-c10af2b7d7d2 button.colab-df-convert');\n",
              "        buttonEl.style.display =\n",
              "          google.colab.kernel.accessAllowed ? 'block' : 'none';\n",
              "\n",
              "        async function convertToInteractive(key) {\n",
              "          const element = document.querySelector('#df-3e3b7f8b-e0d3-4000-b1f2-c10af2b7d7d2');\n",
              "          const dataTable =\n",
              "            await google.colab.kernel.invokeFunction('convertToInteractive',\n",
              "                                                     [key], {});\n",
              "          if (!dataTable) return;\n",
              "\n",
              "          const docLinkHtml = 'Like what you see? Visit the ' +\n",
              "            '<a target=\"_blank\" href=https://colab.research.google.com/notebooks/data_table.ipynb>data table notebook</a>'\n",
              "            + ' to learn more about interactive tables.';\n",
              "          element.innerHTML = '';\n",
              "          dataTable['output_type'] = 'display_data';\n",
              "          await google.colab.output.renderOutput(dataTable, element);\n",
              "          const docLink = document.createElement('div');\n",
              "          docLink.innerHTML = docLinkHtml;\n",
              "          element.appendChild(docLink);\n",
              "        }\n",
              "      </script>\n",
              "    </div>\n",
              "  </div>\n",
              "  "
            ]
          },
          "metadata": {},
          "execution_count": 8
        }
      ]
    },
    {
      "cell_type": "code",
      "source": [
        "fig, ax_new = plt.subplots(1,3,figsize=[10,5], sharey=False)\n",
        "db_raw.boxplot(column=['acc_by_dur', 'mean_str_dur','std_str_dur'], by='owner',ax=ax_new,figsize=[10,5])\n",
        "plt.show()"
      ],
      "metadata": {
        "colab": {
          "base_uri": "https://localhost:8080/",
          "height": 416
        },
        "id": "dhwxLj4CuH_C",
        "outputId": "c35eabce-b973-42ae-ac0a-7d4727b95778"
      },
      "execution_count": 9,
      "outputs": [
        {
          "output_type": "stream",
          "name": "stderr",
          "text": [
            "/usr/local/lib/python3.7/dist-packages/pandas/plotting/_matplotlib/boxplot.py:405: UserWarning: When passing multiple axes, sharex and sharey are ignored. These settings must be specified when creating axes\n",
            "  **kwds,\n"
          ]
        },
        {
          "output_type": "display_data",
          "data": {
            "text/plain": [
              "<Figure size 720x360 with 3 Axes>"
            ],
            "image/png": "[encoded data removed]"
          },
          "metadata": {
            "needs_background": "light"
          }
        }
      ]
    },
    {
      "cell_type": "markdown",
      "source": [
        "# Filter polluted records"
      ],
      "metadata": {
        "id": "Z-RIbGAb1hEJ"
      }
    },
    {
      "cell_type": "code",
      "source": [
        "filt_db_raw=db_raw[ db_raw['mean_str_dur'] >=0]\n",
        "filt_db_raw=filt_db_raw[ (filt_db_raw['acc_by_dur'] <1) & (filt_db_raw['acc_by_dur'] >0.2)]"
      ],
      "metadata": {
        "id": "9nbs0isS15tz"
      },
      "execution_count": 10,
      "outputs": []
    },
    {
      "cell_type": "code",
      "source": [
        "filt_db_raw['owner'].value_counts()"
      ],
      "metadata": {
        "colab": {
          "base_uri": "https://localhost:8080/"
        },
        "id": "ZSeEaWPdARaX",
        "outputId": "a073017d-3509-4378-a780-46918cc798bf"
      },
      "execution_count": 11,
      "outputs": [
        {
          "output_type": "execute_result",
          "data": {
            "text/plain": [
              "Kowal      30\n",
              "Lukasz     30\n",
              "Natalia    30\n",
              "Patryk     29\n",
              "Venom      29\n",
              "Magda      28\n",
              "Natka      27\n",
              "Kraken     26\n",
              "Pawel      25\n",
              "Name: owner, dtype: int64"
            ]
          },
          "metadata": {},
          "execution_count": 11
        }
      ]
    },
    {
      "cell_type": "code",
      "source": [
        "filt_db_raw['level'].value_counts()"
      ],
      "metadata": {
        "colab": {
          "base_uri": "https://localhost:8080/"
        },
        "id": "igMzbm6vSxqK",
        "outputId": "beb1d293-ae11-4485-e052-19b84893a1f0"
      },
      "execution_count": 13,
      "outputs": [
        {
          "output_type": "execute_result",
          "data": {
            "text/plain": [
              "L1    45\n",
              "L4    42\n",
              "L0    42\n",
              "L3    42\n",
              "L2    42\n",
              "L5    41\n",
              "Name: level, dtype: int64"
            ]
          },
          "metadata": {},
          "execution_count": 13
        }
      ]
    },
    {
      "cell_type": "code",
      "source": [
        "filt_db_raw.shape"
      ],
      "metadata": {
        "colab": {
          "base_uri": "https://localhost:8080/"
        },
        "id": "YrKATPcDrG03",
        "outputId": "6d48021d-d237-4532-92bc-c5de027b507a"
      },
      "execution_count": 14,
      "outputs": [
        {
          "output_type": "execute_result",
          "data": {
            "text/plain": [
              "(254, 15)"
            ]
          },
          "metadata": {},
          "execution_count": 14
        }
      ]
    },
    {
      "cell_type": "code",
      "source": [
        "grouped = filt_db_raw.groupby([\"owner\",'level'])"
      ],
      "metadata": {
        "id": "8TqHPmWddwHW"
      },
      "execution_count": 15,
      "outputs": []
    },
    {
      "cell_type": "code",
      "source": [
        "df_counts=grouped.count()['XX']"
      ],
      "metadata": {
        "id": "NIhlyATSd5CB"
      },
      "execution_count": 16,
      "outputs": []
    },
    {
      "cell_type": "code",
      "source": [
        "df_counts.groupby('owner').agg(max)"
      ],
      "metadata": {
        "colab": {
          "base_uri": "https://localhost:8080/"
        },
        "id": "iBVDxUQuzdoo",
        "outputId": "43376e95-629b-4abf-c364-64c4c4096429"
      },
      "execution_count": 17,
      "outputs": [
        {
          "output_type": "execute_result",
          "data": {
            "text/plain": [
              "owner\n",
              "Kowal      5\n",
              "Kraken     5\n",
              "Lukasz     5\n",
              "Magda      5\n",
              "Natalia    5\n",
              "Natka      5\n",
              "Patryk     5\n",
              "Pawel      5\n",
              "Venom      5\n",
              "Name: XX, dtype: int64"
            ]
          },
          "metadata": {},
          "execution_count": 17
        }
      ]
    },
    {
      "cell_type": "code",
      "source": [
        "df_counts=df_counts.groupby('owner').agg(min)"
      ],
      "metadata": {
        "id": "6gvrulgRlULf"
      },
      "execution_count": 18,
      "outputs": []
    },
    {
      "cell_type": "code",
      "source": [
        "df_counts"
      ],
      "metadata": {
        "colab": {
          "base_uri": "https://localhost:8080/"
        },
        "id": "VaMrH0lnmNh2",
        "outputId": "aafcd7ea-cd99-481e-8281-22ef90571f0f"
      },
      "execution_count": 19,
      "outputs": [
        {
          "output_type": "execute_result",
          "data": {
            "text/plain": [
              "owner\n",
              "Kowal      5\n",
              "Kraken     3\n",
              "Lukasz     5\n",
              "Magda      3\n",
              "Natalia    5\n",
              "Natka      3\n",
              "Patryk     4\n",
              "Pawel      3\n",
              "Venom      4\n",
              "Name: XX, dtype: int64"
            ]
          },
          "metadata": {},
          "execution_count": 19
        }
      ]
    },
    {
      "cell_type": "markdown",
      "source": [
        "# Balancing classes for Friedman test"
      ],
      "metadata": {
        "id": "rru6iCsH18cN"
      }
    },
    {
      "cell_type": "code",
      "source": [
        "for name in df_counts.index:\n",
        "  temp_df=filt_db_raw[filt_db_raw['owner']==name]\n",
        "  for level in pd.unique(temp_df['level']):\n",
        "    r_count=temp_df[temp_df['level']==level]['XX'].count()\n",
        "    ind=temp_df[temp_df['level']==level].tail(r_count-df_counts[name]).index\n",
        "    filt_db_raw.drop(ind,inplace=True)"
      ],
      "metadata": {
        "id": "eurPPCBNqwMD"
      },
      "execution_count": 20,
      "outputs": []
    },
    {
      "cell_type": "code",
      "source": [
        "filt_db_raw['level'].value_counts()"
      ],
      "metadata": {
        "colab": {
          "base_uri": "https://localhost:8080/"
        },
        "id": "qUilJ0UFH9ju",
        "outputId": "d5e3d956-32a3-46e2-a763-bb8c81561a43"
      },
      "execution_count": 21,
      "outputs": [
        {
          "output_type": "execute_result",
          "data": {
            "text/plain": [
              "L4    35\n",
              "L5    35\n",
              "L0    35\n",
              "L3    35\n",
              "L2    35\n",
              "L1    35\n",
              "Name: level, dtype: int64"
            ]
          },
          "metadata": {},
          "execution_count": 21
        }
      ]
    },
    {
      "cell_type": "code",
      "source": [
        "fig, ax_new = plt.subplots(1,3,figsize=[10,5], sharey=False)\n",
        "filt_db_raw.boxplot(column=['acc_by_dur', 'mean_str_dur','std_str_dur'], by='owner',ax=ax_new,figsize=[10,5])\n",
        "plt.show()"
      ],
      "metadata": {
        "colab": {
          "base_uri": "https://localhost:8080/",
          "height": 520
        },
        "id": "cfSbgl7UAwuo",
        "outputId": "9a9da751-7bee-40e4-be81-14f435752f3b"
      },
      "execution_count": 22,
      "outputs": [
        {
          "output_type": "stream",
          "name": "stderr",
          "text": [
            "/usr/local/lib/python3.7/dist-packages/pandas/plotting/_matplotlib/boxplot.py:405: UserWarning: When passing multiple axes, sharex and sharey are ignored. These settings must be specified when creating axes\n",
            "  **kwds,\n",
            "/usr/local/lib/python3.7/dist-packages/matplotlib/cbook/__init__.py:1376: VisibleDeprecationWarning: Creating an ndarray from ragged nested sequences (which is a list-or-tuple of lists-or-tuples-or ndarrays with different lengths or shapes) is deprecated. If you meant to do this, you must specify 'dtype=object' when creating the ndarray.\n",
            "  X = np.atleast_1d(X.T if isinstance(X, np.ndarray) else np.asarray(X))\n",
            "/usr/local/lib/python3.7/dist-packages/matplotlib/cbook/__init__.py:1376: VisibleDeprecationWarning: Creating an ndarray from ragged nested sequences (which is a list-or-tuple of lists-or-tuples-or ndarrays with different lengths or shapes) is deprecated. If you meant to do this, you must specify 'dtype=object' when creating the ndarray.\n",
            "  X = np.atleast_1d(X.T if isinstance(X, np.ndarray) else np.asarray(X))\n",
            "/usr/local/lib/python3.7/dist-packages/matplotlib/cbook/__init__.py:1376: VisibleDeprecationWarning: Creating an ndarray from ragged nested sequences (which is a list-or-tuple of lists-or-tuples-or ndarrays with different lengths or shapes) is deprecated. If you meant to do this, you must specify 'dtype=object' when creating the ndarray.\n",
            "  X = np.atleast_1d(X.T if isinstance(X, np.ndarray) else np.asarray(X))\n"
          ]
        },
        {
          "output_type": "display_data",
          "data": {
            "text/plain": [
              "<Figure size 720x360 with 3 Axes>"
            ],
            "image/png": "[encoded data removed]"
          },
          "metadata": {
            "needs_background": "light"
          }
        }
      ]
    },
    {
      "cell_type": "code",
      "source": [
        "fig, ax_new = plt.subplots(1,3,figsize=[10,5], sharey=False)\n",
        "filt_db_raw.boxplot(column=['mean_str_len', 'std_str_len','min_acc'], by='owner',ax=ax_new,figsize=[10,5])\n",
        "plt.show()"
      ],
      "metadata": {
        "colab": {
          "base_uri": "https://localhost:8080/",
          "height": 520
        },
        "id": "z6hjlVBYIyYt",
        "outputId": "c9a107e1-e8ec-4ec0-9fb5-2571d4f77f1f"
      },
      "execution_count": 27,
      "outputs": [
        {
          "output_type": "stream",
          "name": "stderr",
          "text": [
            "/usr/local/lib/python3.7/dist-packages/pandas/plotting/_matplotlib/boxplot.py:405: UserWarning: When passing multiple axes, sharex and sharey are ignored. These settings must be specified when creating axes\n",
            "  **kwds,\n",
            "/usr/local/lib/python3.7/dist-packages/matplotlib/cbook/__init__.py:1376: VisibleDeprecationWarning: Creating an ndarray from ragged nested sequences (which is a list-or-tuple of lists-or-tuples-or ndarrays with different lengths or shapes) is deprecated. If you meant to do this, you must specify 'dtype=object' when creating the ndarray.\n",
            "  X = np.atleast_1d(X.T if isinstance(X, np.ndarray) else np.asarray(X))\n",
            "/usr/local/lib/python3.7/dist-packages/matplotlib/cbook/__init__.py:1376: VisibleDeprecationWarning: Creating an ndarray from ragged nested sequences (which is a list-or-tuple of lists-or-tuples-or ndarrays with different lengths or shapes) is deprecated. If you meant to do this, you must specify 'dtype=object' when creating the ndarray.\n",
            "  X = np.atleast_1d(X.T if isinstance(X, np.ndarray) else np.asarray(X))\n",
            "/usr/local/lib/python3.7/dist-packages/matplotlib/cbook/__init__.py:1376: VisibleDeprecationWarning: Creating an ndarray from ragged nested sequences (which is a list-or-tuple of lists-or-tuples-or ndarrays with different lengths or shapes) is deprecated. If you meant to do this, you must specify 'dtype=object' when creating the ndarray.\n",
            "  X = np.atleast_1d(X.T if isinstance(X, np.ndarray) else np.asarray(X))\n"
          ]
        },
        {
          "output_type": "display_data",
          "data": {
            "text/plain": [
              "<Figure size 720x360 with 3 Axes>"
            ],
            "image/png": "[encoded data removed]"
          },
          "metadata": {
            "needs_background": "light"
          }
        }
      ]
    },
    {
      "cell_type": "code",
      "source": [
        "fig, ax_new = plt.subplots(1,3,figsize=[10,5], sharey=False)\n",
        "filt_db_raw.boxplot(column=['max_acc', 'mean_acc','zrc_acc'], by='owner',ax=ax_new,figsize=[10,5])\n",
        "plt.show()"
      ],
      "metadata": {
        "colab": {
          "base_uri": "https://localhost:8080/",
          "height": 520
        },
        "id": "ci_r_dLYMqcY",
        "outputId": "9528ac65-10c8-415b-8901-e24c72998f2d"
      },
      "execution_count": 28,
      "outputs": [
        {
          "output_type": "stream",
          "name": "stderr",
          "text": [
            "/usr/local/lib/python3.7/dist-packages/pandas/plotting/_matplotlib/boxplot.py:405: UserWarning: When passing multiple axes, sharex and sharey are ignored. These settings must be specified when creating axes\n",
            "  **kwds,\n",
            "/usr/local/lib/python3.7/dist-packages/matplotlib/cbook/__init__.py:1376: VisibleDeprecationWarning: Creating an ndarray from ragged nested sequences (which is a list-or-tuple of lists-or-tuples-or ndarrays with different lengths or shapes) is deprecated. If you meant to do this, you must specify 'dtype=object' when creating the ndarray.\n",
            "  X = np.atleast_1d(X.T if isinstance(X, np.ndarray) else np.asarray(X))\n",
            "/usr/local/lib/python3.7/dist-packages/matplotlib/cbook/__init__.py:1376: VisibleDeprecationWarning: Creating an ndarray from ragged nested sequences (which is a list-or-tuple of lists-or-tuples-or ndarrays with different lengths or shapes) is deprecated. If you meant to do this, you must specify 'dtype=object' when creating the ndarray.\n",
            "  X = np.atleast_1d(X.T if isinstance(X, np.ndarray) else np.asarray(X))\n",
            "/usr/local/lib/python3.7/dist-packages/matplotlib/cbook/__init__.py:1376: VisibleDeprecationWarning: Creating an ndarray from ragged nested sequences (which is a list-or-tuple of lists-or-tuples-or ndarrays with different lengths or shapes) is deprecated. If you meant to do this, you must specify 'dtype=object' when creating the ndarray.\n",
            "  X = np.atleast_1d(X.T if isinstance(X, np.ndarray) else np.asarray(X))\n"
          ]
        },
        {
          "output_type": "display_data",
          "data": {
            "text/plain": [
              "<Figure size 720x360 with 3 Axes>"
            ],
            "image/png": "[encoded data removed]"
          },
          "metadata": {
            "needs_background": "light"
          }
        }
      ]
    },
    {
      "cell_type": "code",
      "source": [
        "fig, ax_new = plt.subplots(1,3,figsize=[10,5], sharey=False)\n",
        "filt_db_raw.boxplot(column=['mean_str_press', 'std_str_press','mean_dir_change_vel'], by='owner',ax=ax_new,figsize=[10,5])\n",
        "plt.show()"
      ],
      "metadata": {
        "colab": {
          "base_uri": "https://localhost:8080/",
          "height": 520
        },
        "id": "Z28l5nBINal0",
        "outputId": "43607f30-2f3b-46b9-fdb3-b75aba80eb33"
      },
      "execution_count": 29,
      "outputs": [
        {
          "output_type": "stream",
          "name": "stderr",
          "text": [
            "/usr/local/lib/python3.7/dist-packages/pandas/plotting/_matplotlib/boxplot.py:405: UserWarning: When passing multiple axes, sharex and sharey are ignored. These settings must be specified when creating axes\n",
            "  **kwds,\n",
            "/usr/local/lib/python3.7/dist-packages/matplotlib/cbook/__init__.py:1376: VisibleDeprecationWarning: Creating an ndarray from ragged nested sequences (which is a list-or-tuple of lists-or-tuples-or ndarrays with different lengths or shapes) is deprecated. If you meant to do this, you must specify 'dtype=object' when creating the ndarray.\n",
            "  X = np.atleast_1d(X.T if isinstance(X, np.ndarray) else np.asarray(X))\n",
            "/usr/local/lib/python3.7/dist-packages/matplotlib/cbook/__init__.py:1376: VisibleDeprecationWarning: Creating an ndarray from ragged nested sequences (which is a list-or-tuple of lists-or-tuples-or ndarrays with different lengths or shapes) is deprecated. If you meant to do this, you must specify 'dtype=object' when creating the ndarray.\n",
            "  X = np.atleast_1d(X.T if isinstance(X, np.ndarray) else np.asarray(X))\n",
            "/usr/local/lib/python3.7/dist-packages/matplotlib/cbook/__init__.py:1376: VisibleDeprecationWarning: Creating an ndarray from ragged nested sequences (which is a list-or-tuple of lists-or-tuples-or ndarrays with different lengths or shapes) is deprecated. If you meant to do this, you must specify 'dtype=object' when creating the ndarray.\n",
            "  X = np.atleast_1d(X.T if isinstance(X, np.ndarray) else np.asarray(X))\n"
          ]
        },
        {
          "output_type": "display_data",
          "data": {
            "text/plain": [
              "<Figure size 720x360 with 3 Axes>"
            ],
            "image/png": "[encoded data removed]"
          },
          "metadata": {
            "needs_background": "light"
          }
        }
      ]
    },
    {
      "cell_type": "markdown",
      "source": [
        "# Testing ANOVA assumptions"
      ],
      "metadata": {
        "id": "E0tgpsVq2JbD"
      }
    },
    {
      "cell_type": "code",
      "source": [
        "lev0=filt_db_raw[filt_db_raw['level']=='L0']\n",
        "lev1=filt_db_raw[filt_db_raw['level']=='L1']\n",
        "lev2=filt_db_raw[filt_db_raw['level']=='L2']\n",
        "lev3=filt_db_raw[filt_db_raw['level']=='L3']\n",
        "lev4=filt_db_raw[filt_db_raw['level']=='L4']\n",
        "lev5=filt_db_raw[filt_db_raw['level']=='L5']"
      ],
      "metadata": {
        "id": "iargWboOrCZx"
      },
      "execution_count": 30,
      "outputs": []
    },
    {
      "cell_type": "code",
      "source": [
        "plt.hist(lev0['mean_str_dur'])\n",
        "plt.title(\"Histogram średniej długości trwania pociągnięcia dla grupy L0 \")\n",
        "plt.ylabel(\"Liczba próbek w grupie\")\n",
        "plt.show()"
      ],
      "metadata": {
        "colab": {
          "base_uri": "https://localhost:8080/",
          "height": 281
        },
        "id": "8-p0t8CdBnTM",
        "outputId": "1496f2c0-d75c-45c7-d633-cc6f3ba97ddf"
      },
      "execution_count": 31,
      "outputs": [
        {
          "output_type": "display_data",
          "data": {
            "text/plain": [
              "<Figure size 432x288 with 1 Axes>"
            ],
            "image/png": "[encoded data removed]"
          },
          "metadata": {
            "needs_background": "light"
          }
        }
      ]
    },
    {
      "cell_type": "code",
      "source": [
        "plt.hist(lev5['mean_str_len'])\n",
        "plt.title(\"Histogram średniej długości pociągnięcia dla grupy L5 \")\n",
        "plt.ylabel(\"Liczba próbek w grupie\")\n",
        "plt.show()"
      ],
      "metadata": {
        "colab": {
          "base_uri": "https://localhost:8080/",
          "height": 281
        },
        "id": "d4Pa2_PJC17B",
        "outputId": "dd0d659a-01a2-4dff-ec93-07e50a07e7f3"
      },
      "execution_count": 32,
      "outputs": [
        {
          "output_type": "display_data",
          "data": {
            "text/plain": [
              "<Figure size 432x288 with 1 Axes>"
            ],
            "image/png": "[encoded data removed]"
          },
          "metadata": {
            "needs_background": "light"
          }
        }
      ]
    },
    {
      "cell_type": "code",
      "source": [
        "for column in filt_db_raw.columns[3:]:\n",
        "\n",
        "  print('\\033[30m'+column)\n",
        "  shl0=stats.shapiro(lev0[column])\n",
        "  shl1=stats.shapiro(lev1[column])\n",
        "  shl2=stats.shapiro(lev2[column])\n",
        "  shl3=stats.shapiro(lev3[column])\n",
        "  shl4=stats.shapiro(lev4[column])\n",
        "  shl5=stats.shapiro(lev5[column])\n",
        "  if shl0.pvalue<0.05:\n",
        "    print('\\033[91m'+str(shl0))\n",
        "  else:\n",
        "    print('\\033[30m'+str(shl0))\n",
        "    \n",
        "  if shl1.pvalue<0.05:\n",
        "    print('\\033[91m'+str(shl1))\n",
        "  else:\n",
        "    print('\\033[30m'+str(shl1))\n",
        "\n",
        "  if shl2.pvalue<0.05:\n",
        "    print('\\033[91m'+str(shl2))\n",
        "  else:\n",
        "    print('\\033[30m'+str(shl2))\n",
        "\n",
        "  if shl3.pvalue<0.05:\n",
        "    print('\\033[91m'+str(shl3))\n",
        "  else:\n",
        "    print('\\033[30m'+str(shl3))\n",
        "\n",
        "  if shl4.pvalue<0.05:\n",
        "    print('\\033[91m'+str(shl4))\n",
        "  else:\n",
        "    print('\\033[30m'+str(shl4))\n",
        "\n",
        "  if shl5.pvalue<0.05:\n",
        "    print('\\033[91m'+str(shl5))\n",
        "  else:\n",
        "    print('\\033[30m'+str(shl5))\n",
        "  print()\n",
        "print('\\033[30m')"
      ],
      "metadata": {
        "colab": {
          "base_uri": "https://localhost:8080/"
        },
        "id": "uIi0IM2agiYe",
        "outputId": "d71102a3-646e-4990-9385-78ee79e28140"
      },
      "execution_count": 33,
      "outputs": [
        {
          "output_type": "stream",
          "name": "stdout",
          "text": [
            "\u001b[30macc_by_dur\n",
            "\u001b[30mShapiroResult(statistic=0.9596326947212219, pvalue=0.22292841970920563)\n",
            "\u001b[30mShapiroResult(statistic=0.9543085694313049, pvalue=0.1536380499601364)\n",
            "\u001b[91mShapiroResult(statistic=0.9162421822547913, pvalue=0.011127609759569168)\n",
            "\u001b[30mShapiroResult(statistic=0.9565942287445068, pvalue=0.18040265142917633)\n",
            "\u001b[30mShapiroResult(statistic=0.9787017107009888, pvalue=0.7164589762687683)\n",
            "\u001b[30mShapiroResult(statistic=0.9799953699111938, pvalue=0.7590218782424927)\n",
            "\n",
            "\u001b[30mmean_str_dur\n",
            "\u001b[91mShapiroResult(statistic=0.882969856262207, pvalue=0.0014214370166882873)\n",
            "\u001b[91mShapiroResult(statistic=0.8163026571273804, pvalue=4.3297324737068266e-05)\n",
            "\u001b[91mShapiroResult(statistic=0.8431575298309326, pvalue=0.0001619091781321913)\n",
            "\u001b[91mShapiroResult(statistic=0.6476143598556519, pvalue=6.277994657466479e-08)\n",
            "\u001b[91mShapiroResult(statistic=0.8557975888252258, pvalue=0.00031303067225962877)\n",
            "\u001b[91mShapiroResult(statistic=0.5251520872116089, pvalue=1.7332348889453897e-09)\n",
            "\n",
            "\u001b[30mstd_str_dur\n",
            "\u001b[91mShapiroResult(statistic=0.8970338106155396, pvalue=0.003294034395366907)\n",
            "\u001b[91mShapiroResult(statistic=0.7883127927780151, pvalue=1.2138595593569335e-05)\n",
            "\u001b[91mShapiroResult(statistic=0.8657704591751099, pvalue=0.0005368534475564957)\n",
            "\u001b[91mShapiroResult(statistic=0.7615858316421509, pvalue=3.91806997868116e-06)\n",
            "\u001b[91mShapiroResult(statistic=0.8576337099075317, pvalue=0.0003452605160418898)\n",
            "\u001b[91mShapiroResult(statistic=0.8283718824386597, pvalue=7.73149513406679e-05)\n",
            "\n",
            "\u001b[30mmean_str_len\n",
            "\u001b[91mShapiroResult(statistic=0.8627417087554932, pvalue=0.0004548787255771458)\n",
            "\u001b[91mShapiroResult(statistic=0.6815015077590942, pvalue=1.946129515317807e-07)\n",
            "\u001b[91mShapiroResult(statistic=0.7617325782775879, pvalue=3.941685918107396e-06)\n",
            "\u001b[91mShapiroResult(statistic=0.6923816204071045, pvalue=2.8428473797248444e-07)\n",
            "\u001b[91mShapiroResult(statistic=0.8606700301170349, pvalue=0.00040652480674907565)\n",
            "\u001b[91mShapiroResult(statistic=0.609422504901886, pvalue=1.8988586703017063e-08)\n",
            "\n",
            "\u001b[30mstd_str_len\n",
            "\u001b[91mShapiroResult(statistic=0.8448087573051453, pvalue=0.00017620957805775106)\n",
            "\u001b[91mShapiroResult(statistic=0.7753757238388062, pvalue=6.956079232622869e-06)\n",
            "\u001b[91mShapiroResult(statistic=0.8044822216033936, pvalue=2.5007970180013217e-05)\n",
            "\u001b[91mShapiroResult(statistic=0.7470836639404297, pvalue=2.18590480471903e-06)\n",
            "\u001b[91mShapiroResult(statistic=0.921386182308197, pvalue=0.015632756054401398)\n",
            "\u001b[91mShapiroResult(statistic=0.8667399883270264, pvalue=0.0005662956391461194)\n",
            "\n",
            "\u001b[30mmin_acc\n",
            "\u001b[91mShapiroResult(statistic=0.9085707664489746, pvalue=0.006776111666113138)\n",
            "\u001b[30mShapiroResult(statistic=0.9401555061340332, pvalue=0.05657099932432175)\n",
            "\u001b[91mShapiroResult(statistic=0.9042220115661621, pvalue=0.005145182833075523)\n",
            "\u001b[91mShapiroResult(statistic=0.9269611239433289, pvalue=0.022742873057723045)\n",
            "\u001b[91mShapiroResult(statistic=0.9172523021697998, pvalue=0.011890302412211895)\n",
            "\u001b[91mShapiroResult(statistic=0.7505595684051514, pvalue=2.509556452423567e-06)\n",
            "\n",
            "\u001b[30mmax_acc\n",
            "\u001b[91mShapiroResult(statistic=0.8897697329521179, pvalue=0.002123002428561449)\n",
            "\u001b[91mShapiroResult(statistic=0.8361731767654419, pvalue=0.00011372174776624888)\n",
            "\u001b[91mShapiroResult(statistic=0.9231413006782532, pvalue=0.017578531056642532)\n",
            "\u001b[30mShapiroResult(statistic=0.9443954825401306, pvalue=0.07623933255672455)\n",
            "\u001b[91mShapiroResult(statistic=0.8423844575881958, pvalue=0.0001556417264509946)\n",
            "\u001b[91mShapiroResult(statistic=0.667641282081604, pvalue=1.2146475114604982e-07)\n",
            "\n",
            "\u001b[30mmean_acc\n",
            "\u001b[91mShapiroResult(statistic=0.8937360048294067, pvalue=0.002694702008739114)\n",
            "\u001b[91mShapiroResult(statistic=0.8160597085952759, pvalue=4.2803720134543255e-05)\n",
            "\u001b[91mShapiroResult(statistic=0.8622478246688843, pvalue=0.0004428216489031911)\n",
            "\u001b[91mShapiroResult(statistic=0.9071645736694336, pvalue=0.0061960299499332905)\n",
            "\u001b[91mShapiroResult(statistic=0.9171345829963684, pvalue=0.011798670515418053)\n",
            "\u001b[91mShapiroResult(statistic=0.8361058235168457, pvalue=0.00011333887960063294)\n",
            "\n",
            "\u001b[30mzrc_acc\n",
            "\u001b[91mShapiroResult(statistic=0.9002010226249695, pvalue=0.004003650974482298)\n",
            "\u001b[91mShapiroResult(statistic=0.8389314413070679, pvalue=0.00013063025835435838)\n",
            "\u001b[91mShapiroResult(statistic=0.8337317705154419, pvalue=0.00010068802657769993)\n",
            "\u001b[91mShapiroResult(statistic=0.8769116401672363, pvalue=0.0010021630441769958)\n",
            "\u001b[91mShapiroResult(statistic=0.8765906691551208, pvalue=0.0009839726844802499)\n",
            "\u001b[91mShapiroResult(statistic=0.8908928632736206, pvalue=0.002270542085170746)\n",
            "\n",
            "\u001b[30mmean_str_press\n",
            "\u001b[30mShapiroResult(statistic=0.9473809003829956, pvalue=0.09414797276258469)\n",
            "\u001b[30mShapiroResult(statistic=0.9532347321510315, pvalue=0.14243467152118683)\n",
            "\u001b[30mShapiroResult(statistic=0.9481021165847778, pvalue=0.0990772396326065)\n",
            "\u001b[30mShapiroResult(statistic=0.9571161270141602, pvalue=0.18711452186107635)\n",
            "\u001b[30mShapiroResult(statistic=0.9709994792938232, pvalue=0.47129619121551514)\n",
            "\u001b[30mShapiroResult(statistic=0.9758919477462769, pvalue=0.6231195330619812)\n",
            "\n",
            "\u001b[30mstd_str_press\n",
            "\u001b[91mShapiroResult(statistic=0.9226458668708801, pvalue=0.017004817724227905)\n",
            "\u001b[91mShapiroResult(statistic=0.8033813834190369, pvalue=2.378333556407597e-05)\n",
            "\u001b[91mShapiroResult(statistic=0.8416604995727539, pvalue=0.00015000556595623493)\n",
            "\u001b[91mShapiroResult(statistic=0.8665871620178223, pvalue=0.0005615444970317185)\n",
            "\u001b[30mShapiroResult(statistic=0.9822090268135071, pvalue=0.828425407409668)\n",
            "\u001b[30mShapiroResult(statistic=0.945112943649292, pvalue=0.08020088821649551)\n",
            "\n",
            "\u001b[30mmean_dir_change_vel\n",
            "\u001b[30mShapiroResult(statistic=0.9788444638252258, pvalue=0.7211940884590149)\n",
            "\u001b[91mShapiroResult(statistic=0.9362689256668091, pvalue=0.04312004894018173)\n",
            "\u001b[30mShapiroResult(statistic=0.9723443984985352, pvalue=0.5108147263526917)\n",
            "\u001b[30mShapiroResult(statistic=0.9530714750289917, pvalue=0.1408022940158844)\n",
            "\u001b[30mShapiroResult(statistic=0.9693116545677185, pvalue=0.42461708188056946)\n",
            "\u001b[30mShapiroResult(statistic=0.9633358120918274, pvalue=0.2872321903705597)\n",
            "\n",
            "\u001b[30m\n"
          ]
        }
      ]
    },
    {
      "cell_type": "code",
      "source": [
        "for column in filt_db_raw.columns[3:]:\n",
        "\n",
        "  res=stats.levene(lev0[column],lev1[column],lev2[column],lev3[column],lev4[column],lev5[column])\n",
        "  if res.pvalue<0.05:\n",
        "    print('\\033[91m'+column)\n",
        "    print(str(res))\n",
        "  else:\n",
        "    print('\\033[30m'+column)\n",
        "    print(str(res))\n",
        "  print('\\033[30m')"
      ],
      "metadata": {
        "colab": {
          "base_uri": "https://localhost:8080/"
        },
        "id": "Rd435xylg1i3",
        "outputId": "6cb875c2-8a8b-4b2b-8f1d-d4ee355e19b5"
      },
      "execution_count": 34,
      "outputs": [
        {
          "output_type": "stream",
          "name": "stdout",
          "text": [
            "\u001b[30macc_by_dur\n",
            "LeveneResult(statistic=0.6458589000079863, pvalue=0.6649641020509633)\n",
            "\u001b[30m\n",
            "\u001b[30mmean_str_dur\n",
            "LeveneResult(statistic=1.5644590803136045, pvalue=0.17162798256254544)\n",
            "\u001b[30m\n",
            "\u001b[30mstd_str_dur\n",
            "LeveneResult(statistic=1.195007863182652, pvalue=0.3128638086556511)\n",
            "\u001b[30m\n",
            "\u001b[30mmean_str_len\n",
            "LeveneResult(statistic=2.1318763608248132, pvalue=0.06305595041274874)\n",
            "\u001b[30m\n",
            "\u001b[91mstd_str_len\n",
            "LeveneResult(statistic=2.4697095427127613, pvalue=0.03375167117064818)\n",
            "\u001b[30m\n",
            "\u001b[30mmin_acc\n",
            "LeveneResult(statistic=1.0833528545975009, pvalue=0.3706972874257158)\n",
            "\u001b[30m\n",
            "\u001b[91mmax_acc\n",
            "LeveneResult(statistic=5.075550078350646, pvalue=0.0002083856030653561)\n",
            "\u001b[30m\n",
            "\u001b[91mmean_acc\n",
            "LeveneResult(statistic=3.6624028695885436, pvalue=0.0033985471199651516)\n",
            "\u001b[30m\n",
            "\u001b[30mzrc_acc\n",
            "LeveneResult(statistic=0.23423827585623871, pvalue=0.9471212528215289)\n",
            "\u001b[30m\n",
            "\u001b[30mmean_str_press\n",
            "LeveneResult(statistic=0.826596749328726, pvalue=0.5320413529294157)\n",
            "\u001b[30m\n",
            "\u001b[30mstd_str_press\n",
            "LeveneResult(statistic=1.4417039261669509, pvalue=0.21072979848948892)\n",
            "\u001b[30m\n",
            "\u001b[30mmean_dir_change_vel\n",
            "LeveneResult(statistic=2.2178718990099475, pvalue=0.05386831815871992)\n",
            "\u001b[30m\n"
          ]
        }
      ]
    },
    {
      "cell_type": "markdown",
      "source": [
        "Parameters that wasn't proven to be unormal and have different variation in groups can be tested by classical ANOVA, rest will be tested by non-parametric Friedman test"
      ],
      "metadata": {
        "id": "_W6FIIldl4TQ"
      }
    },
    {
      "cell_type": "markdown",
      "source": [
        "# ANOVA"
      ],
      "metadata": {
        "id": "APakvV7s40Fv"
      }
    },
    {
      "cell_type": "code",
      "source": [
        "from statsmodels.stats.anova import AnovaRM"
      ],
      "metadata": {
        "id": "Rk6HltCiWZhI"
      },
      "execution_count": 35,
      "outputs": []
    },
    {
      "cell_type": "code",
      "source": [
        "\n",
        "print('mean_str_press')\n",
        "# mod = ols('mean_str_press ~ level',\n",
        "#               data=filt_db_raw).fit()\n",
        "aov_table = AnovaRM(data=filt_db_raw, depvar='mean_str_press', aggregate_func='mean',subject='owner', within=['level']).fit()\n",
        "print(aov_table)\n",
        "print()\n",
        "print('acc_by_dur')\n",
        "aov_table = AnovaRM(data=filt_db_raw, depvar='acc_by_dur', aggregate_func='mean',subject='owner', within=['level']).fit()\n",
        "print(aov_table)\n",
        "print()"
      ],
      "metadata": {
        "colab": {
          "base_uri": "https://localhost:8080/"
        },
        "id": "nyhqLs4czOew",
        "outputId": "35001904-f01d-44c7-e789-746c36c9c350"
      },
      "execution_count": 36,
      "outputs": [
        {
          "output_type": "stream",
          "name": "stdout",
          "text": [
            "mean_str_press\n",
            "               Anova\n",
            "===================================\n",
            "      F Value Num DF  Den DF Pr > F\n",
            "-----------------------------------\n",
            "level  1.6563 5.0000 40.0000 0.1676\n",
            "===================================\n",
            "\n",
            "\n",
            "acc_by_dur\n",
            "               Anova\n",
            "===================================\n",
            "      F Value Num DF  Den DF Pr > F\n",
            "-----------------------------------\n",
            "level  1.3259 5.0000 40.0000 0.2729\n",
            "===================================\n",
            "\n",
            "\n"
          ]
        }
      ]
    },
    {
      "cell_type": "markdown",
      "source": [
        "Test nieparametryczny Friedmanna porównujący rozkłady wszystkich parametrów parametrów"
      ],
      "metadata": {
        "id": "Pz464ZCrqbQV"
      }
    },
    {
      "cell_type": "code",
      "source": [
        "proven_diffrences=[]\n",
        "for column in filt_db_raw.columns[3:]:\n",
        "\n",
        "  res=stats.friedmanchisquare(lev0[column],lev1[column],lev2[column],lev3[column],lev4[column],lev5[column])\n",
        "  if res.pvalue<0.05:\n",
        "    proven_diffrences.append(column)\n",
        "    print('\\033[91m'+column)\n",
        "    print(str(res))\n",
        "  else:\n",
        "    print('\\033[30m'+column)\n",
        "    print(str(res))\n",
        "  print('\\033[30m')"
      ],
      "metadata": {
        "id": "UmrZLXLtecJe",
        "colab": {
          "base_uri": "https://localhost:8080/"
        },
        "outputId": "63fd6020-7163-4abf-e47d-0bd234c20a10"
      },
      "execution_count": 37,
      "outputs": [
        {
          "output_type": "stream",
          "name": "stdout",
          "text": [
            "\u001b[91macc_by_dur\n",
            "FriedmanchisquareResult(statistic=11.78367346938785, pvalue=0.03787524404825905)\n",
            "\u001b[30m\n",
            "\u001b[91mmean_str_dur\n",
            "FriedmanchisquareResult(statistic=25.024489795918385, pvalue=0.00013782487508968034)\n",
            "\u001b[30m\n",
            "\u001b[91mstd_str_dur\n",
            "FriedmanchisquareResult(statistic=22.673469387755176, pvalue=0.0003896961050353168)\n",
            "\u001b[30m\n",
            "\u001b[91mmean_str_len\n",
            "FriedmanchisquareResult(statistic=35.0653061224491, pvalue=1.4601645622842194e-06)\n",
            "\u001b[30m\n",
            "\u001b[91mstd_str_len\n",
            "FriedmanchisquareResult(statistic=24.22448979591843, pvalue=0.0001965726403570021)\n",
            "\u001b[30m\n",
            "\u001b[30mmin_acc\n",
            "FriedmanchisquareResult(statistic=5.465306122449078, pvalue=0.36176519027123616)\n",
            "\u001b[30m\n",
            "\u001b[91mmax_acc\n",
            "FriedmanchisquareResult(statistic=82.82040816326537, pvalue=2.1549444012838254e-16)\n",
            "\u001b[30m\n",
            "\u001b[91mmean_acc\n",
            "FriedmanchisquareResult(statistic=86.2326530612246, pvalue=4.151099885567649e-17)\n",
            "\u001b[30m\n",
            "\u001b[91mzrc_acc\n",
            "FriedmanchisquareResult(statistic=19.06275805119744, pvalue=0.0018710787327463794)\n",
            "\u001b[30m\n",
            "\u001b[30mmean_str_press\n",
            "FriedmanchisquareResult(statistic=9.742857142857247, pvalue=0.08285790201022362)\n",
            "\u001b[30m\n",
            "\u001b[30mstd_str_press\n",
            "FriedmanchisquareResult(statistic=4.3387755102041865, pvalue=0.5017399636802367)\n",
            "\u001b[30m\n",
            "\u001b[91mmean_dir_change_vel\n",
            "FriedmanchisquareResult(statistic=26.80408163265315, pvalue=6.227814148724486e-05)\n",
            "\u001b[30m\n"
          ]
        }
      ]
    },
    {
      "cell_type": "markdown",
      "source": [
        "Difference in groups was proven for all parameters except minimal acceleration, mean stroke pressure, standard deviation of stroke pressure."
      ],
      "metadata": {
        "id": "Ni93lGNB39-e"
      }
    },
    {
      "cell_type": "markdown",
      "source": [
        "# POST - HOC tests"
      ],
      "metadata": {
        "id": "J3jrrOl04r37"
      }
    },
    {
      "cell_type": "code",
      "source": [
        "\n",
        "for column in proven_diffrences:\n",
        "\n",
        "  res=sp.posthoc_conover(filt_db_raw, val_col=column, group_col='level', p_adjust = 'holm')\n",
        "  s1=res.style.applymap(lambda x: \"background-color: red\" if x<0.05 else \"background-color: white\")\n",
        "  print(column)\n",
        "  display(s1)\n",
        "  print()\n",
        " "
      ],
      "metadata": {
        "colab": {
          "base_uri": "https://localhost:8080/",
          "height": 1000
        },
        "id": "wjnozftUXmrk",
        "outputId": "8e5d041f-42bb-45ef-f281-fac9613c02f4"
      },
      "execution_count": 42,
      "outputs": [
        {
          "output_type": "stream",
          "name": "stdout",
          "text": [
            "acc_by_dur\n"
          ]
        },
        {
          "output_type": "display_data",
          "data": {
            "text/plain": [
              "<pandas.io.formats.style.Styler at 0x7faed0177d50>"
            ],
            "text/html": [
              "<style type=\"text/css\">\n",
              "#T_f1f63_row0_col0, #T_f1f63_row0_col1, #T_f1f63_row0_col2, #T_f1f63_row0_col3, #T_f1f63_row0_col4, #T_f1f63_row0_col5, #T_f1f63_row1_col0, #T_f1f63_row1_col1, #T_f1f63_row1_col2, #T_f1f63_row1_col3, #T_f1f63_row1_col4, #T_f1f63_row1_col5, #T_f1f63_row2_col0, #T_f1f63_row2_col1, #T_f1f63_row2_col2, #T_f1f63_row2_col3, #T_f1f63_row2_col4, #T_f1f63_row2_col5, #T_f1f63_row3_col0, #T_f1f63_row3_col1, #T_f1f63_row3_col2, #T_f1f63_row3_col3, #T_f1f63_row3_col4, #T_f1f63_row3_col5, #T_f1f63_row4_col0, #T_f1f63_row4_col1, #T_f1f63_row4_col2, #T_f1f63_row4_col3, #T_f1f63_row4_col4, #T_f1f63_row4_col5, #T_f1f63_row5_col0, #T_f1f63_row5_col1, #T_f1f63_row5_col2, #T_f1f63_row5_col3, #T_f1f63_row5_col4, #T_f1f63_row5_col5 {\n",
              "  background-color: white;\n",
              "}\n",
              "</style>\n",
              "<table id=\"T_f1f63_\" class=\"dataframe\">\n",
              "  <thead>\n",
              "    <tr>\n",
              "      <th class=\"blank level0\" >&nbsp;</th>\n",
              "      <th class=\"col_heading level0 col0\" >L0</th>\n",
              "      <th class=\"col_heading level0 col1\" >L1</th>\n",
              "      <th class=\"col_heading level0 col2\" >L2</th>\n",
              "      <th class=\"col_heading level0 col3\" >L3</th>\n",
              "      <th class=\"col_heading level0 col4\" >L4</th>\n",
              "      <th class=\"col_heading level0 col5\" >L5</th>\n",
              "    </tr>\n",
              "  </thead>\n",
              "  <tbody>\n",
              "    <tr>\n",
              "      <th id=\"T_f1f63_level0_row0\" class=\"row_heading level0 row0\" >L0</th>\n",
              "      <td id=\"T_f1f63_row0_col0\" class=\"data row0 col0\" >1.000000</td>\n",
              "      <td id=\"T_f1f63_row0_col1\" class=\"data row0 col1\" >1.000000</td>\n",
              "      <td id=\"T_f1f63_row0_col2\" class=\"data row0 col2\" >1.000000</td>\n",
              "      <td id=\"T_f1f63_row0_col3\" class=\"data row0 col3\" >1.000000</td>\n",
              "      <td id=\"T_f1f63_row0_col4\" class=\"data row0 col4\" >1.000000</td>\n",
              "      <td id=\"T_f1f63_row0_col5\" class=\"data row0 col5\" >1.000000</td>\n",
              "    </tr>\n",
              "    <tr>\n",
              "      <th id=\"T_f1f63_level0_row1\" class=\"row_heading level0 row1\" >L1</th>\n",
              "      <td id=\"T_f1f63_row1_col0\" class=\"data row1 col0\" >1.000000</td>\n",
              "      <td id=\"T_f1f63_row1_col1\" class=\"data row1 col1\" >1.000000</td>\n",
              "      <td id=\"T_f1f63_row1_col2\" class=\"data row1 col2\" >1.000000</td>\n",
              "      <td id=\"T_f1f63_row1_col3\" class=\"data row1 col3\" >1.000000</td>\n",
              "      <td id=\"T_f1f63_row1_col4\" class=\"data row1 col4\" >0.795423</td>\n",
              "      <td id=\"T_f1f63_row1_col5\" class=\"data row1 col5\" >1.000000</td>\n",
              "    </tr>\n",
              "    <tr>\n",
              "      <th id=\"T_f1f63_level0_row2\" class=\"row_heading level0 row2\" >L2</th>\n",
              "      <td id=\"T_f1f63_row2_col0\" class=\"data row2 col0\" >1.000000</td>\n",
              "      <td id=\"T_f1f63_row2_col1\" class=\"data row2 col1\" >1.000000</td>\n",
              "      <td id=\"T_f1f63_row2_col2\" class=\"data row2 col2\" >1.000000</td>\n",
              "      <td id=\"T_f1f63_row2_col3\" class=\"data row2 col3\" >1.000000</td>\n",
              "      <td id=\"T_f1f63_row2_col4\" class=\"data row2 col4\" >1.000000</td>\n",
              "      <td id=\"T_f1f63_row2_col5\" class=\"data row2 col5\" >1.000000</td>\n",
              "    </tr>\n",
              "    <tr>\n",
              "      <th id=\"T_f1f63_level0_row3\" class=\"row_heading level0 row3\" >L3</th>\n",
              "      <td id=\"T_f1f63_row3_col0\" class=\"data row3 col0\" >1.000000</td>\n",
              "      <td id=\"T_f1f63_row3_col1\" class=\"data row3 col1\" >1.000000</td>\n",
              "      <td id=\"T_f1f63_row3_col2\" class=\"data row3 col2\" >1.000000</td>\n",
              "      <td id=\"T_f1f63_row3_col3\" class=\"data row3 col3\" >1.000000</td>\n",
              "      <td id=\"T_f1f63_row3_col4\" class=\"data row3 col4\" >1.000000</td>\n",
              "      <td id=\"T_f1f63_row3_col5\" class=\"data row3 col5\" >1.000000</td>\n",
              "    </tr>\n",
              "    <tr>\n",
              "      <th id=\"T_f1f63_level0_row4\" class=\"row_heading level0 row4\" >L4</th>\n",
              "      <td id=\"T_f1f63_row4_col0\" class=\"data row4 col0\" >1.000000</td>\n",
              "      <td id=\"T_f1f63_row4_col1\" class=\"data row4 col1\" >0.795423</td>\n",
              "      <td id=\"T_f1f63_row4_col2\" class=\"data row4 col2\" >1.000000</td>\n",
              "      <td id=\"T_f1f63_row4_col3\" class=\"data row4 col3\" >1.000000</td>\n",
              "      <td id=\"T_f1f63_row4_col4\" class=\"data row4 col4\" >1.000000</td>\n",
              "      <td id=\"T_f1f63_row4_col5\" class=\"data row4 col5\" >1.000000</td>\n",
              "    </tr>\n",
              "    <tr>\n",
              "      <th id=\"T_f1f63_level0_row5\" class=\"row_heading level0 row5\" >L5</th>\n",
              "      <td id=\"T_f1f63_row5_col0\" class=\"data row5 col0\" >1.000000</td>\n",
              "      <td id=\"T_f1f63_row5_col1\" class=\"data row5 col1\" >1.000000</td>\n",
              "      <td id=\"T_f1f63_row5_col2\" class=\"data row5 col2\" >1.000000</td>\n",
              "      <td id=\"T_f1f63_row5_col3\" class=\"data row5 col3\" >1.000000</td>\n",
              "      <td id=\"T_f1f63_row5_col4\" class=\"data row5 col4\" >1.000000</td>\n",
              "      <td id=\"T_f1f63_row5_col5\" class=\"data row5 col5\" >1.000000</td>\n",
              "    </tr>\n",
              "  </tbody>\n",
              "</table>\n"
            ]
          },
          "metadata": {}
        },
        {
          "output_type": "stream",
          "name": "stdout",
          "text": [
            "\n",
            "mean_str_dur\n"
          ]
        },
        {
          "output_type": "display_data",
          "data": {
            "text/plain": [
              "<pandas.io.formats.style.Styler at 0x7faed025a8d0>"
            ],
            "text/html": [
              "<style type=\"text/css\">\n",
              "#T_a3d9f_row0_col0, #T_a3d9f_row0_col1, #T_a3d9f_row0_col2, #T_a3d9f_row0_col3, #T_a3d9f_row0_col4, #T_a3d9f_row1_col0, #T_a3d9f_row1_col1, #T_a3d9f_row1_col2, #T_a3d9f_row1_col3, #T_a3d9f_row1_col4, #T_a3d9f_row1_col5, #T_a3d9f_row2_col0, #T_a3d9f_row2_col1, #T_a3d9f_row2_col2, #T_a3d9f_row2_col3, #T_a3d9f_row2_col4, #T_a3d9f_row2_col5, #T_a3d9f_row3_col0, #T_a3d9f_row3_col1, #T_a3d9f_row3_col2, #T_a3d9f_row3_col3, #T_a3d9f_row3_col4, #T_a3d9f_row3_col5, #T_a3d9f_row4_col0, #T_a3d9f_row4_col1, #T_a3d9f_row4_col2, #T_a3d9f_row4_col3, #T_a3d9f_row4_col4, #T_a3d9f_row4_col5, #T_a3d9f_row5_col1, #T_a3d9f_row5_col2, #T_a3d9f_row5_col3, #T_a3d9f_row5_col4, #T_a3d9f_row5_col5 {\n",
              "  background-color: white;\n",
              "}\n",
              "#T_a3d9f_row0_col5, #T_a3d9f_row5_col0 {\n",
              "  background-color: red;\n",
              "}\n",
              "</style>\n",
              "<table id=\"T_a3d9f_\" class=\"dataframe\">\n",
              "  <thead>\n",
              "    <tr>\n",
              "      <th class=\"blank level0\" >&nbsp;</th>\n",
              "      <th class=\"col_heading level0 col0\" >L0</th>\n",
              "      <th class=\"col_heading level0 col1\" >L1</th>\n",
              "      <th class=\"col_heading level0 col2\" >L2</th>\n",
              "      <th class=\"col_heading level0 col3\" >L3</th>\n",
              "      <th class=\"col_heading level0 col4\" >L4</th>\n",
              "      <th class=\"col_heading level0 col5\" >L5</th>\n",
              "    </tr>\n",
              "  </thead>\n",
              "  <tbody>\n",
              "    <tr>\n",
              "      <th id=\"T_a3d9f_level0_row0\" class=\"row_heading level0 row0\" >L0</th>\n",
              "      <td id=\"T_a3d9f_row0_col0\" class=\"data row0 col0\" >1.000000</td>\n",
              "      <td id=\"T_a3d9f_row0_col1\" class=\"data row0 col1\" >0.872582</td>\n",
              "      <td id=\"T_a3d9f_row0_col2\" class=\"data row0 col2\" >0.564353</td>\n",
              "      <td id=\"T_a3d9f_row0_col3\" class=\"data row0 col3\" >0.725154</td>\n",
              "      <td id=\"T_a3d9f_row0_col4\" class=\"data row0 col4\" >0.564353</td>\n",
              "      <td id=\"T_a3d9f_row0_col5\" class=\"data row0 col5\" >0.003598</td>\n",
              "    </tr>\n",
              "    <tr>\n",
              "      <th id=\"T_a3d9f_level0_row1\" class=\"row_heading level0 row1\" >L1</th>\n",
              "      <td id=\"T_a3d9f_row1_col0\" class=\"data row1 col0\" >0.872582</td>\n",
              "      <td id=\"T_a3d9f_row1_col1\" class=\"data row1 col1\" >1.000000</td>\n",
              "      <td id=\"T_a3d9f_row1_col2\" class=\"data row1 col2\" >1.000000</td>\n",
              "      <td id=\"T_a3d9f_row1_col3\" class=\"data row1 col3\" >1.000000</td>\n",
              "      <td id=\"T_a3d9f_row1_col4\" class=\"data row1 col4\" >1.000000</td>\n",
              "      <td id=\"T_a3d9f_row1_col5\" class=\"data row1 col5\" >0.407832</td>\n",
              "    </tr>\n",
              "    <tr>\n",
              "      <th id=\"T_a3d9f_level0_row2\" class=\"row_heading level0 row2\" >L2</th>\n",
              "      <td id=\"T_a3d9f_row2_col0\" class=\"data row2 col0\" >0.564353</td>\n",
              "      <td id=\"T_a3d9f_row2_col1\" class=\"data row2 col1\" >1.000000</td>\n",
              "      <td id=\"T_a3d9f_row2_col2\" class=\"data row2 col2\" >1.000000</td>\n",
              "      <td id=\"T_a3d9f_row2_col3\" class=\"data row2 col3\" >1.000000</td>\n",
              "      <td id=\"T_a3d9f_row2_col4\" class=\"data row2 col4\" >1.000000</td>\n",
              "      <td id=\"T_a3d9f_row2_col5\" class=\"data row2 col5\" >0.804574</td>\n",
              "    </tr>\n",
              "    <tr>\n",
              "      <th id=\"T_a3d9f_level0_row3\" class=\"row_heading level0 row3\" >L3</th>\n",
              "      <td id=\"T_a3d9f_row3_col0\" class=\"data row3 col0\" >0.725154</td>\n",
              "      <td id=\"T_a3d9f_row3_col1\" class=\"data row3 col1\" >1.000000</td>\n",
              "      <td id=\"T_a3d9f_row3_col2\" class=\"data row3 col2\" >1.000000</td>\n",
              "      <td id=\"T_a3d9f_row3_col3\" class=\"data row3 col3\" >1.000000</td>\n",
              "      <td id=\"T_a3d9f_row3_col4\" class=\"data row3 col4\" >1.000000</td>\n",
              "      <td id=\"T_a3d9f_row3_col5\" class=\"data row3 col5\" >0.599637</td>\n",
              "    </tr>\n",
              "    <tr>\n",
              "      <th id=\"T_a3d9f_level0_row4\" class=\"row_heading level0 row4\" >L4</th>\n",
              "      <td id=\"T_a3d9f_row4_col0\" class=\"data row4 col0\" >0.564353</td>\n",
              "      <td id=\"T_a3d9f_row4_col1\" class=\"data row4 col1\" >1.000000</td>\n",
              "      <td id=\"T_a3d9f_row4_col2\" class=\"data row4 col2\" >1.000000</td>\n",
              "      <td id=\"T_a3d9f_row4_col3\" class=\"data row4 col3\" >1.000000</td>\n",
              "      <td id=\"T_a3d9f_row4_col4\" class=\"data row4 col4\" >1.000000</td>\n",
              "      <td id=\"T_a3d9f_row4_col5\" class=\"data row4 col5\" >0.804574</td>\n",
              "    </tr>\n",
              "    <tr>\n",
              "      <th id=\"T_a3d9f_level0_row5\" class=\"row_heading level0 row5\" >L5</th>\n",
              "      <td id=\"T_a3d9f_row5_col0\" class=\"data row5 col0\" >0.003598</td>\n",
              "      <td id=\"T_a3d9f_row5_col1\" class=\"data row5 col1\" >0.407832</td>\n",
              "      <td id=\"T_a3d9f_row5_col2\" class=\"data row5 col2\" >0.804574</td>\n",
              "      <td id=\"T_a3d9f_row5_col3\" class=\"data row5 col3\" >0.599637</td>\n",
              "      <td id=\"T_a3d9f_row5_col4\" class=\"data row5 col4\" >0.804574</td>\n",
              "      <td id=\"T_a3d9f_row5_col5\" class=\"data row5 col5\" >1.000000</td>\n",
              "    </tr>\n",
              "  </tbody>\n",
              "</table>\n"
            ]
          },
          "metadata": {}
        },
        {
          "output_type": "stream",
          "name": "stdout",
          "text": [
            "\n",
            "std_str_dur\n"
          ]
        },
        {
          "output_type": "display_data",
          "data": {
            "text/plain": [
              "<pandas.io.formats.style.Styler at 0x7faecf4bd9d0>"
            ],
            "text/html": [
              "<style type=\"text/css\">\n",
              "#T_385d0_row0_col0, #T_385d0_row0_col1, #T_385d0_row0_col2, #T_385d0_row0_col3, #T_385d0_row0_col4, #T_385d0_row1_col0, #T_385d0_row1_col1, #T_385d0_row1_col2, #T_385d0_row1_col3, #T_385d0_row1_col4, #T_385d0_row1_col5, #T_385d0_row2_col0, #T_385d0_row2_col1, #T_385d0_row2_col2, #T_385d0_row2_col3, #T_385d0_row2_col4, #T_385d0_row2_col5, #T_385d0_row3_col0, #T_385d0_row3_col1, #T_385d0_row3_col2, #T_385d0_row3_col3, #T_385d0_row3_col4, #T_385d0_row3_col5, #T_385d0_row4_col0, #T_385d0_row4_col1, #T_385d0_row4_col2, #T_385d0_row4_col3, #T_385d0_row4_col4, #T_385d0_row4_col5, #T_385d0_row5_col1, #T_385d0_row5_col2, #T_385d0_row5_col3, #T_385d0_row5_col4, #T_385d0_row5_col5 {\n",
              "  background-color: white;\n",
              "}\n",
              "#T_385d0_row0_col5, #T_385d0_row5_col0 {\n",
              "  background-color: red;\n",
              "}\n",
              "</style>\n",
              "<table id=\"T_385d0_\" class=\"dataframe\">\n",
              "  <thead>\n",
              "    <tr>\n",
              "      <th class=\"blank level0\" >&nbsp;</th>\n",
              "      <th class=\"col_heading level0 col0\" >L0</th>\n",
              "      <th class=\"col_heading level0 col1\" >L1</th>\n",
              "      <th class=\"col_heading level0 col2\" >L2</th>\n",
              "      <th class=\"col_heading level0 col3\" >L3</th>\n",
              "      <th class=\"col_heading level0 col4\" >L4</th>\n",
              "      <th class=\"col_heading level0 col5\" >L5</th>\n",
              "    </tr>\n",
              "  </thead>\n",
              "  <tbody>\n",
              "    <tr>\n",
              "      <th id=\"T_385d0_level0_row0\" class=\"row_heading level0 row0\" >L0</th>\n",
              "      <td id=\"T_385d0_row0_col0\" class=\"data row0 col0\" >1.000000</td>\n",
              "      <td id=\"T_385d0_row0_col1\" class=\"data row0 col1\" >1.000000</td>\n",
              "      <td id=\"T_385d0_row0_col2\" class=\"data row0 col2\" >1.000000</td>\n",
              "      <td id=\"T_385d0_row0_col3\" class=\"data row0 col3\" >0.891904</td>\n",
              "      <td id=\"T_385d0_row0_col4\" class=\"data row0 col4\" >0.420409</td>\n",
              "      <td id=\"T_385d0_row0_col5\" class=\"data row0 col5\" >0.041628</td>\n",
              "    </tr>\n",
              "    <tr>\n",
              "      <th id=\"T_385d0_level0_row1\" class=\"row_heading level0 row1\" >L1</th>\n",
              "      <td id=\"T_385d0_row1_col0\" class=\"data row1 col0\" >1.000000</td>\n",
              "      <td id=\"T_385d0_row1_col1\" class=\"data row1 col1\" >1.000000</td>\n",
              "      <td id=\"T_385d0_row1_col2\" class=\"data row1 col2\" >1.000000</td>\n",
              "      <td id=\"T_385d0_row1_col3\" class=\"data row1 col3\" >1.000000</td>\n",
              "      <td id=\"T_385d0_row1_col4\" class=\"data row1 col4\" >1.000000</td>\n",
              "      <td id=\"T_385d0_row1_col5\" class=\"data row1 col5\" >0.620505</td>\n",
              "    </tr>\n",
              "    <tr>\n",
              "      <th id=\"T_385d0_level0_row2\" class=\"row_heading level0 row2\" >L2</th>\n",
              "      <td id=\"T_385d0_row2_col0\" class=\"data row2 col0\" >1.000000</td>\n",
              "      <td id=\"T_385d0_row2_col1\" class=\"data row2 col1\" >1.000000</td>\n",
              "      <td id=\"T_385d0_row2_col2\" class=\"data row2 col2\" >1.000000</td>\n",
              "      <td id=\"T_385d0_row2_col3\" class=\"data row2 col3\" >1.000000</td>\n",
              "      <td id=\"T_385d0_row2_col4\" class=\"data row2 col4\" >1.000000</td>\n",
              "      <td id=\"T_385d0_row2_col5\" class=\"data row2 col5\" >0.269891</td>\n",
              "    </tr>\n",
              "    <tr>\n",
              "      <th id=\"T_385d0_level0_row3\" class=\"row_heading level0 row3\" >L3</th>\n",
              "      <td id=\"T_385d0_row3_col0\" class=\"data row3 col0\" >0.891904</td>\n",
              "      <td id=\"T_385d0_row3_col1\" class=\"data row3 col1\" >1.000000</td>\n",
              "      <td id=\"T_385d0_row3_col2\" class=\"data row3 col2\" >1.000000</td>\n",
              "      <td id=\"T_385d0_row3_col3\" class=\"data row3 col3\" >1.000000</td>\n",
              "      <td id=\"T_385d0_row3_col4\" class=\"data row3 col4\" >1.000000</td>\n",
              "      <td id=\"T_385d0_row3_col5\" class=\"data row3 col5\" >1.000000</td>\n",
              "    </tr>\n",
              "    <tr>\n",
              "      <th id=\"T_385d0_level0_row4\" class=\"row_heading level0 row4\" >L4</th>\n",
              "      <td id=\"T_385d0_row4_col0\" class=\"data row4 col0\" >0.420409</td>\n",
              "      <td id=\"T_385d0_row4_col1\" class=\"data row4 col1\" >1.000000</td>\n",
              "      <td id=\"T_385d0_row4_col2\" class=\"data row4 col2\" >1.000000</td>\n",
              "      <td id=\"T_385d0_row4_col3\" class=\"data row4 col3\" >1.000000</td>\n",
              "      <td id=\"T_385d0_row4_col4\" class=\"data row4 col4\" >1.000000</td>\n",
              "      <td id=\"T_385d0_row4_col5\" class=\"data row4 col5\" >1.000000</td>\n",
              "    </tr>\n",
              "    <tr>\n",
              "      <th id=\"T_385d0_level0_row5\" class=\"row_heading level0 row5\" >L5</th>\n",
              "      <td id=\"T_385d0_row5_col0\" class=\"data row5 col0\" >0.041628</td>\n",
              "      <td id=\"T_385d0_row5_col1\" class=\"data row5 col1\" >0.620505</td>\n",
              "      <td id=\"T_385d0_row5_col2\" class=\"data row5 col2\" >0.269891</td>\n",
              "      <td id=\"T_385d0_row5_col3\" class=\"data row5 col3\" >1.000000</td>\n",
              "      <td id=\"T_385d0_row5_col4\" class=\"data row5 col4\" >1.000000</td>\n",
              "      <td id=\"T_385d0_row5_col5\" class=\"data row5 col5\" >1.000000</td>\n",
              "    </tr>\n",
              "  </tbody>\n",
              "</table>\n"
            ]
          },
          "metadata": {}
        },
        {
          "output_type": "stream",
          "name": "stdout",
          "text": [
            "\n",
            "mean_str_len\n"
          ]
        },
        {
          "output_type": "display_data",
          "data": {
            "text/plain": [
              "<pandas.io.formats.style.Styler at 0x7faecf465ad0>"
            ],
            "text/html": [
              "<style type=\"text/css\">\n",
              "#T_7fd3a_row0_col0, #T_7fd3a_row0_col1, #T_7fd3a_row0_col2, #T_7fd3a_row0_col3, #T_7fd3a_row0_col4, #T_7fd3a_row1_col0, #T_7fd3a_row1_col1, #T_7fd3a_row1_col2, #T_7fd3a_row1_col3, #T_7fd3a_row1_col4, #T_7fd3a_row1_col5, #T_7fd3a_row2_col0, #T_7fd3a_row2_col1, #T_7fd3a_row2_col2, #T_7fd3a_row2_col3, #T_7fd3a_row2_col4, #T_7fd3a_row2_col5, #T_7fd3a_row3_col0, #T_7fd3a_row3_col1, #T_7fd3a_row3_col2, #T_7fd3a_row3_col3, #T_7fd3a_row3_col4, #T_7fd3a_row3_col5, #T_7fd3a_row4_col0, #T_7fd3a_row4_col1, #T_7fd3a_row4_col2, #T_7fd3a_row4_col3, #T_7fd3a_row4_col4, #T_7fd3a_row4_col5, #T_7fd3a_row5_col1, #T_7fd3a_row5_col2, #T_7fd3a_row5_col3, #T_7fd3a_row5_col4, #T_7fd3a_row5_col5 {\n",
              "  background-color: white;\n",
              "}\n",
              "#T_7fd3a_row0_col5, #T_7fd3a_row5_col0 {\n",
              "  background-color: red;\n",
              "}\n",
              "</style>\n",
              "<table id=\"T_7fd3a_\" class=\"dataframe\">\n",
              "  <thead>\n",
              "    <tr>\n",
              "      <th class=\"blank level0\" >&nbsp;</th>\n",
              "      <th class=\"col_heading level0 col0\" >L0</th>\n",
              "      <th class=\"col_heading level0 col1\" >L1</th>\n",
              "      <th class=\"col_heading level0 col2\" >L2</th>\n",
              "      <th class=\"col_heading level0 col3\" >L3</th>\n",
              "      <th class=\"col_heading level0 col4\" >L4</th>\n",
              "      <th class=\"col_heading level0 col5\" >L5</th>\n",
              "    </tr>\n",
              "  </thead>\n",
              "  <tbody>\n",
              "    <tr>\n",
              "      <th id=\"T_7fd3a_level0_row0\" class=\"row_heading level0 row0\" >L0</th>\n",
              "      <td id=\"T_7fd3a_row0_col0\" class=\"data row0 col0\" >1.000000</td>\n",
              "      <td id=\"T_7fd3a_row0_col1\" class=\"data row0 col1\" >1.000000</td>\n",
              "      <td id=\"T_7fd3a_row0_col2\" class=\"data row0 col2\" >1.000000</td>\n",
              "      <td id=\"T_7fd3a_row0_col3\" class=\"data row0 col3\" >0.465540</td>\n",
              "      <td id=\"T_7fd3a_row0_col4\" class=\"data row0 col4\" >0.651758</td>\n",
              "      <td id=\"T_7fd3a_row0_col5\" class=\"data row0 col5\" >0.005124</td>\n",
              "    </tr>\n",
              "    <tr>\n",
              "      <th id=\"T_7fd3a_level0_row1\" class=\"row_heading level0 row1\" >L1</th>\n",
              "      <td id=\"T_7fd3a_row1_col0\" class=\"data row1 col0\" >1.000000</td>\n",
              "      <td id=\"T_7fd3a_row1_col1\" class=\"data row1 col1\" >1.000000</td>\n",
              "      <td id=\"T_7fd3a_row1_col2\" class=\"data row1 col2\" >1.000000</td>\n",
              "      <td id=\"T_7fd3a_row1_col3\" class=\"data row1 col3\" >1.000000</td>\n",
              "      <td id=\"T_7fd3a_row1_col4\" class=\"data row1 col4\" >1.000000</td>\n",
              "      <td id=\"T_7fd3a_row1_col5\" class=\"data row1 col5\" >0.275434</td>\n",
              "    </tr>\n",
              "    <tr>\n",
              "      <th id=\"T_7fd3a_level0_row2\" class=\"row_heading level0 row2\" >L2</th>\n",
              "      <td id=\"T_7fd3a_row2_col0\" class=\"data row2 col0\" >1.000000</td>\n",
              "      <td id=\"T_7fd3a_row2_col1\" class=\"data row2 col1\" >1.000000</td>\n",
              "      <td id=\"T_7fd3a_row2_col2\" class=\"data row2 col2\" >1.000000</td>\n",
              "      <td id=\"T_7fd3a_row2_col3\" class=\"data row2 col3\" >1.000000</td>\n",
              "      <td id=\"T_7fd3a_row2_col4\" class=\"data row2 col4\" >1.000000</td>\n",
              "      <td id=\"T_7fd3a_row2_col5\" class=\"data row2 col5\" >0.394976</td>\n",
              "    </tr>\n",
              "    <tr>\n",
              "      <th id=\"T_7fd3a_level0_row3\" class=\"row_heading level0 row3\" >L3</th>\n",
              "      <td id=\"T_7fd3a_row3_col0\" class=\"data row3 col0\" >0.465540</td>\n",
              "      <td id=\"T_7fd3a_row3_col1\" class=\"data row3 col1\" >1.000000</td>\n",
              "      <td id=\"T_7fd3a_row3_col2\" class=\"data row3 col2\" >1.000000</td>\n",
              "      <td id=\"T_7fd3a_row3_col3\" class=\"data row3 col3\" >1.000000</td>\n",
              "      <td id=\"T_7fd3a_row3_col4\" class=\"data row3 col4\" >1.000000</td>\n",
              "      <td id=\"T_7fd3a_row3_col5\" class=\"data row3 col5\" >1.000000</td>\n",
              "    </tr>\n",
              "    <tr>\n",
              "      <th id=\"T_7fd3a_level0_row4\" class=\"row_heading level0 row4\" >L4</th>\n",
              "      <td id=\"T_7fd3a_row4_col0\" class=\"data row4 col0\" >0.651758</td>\n",
              "      <td id=\"T_7fd3a_row4_col1\" class=\"data row4 col1\" >1.000000</td>\n",
              "      <td id=\"T_7fd3a_row4_col2\" class=\"data row4 col2\" >1.000000</td>\n",
              "      <td id=\"T_7fd3a_row4_col3\" class=\"data row4 col3\" >1.000000</td>\n",
              "      <td id=\"T_7fd3a_row4_col4\" class=\"data row4 col4\" >1.000000</td>\n",
              "      <td id=\"T_7fd3a_row4_col5\" class=\"data row4 col5\" >0.822789</td>\n",
              "    </tr>\n",
              "    <tr>\n",
              "      <th id=\"T_7fd3a_level0_row5\" class=\"row_heading level0 row5\" >L5</th>\n",
              "      <td id=\"T_7fd3a_row5_col0\" class=\"data row5 col0\" >0.005124</td>\n",
              "      <td id=\"T_7fd3a_row5_col1\" class=\"data row5 col1\" >0.275434</td>\n",
              "      <td id=\"T_7fd3a_row5_col2\" class=\"data row5 col2\" >0.394976</td>\n",
              "      <td id=\"T_7fd3a_row5_col3\" class=\"data row5 col3\" >1.000000</td>\n",
              "      <td id=\"T_7fd3a_row5_col4\" class=\"data row5 col4\" >0.822789</td>\n",
              "      <td id=\"T_7fd3a_row5_col5\" class=\"data row5 col5\" >1.000000</td>\n",
              "    </tr>\n",
              "  </tbody>\n",
              "</table>\n"
            ]
          },
          "metadata": {}
        },
        {
          "output_type": "stream",
          "name": "stdout",
          "text": [
            "\n",
            "std_str_len\n"
          ]
        },
        {
          "output_type": "display_data",
          "data": {
            "text/plain": [
              "<pandas.io.formats.style.Styler at 0x7faecffb1d10>"
            ],
            "text/html": [
              "<style type=\"text/css\">\n",
              "#T_d8584_row0_col0, #T_d8584_row0_col1, #T_d8584_row0_col2, #T_d8584_row0_col3, #T_d8584_row0_col4, #T_d8584_row0_col5, #T_d8584_row1_col0, #T_d8584_row1_col1, #T_d8584_row1_col2, #T_d8584_row1_col3, #T_d8584_row1_col4, #T_d8584_row1_col5, #T_d8584_row2_col0, #T_d8584_row2_col1, #T_d8584_row2_col2, #T_d8584_row2_col3, #T_d8584_row2_col4, #T_d8584_row2_col5, #T_d8584_row3_col0, #T_d8584_row3_col1, #T_d8584_row3_col2, #T_d8584_row3_col3, #T_d8584_row3_col4, #T_d8584_row3_col5, #T_d8584_row4_col0, #T_d8584_row4_col1, #T_d8584_row4_col2, #T_d8584_row4_col3, #T_d8584_row4_col4, #T_d8584_row4_col5, #T_d8584_row5_col0, #T_d8584_row5_col1, #T_d8584_row5_col2, #T_d8584_row5_col3, #T_d8584_row5_col4, #T_d8584_row5_col5 {\n",
              "  background-color: white;\n",
              "}\n",
              "</style>\n",
              "<table id=\"T_d8584_\" class=\"dataframe\">\n",
              "  <thead>\n",
              "    <tr>\n",
              "      <th class=\"blank level0\" >&nbsp;</th>\n",
              "      <th class=\"col_heading level0 col0\" >L0</th>\n",
              "      <th class=\"col_heading level0 col1\" >L1</th>\n",
              "      <th class=\"col_heading level0 col2\" >L2</th>\n",
              "      <th class=\"col_heading level0 col3\" >L3</th>\n",
              "      <th class=\"col_heading level0 col4\" >L4</th>\n",
              "      <th class=\"col_heading level0 col5\" >L5</th>\n",
              "    </tr>\n",
              "  </thead>\n",
              "  <tbody>\n",
              "    <tr>\n",
              "      <th id=\"T_d8584_level0_row0\" class=\"row_heading level0 row0\" >L0</th>\n",
              "      <td id=\"T_d8584_row0_col0\" class=\"data row0 col0\" >1.000000</td>\n",
              "      <td id=\"T_d8584_row0_col1\" class=\"data row0 col1\" >1.000000</td>\n",
              "      <td id=\"T_d8584_row0_col2\" class=\"data row0 col2\" >1.000000</td>\n",
              "      <td id=\"T_d8584_row0_col3\" class=\"data row0 col3\" >0.444094</td>\n",
              "      <td id=\"T_d8584_row0_col4\" class=\"data row0 col4\" >0.402747</td>\n",
              "      <td id=\"T_d8584_row0_col5\" class=\"data row0 col5\" >0.083980</td>\n",
              "    </tr>\n",
              "    <tr>\n",
              "      <th id=\"T_d8584_level0_row1\" class=\"row_heading level0 row1\" >L1</th>\n",
              "      <td id=\"T_d8584_row1_col0\" class=\"data row1 col0\" >1.000000</td>\n",
              "      <td id=\"T_d8584_row1_col1\" class=\"data row1 col1\" >1.000000</td>\n",
              "      <td id=\"T_d8584_row1_col2\" class=\"data row1 col2\" >1.000000</td>\n",
              "      <td id=\"T_d8584_row1_col3\" class=\"data row1 col3\" >1.000000</td>\n",
              "      <td id=\"T_d8584_row1_col4\" class=\"data row1 col4\" >1.000000</td>\n",
              "      <td id=\"T_d8584_row1_col5\" class=\"data row1 col5\" >1.000000</td>\n",
              "    </tr>\n",
              "    <tr>\n",
              "      <th id=\"T_d8584_level0_row2\" class=\"row_heading level0 row2\" >L2</th>\n",
              "      <td id=\"T_d8584_row2_col0\" class=\"data row2 col0\" >1.000000</td>\n",
              "      <td id=\"T_d8584_row2_col1\" class=\"data row2 col1\" >1.000000</td>\n",
              "      <td id=\"T_d8584_row2_col2\" class=\"data row2 col2\" >1.000000</td>\n",
              "      <td id=\"T_d8584_row2_col3\" class=\"data row2 col3\" >1.000000</td>\n",
              "      <td id=\"T_d8584_row2_col4\" class=\"data row2 col4\" >1.000000</td>\n",
              "      <td id=\"T_d8584_row2_col5\" class=\"data row2 col5\" >0.713545</td>\n",
              "    </tr>\n",
              "    <tr>\n",
              "      <th id=\"T_d8584_level0_row3\" class=\"row_heading level0 row3\" >L3</th>\n",
              "      <td id=\"T_d8584_row3_col0\" class=\"data row3 col0\" >0.444094</td>\n",
              "      <td id=\"T_d8584_row3_col1\" class=\"data row3 col1\" >1.000000</td>\n",
              "      <td id=\"T_d8584_row3_col2\" class=\"data row3 col2\" >1.000000</td>\n",
              "      <td id=\"T_d8584_row3_col3\" class=\"data row3 col3\" >1.000000</td>\n",
              "      <td id=\"T_d8584_row3_col4\" class=\"data row3 col4\" >1.000000</td>\n",
              "      <td id=\"T_d8584_row3_col5\" class=\"data row3 col5\" >1.000000</td>\n",
              "    </tr>\n",
              "    <tr>\n",
              "      <th id=\"T_d8584_level0_row4\" class=\"row_heading level0 row4\" >L4</th>\n",
              "      <td id=\"T_d8584_row4_col0\" class=\"data row4 col0\" >0.402747</td>\n",
              "      <td id=\"T_d8584_row4_col1\" class=\"data row4 col1\" >1.000000</td>\n",
              "      <td id=\"T_d8584_row4_col2\" class=\"data row4 col2\" >1.000000</td>\n",
              "      <td id=\"T_d8584_row4_col3\" class=\"data row4 col3\" >1.000000</td>\n",
              "      <td id=\"T_d8584_row4_col4\" class=\"data row4 col4\" >1.000000</td>\n",
              "      <td id=\"T_d8584_row4_col5\" class=\"data row4 col5\" >1.000000</td>\n",
              "    </tr>\n",
              "    <tr>\n",
              "      <th id=\"T_d8584_level0_row5\" class=\"row_heading level0 row5\" >L5</th>\n",
              "      <td id=\"T_d8584_row5_col0\" class=\"data row5 col0\" >0.083980</td>\n",
              "      <td id=\"T_d8584_row5_col1\" class=\"data row5 col1\" >1.000000</td>\n",
              "      <td id=\"T_d8584_row5_col2\" class=\"data row5 col2\" >0.713545</td>\n",
              "      <td id=\"T_d8584_row5_col3\" class=\"data row5 col3\" >1.000000</td>\n",
              "      <td id=\"T_d8584_row5_col4\" class=\"data row5 col4\" >1.000000</td>\n",
              "      <td id=\"T_d8584_row5_col5\" class=\"data row5 col5\" >1.000000</td>\n",
              "    </tr>\n",
              "  </tbody>\n",
              "</table>\n"
            ]
          },
          "metadata": {}
        },
        {
          "output_type": "stream",
          "name": "stdout",
          "text": [
            "\n",
            "max_acc\n"
          ]
        },
        {
          "output_type": "display_data",
          "data": {
            "text/plain": [
              "<pandas.io.formats.style.Styler at 0x7faed025a3d0>"
            ],
            "text/html": [
              "<style type=\"text/css\">\n",
              "#T_84fd5_row0_col0, #T_84fd5_row1_col1, #T_84fd5_row1_col2, #T_84fd5_row2_col1, #T_84fd5_row2_col2, #T_84fd5_row3_col3, #T_84fd5_row3_col5, #T_84fd5_row4_col4, #T_84fd5_row4_col5, #T_84fd5_row5_col3, #T_84fd5_row5_col4, #T_84fd5_row5_col5 {\n",
              "  background-color: white;\n",
              "}\n",
              "#T_84fd5_row0_col1, #T_84fd5_row0_col2, #T_84fd5_row0_col3, #T_84fd5_row0_col4, #T_84fd5_row0_col5, #T_84fd5_row1_col0, #T_84fd5_row1_col3, #T_84fd5_row1_col4, #T_84fd5_row1_col5, #T_84fd5_row2_col0, #T_84fd5_row2_col3, #T_84fd5_row2_col4, #T_84fd5_row2_col5, #T_84fd5_row3_col0, #T_84fd5_row3_col1, #T_84fd5_row3_col2, #T_84fd5_row3_col4, #T_84fd5_row4_col0, #T_84fd5_row4_col1, #T_84fd5_row4_col2, #T_84fd5_row4_col3, #T_84fd5_row5_col0, #T_84fd5_row5_col1, #T_84fd5_row5_col2 {\n",
              "  background-color: red;\n",
              "}\n",
              "</style>\n",
              "<table id=\"T_84fd5_\" class=\"dataframe\">\n",
              "  <thead>\n",
              "    <tr>\n",
              "      <th class=\"blank level0\" >&nbsp;</th>\n",
              "      <th class=\"col_heading level0 col0\" >L0</th>\n",
              "      <th class=\"col_heading level0 col1\" >L1</th>\n",
              "      <th class=\"col_heading level0 col2\" >L2</th>\n",
              "      <th class=\"col_heading level0 col3\" >L3</th>\n",
              "      <th class=\"col_heading level0 col4\" >L4</th>\n",
              "      <th class=\"col_heading level0 col5\" >L5</th>\n",
              "    </tr>\n",
              "  </thead>\n",
              "  <tbody>\n",
              "    <tr>\n",
              "      <th id=\"T_84fd5_level0_row0\" class=\"row_heading level0 row0\" >L0</th>\n",
              "      <td id=\"T_84fd5_row0_col0\" class=\"data row0 col0\" >1.000000</td>\n",
              "      <td id=\"T_84fd5_row0_col1\" class=\"data row0 col1\" >0.005860</td>\n",
              "      <td id=\"T_84fd5_row0_col2\" class=\"data row0 col2\" >0.025339</td>\n",
              "      <td id=\"T_84fd5_row0_col3\" class=\"data row0 col3\" >0.000000</td>\n",
              "      <td id=\"T_84fd5_row0_col4\" class=\"data row0 col4\" >0.000000</td>\n",
              "      <td id=\"T_84fd5_row0_col5\" class=\"data row0 col5\" >0.000000</td>\n",
              "    </tr>\n",
              "    <tr>\n",
              "      <th id=\"T_84fd5_level0_row1\" class=\"row_heading level0 row1\" >L1</th>\n",
              "      <td id=\"T_84fd5_row1_col0\" class=\"data row1 col0\" >0.005860</td>\n",
              "      <td id=\"T_84fd5_row1_col1\" class=\"data row1 col1\" >1.000000</td>\n",
              "      <td id=\"T_84fd5_row1_col2\" class=\"data row1 col2\" >1.000000</td>\n",
              "      <td id=\"T_84fd5_row1_col3\" class=\"data row1 col3\" >0.033045</td>\n",
              "      <td id=\"T_84fd5_row1_col4\" class=\"data row1 col4\" >0.000001</td>\n",
              "      <td id=\"T_84fd5_row1_col5\" class=\"data row1 col5\" >0.000011</td>\n",
              "    </tr>\n",
              "    <tr>\n",
              "      <th id=\"T_84fd5_level0_row2\" class=\"row_heading level0 row2\" >L2</th>\n",
              "      <td id=\"T_84fd5_row2_col0\" class=\"data row2 col0\" >0.025339</td>\n",
              "      <td id=\"T_84fd5_row2_col1\" class=\"data row2 col1\" >1.000000</td>\n",
              "      <td id=\"T_84fd5_row2_col2\" class=\"data row2 col2\" >1.000000</td>\n",
              "      <td id=\"T_84fd5_row2_col3\" class=\"data row2 col3\" >0.009047</td>\n",
              "      <td id=\"T_84fd5_row2_col4\" class=\"data row2 col4\" >0.000000</td>\n",
              "      <td id=\"T_84fd5_row2_col5\" class=\"data row2 col5\" >0.000001</td>\n",
              "    </tr>\n",
              "    <tr>\n",
              "      <th id=\"T_84fd5_level0_row3\" class=\"row_heading level0 row3\" >L3</th>\n",
              "      <td id=\"T_84fd5_row3_col0\" class=\"data row3 col0\" >0.000000</td>\n",
              "      <td id=\"T_84fd5_row3_col1\" class=\"data row3 col1\" >0.033045</td>\n",
              "      <td id=\"T_84fd5_row3_col2\" class=\"data row3 col2\" >0.009047</td>\n",
              "      <td id=\"T_84fd5_row3_col3\" class=\"data row3 col3\" >1.000000</td>\n",
              "      <td id=\"T_84fd5_row3_col4\" class=\"data row3 col4\" >0.019779</td>\n",
              "      <td id=\"T_84fd5_row3_col5\" class=\"data row3 col5\" >0.061954</td>\n",
              "    </tr>\n",
              "    <tr>\n",
              "      <th id=\"T_84fd5_level0_row4\" class=\"row_heading level0 row4\" >L4</th>\n",
              "      <td id=\"T_84fd5_row4_col0\" class=\"data row4 col0\" >0.000000</td>\n",
              "      <td id=\"T_84fd5_row4_col1\" class=\"data row4 col1\" >0.000001</td>\n",
              "      <td id=\"T_84fd5_row4_col2\" class=\"data row4 col2\" >0.000000</td>\n",
              "      <td id=\"T_84fd5_row4_col3\" class=\"data row4 col3\" >0.019779</td>\n",
              "      <td id=\"T_84fd5_row4_col4\" class=\"data row4 col4\" >1.000000</td>\n",
              "      <td id=\"T_84fd5_row4_col5\" class=\"data row4 col5\" >1.000000</td>\n",
              "    </tr>\n",
              "    <tr>\n",
              "      <th id=\"T_84fd5_level0_row5\" class=\"row_heading level0 row5\" >L5</th>\n",
              "      <td id=\"T_84fd5_row5_col0\" class=\"data row5 col0\" >0.000000</td>\n",
              "      <td id=\"T_84fd5_row5_col1\" class=\"data row5 col1\" >0.000011</td>\n",
              "      <td id=\"T_84fd5_row5_col2\" class=\"data row5 col2\" >0.000001</td>\n",
              "      <td id=\"T_84fd5_row5_col3\" class=\"data row5 col3\" >0.061954</td>\n",
              "      <td id=\"T_84fd5_row5_col4\" class=\"data row5 col4\" >1.000000</td>\n",
              "      <td id=\"T_84fd5_row5_col5\" class=\"data row5 col5\" >1.000000</td>\n",
              "    </tr>\n",
              "  </tbody>\n",
              "</table>\n"
            ]
          },
          "metadata": {}
        },
        {
          "output_type": "stream",
          "name": "stdout",
          "text": [
            "\n",
            "mean_acc\n"
          ]
        },
        {
          "output_type": "display_data",
          "data": {
            "text/plain": [
              "<pandas.io.formats.style.Styler at 0x7faecef62ad0>"
            ],
            "text/html": [
              "<style type=\"text/css\">\n",
              "#T_6cd66_row0_col0, #T_6cd66_row0_col1, #T_6cd66_row0_col2, #T_6cd66_row1_col0, #T_6cd66_row1_col1, #T_6cd66_row1_col2, #T_6cd66_row2_col0, #T_6cd66_row2_col1, #T_6cd66_row2_col2, #T_6cd66_row3_col3, #T_6cd66_row3_col4, #T_6cd66_row4_col3, #T_6cd66_row4_col4, #T_6cd66_row4_col5, #T_6cd66_row5_col4, #T_6cd66_row5_col5 {\n",
              "  background-color: white;\n",
              "}\n",
              "#T_6cd66_row0_col3, #T_6cd66_row0_col4, #T_6cd66_row0_col5, #T_6cd66_row1_col3, #T_6cd66_row1_col4, #T_6cd66_row1_col5, #T_6cd66_row2_col3, #T_6cd66_row2_col4, #T_6cd66_row2_col5, #T_6cd66_row3_col0, #T_6cd66_row3_col1, #T_6cd66_row3_col2, #T_6cd66_row3_col5, #T_6cd66_row4_col0, #T_6cd66_row4_col1, #T_6cd66_row4_col2, #T_6cd66_row5_col0, #T_6cd66_row5_col1, #T_6cd66_row5_col2, #T_6cd66_row5_col3 {\n",
              "  background-color: red;\n",
              "}\n",
              "</style>\n",
              "<table id=\"T_6cd66_\" class=\"dataframe\">\n",
              "  <thead>\n",
              "    <tr>\n",
              "      <th class=\"blank level0\" >&nbsp;</th>\n",
              "      <th class=\"col_heading level0 col0\" >L0</th>\n",
              "      <th class=\"col_heading level0 col1\" >L1</th>\n",
              "      <th class=\"col_heading level0 col2\" >L2</th>\n",
              "      <th class=\"col_heading level0 col3\" >L3</th>\n",
              "      <th class=\"col_heading level0 col4\" >L4</th>\n",
              "      <th class=\"col_heading level0 col5\" >L5</th>\n",
              "    </tr>\n",
              "  </thead>\n",
              "  <tbody>\n",
              "    <tr>\n",
              "      <th id=\"T_6cd66_level0_row0\" class=\"row_heading level0 row0\" >L0</th>\n",
              "      <td id=\"T_6cd66_row0_col0\" class=\"data row0 col0\" >1.000000</td>\n",
              "      <td id=\"T_6cd66_row0_col1\" class=\"data row0 col1\" >0.817273</td>\n",
              "      <td id=\"T_6cd66_row0_col2\" class=\"data row0 col2\" >0.781464</td>\n",
              "      <td id=\"T_6cd66_row0_col3\" class=\"data row0 col3\" >0.000000</td>\n",
              "      <td id=\"T_6cd66_row0_col4\" class=\"data row0 col4\" >0.000000</td>\n",
              "      <td id=\"T_6cd66_row0_col5\" class=\"data row0 col5\" >0.000000</td>\n",
              "    </tr>\n",
              "    <tr>\n",
              "      <th id=\"T_6cd66_level0_row1\" class=\"row_heading level0 row1\" >L1</th>\n",
              "      <td id=\"T_6cd66_row1_col0\" class=\"data row1 col0\" >0.817273</td>\n",
              "      <td id=\"T_6cd66_row1_col1\" class=\"data row1 col1\" >1.000000</td>\n",
              "      <td id=\"T_6cd66_row1_col2\" class=\"data row1 col2\" >0.842727</td>\n",
              "      <td id=\"T_6cd66_row1_col3\" class=\"data row1 col3\" >0.000002</td>\n",
              "      <td id=\"T_6cd66_row1_col4\" class=\"data row1 col4\" >0.000000</td>\n",
              "      <td id=\"T_6cd66_row1_col5\" class=\"data row1 col5\" >0.000000</td>\n",
              "    </tr>\n",
              "    <tr>\n",
              "      <th id=\"T_6cd66_level0_row2\" class=\"row_heading level0 row2\" >L2</th>\n",
              "      <td id=\"T_6cd66_row2_col0\" class=\"data row2 col0\" >0.781464</td>\n",
              "      <td id=\"T_6cd66_row2_col1\" class=\"data row2 col1\" >0.842727</td>\n",
              "      <td id=\"T_6cd66_row2_col2\" class=\"data row2 col2\" >1.000000</td>\n",
              "      <td id=\"T_6cd66_row2_col3\" class=\"data row2 col3\" >0.000004</td>\n",
              "      <td id=\"T_6cd66_row2_col4\" class=\"data row2 col4\" >0.000000</td>\n",
              "      <td id=\"T_6cd66_row2_col5\" class=\"data row2 col5\" >0.000000</td>\n",
              "    </tr>\n",
              "    <tr>\n",
              "      <th id=\"T_6cd66_level0_row3\" class=\"row_heading level0 row3\" >L3</th>\n",
              "      <td id=\"T_6cd66_row3_col0\" class=\"data row3 col0\" >0.000000</td>\n",
              "      <td id=\"T_6cd66_row3_col1\" class=\"data row3 col1\" >0.000002</td>\n",
              "      <td id=\"T_6cd66_row3_col2\" class=\"data row3 col2\" >0.000004</td>\n",
              "      <td id=\"T_6cd66_row3_col3\" class=\"data row3 col3\" >1.000000</td>\n",
              "      <td id=\"T_6cd66_row3_col4\" class=\"data row3 col4\" >0.349659</td>\n",
              "      <td id=\"T_6cd66_row3_col5\" class=\"data row3 col5\" >0.034718</td>\n",
              "    </tr>\n",
              "    <tr>\n",
              "      <th id=\"T_6cd66_level0_row4\" class=\"row_heading level0 row4\" >L4</th>\n",
              "      <td id=\"T_6cd66_row4_col0\" class=\"data row4 col0\" >0.000000</td>\n",
              "      <td id=\"T_6cd66_row4_col1\" class=\"data row4 col1\" >0.000000</td>\n",
              "      <td id=\"T_6cd66_row4_col2\" class=\"data row4 col2\" >0.000000</td>\n",
              "      <td id=\"T_6cd66_row4_col3\" class=\"data row4 col3\" >0.349659</td>\n",
              "      <td id=\"T_6cd66_row4_col4\" class=\"data row4 col4\" >1.000000</td>\n",
              "      <td id=\"T_6cd66_row4_col5\" class=\"data row4 col5\" >0.817273</td>\n",
              "    </tr>\n",
              "    <tr>\n",
              "      <th id=\"T_6cd66_level0_row5\" class=\"row_heading level0 row5\" >L5</th>\n",
              "      <td id=\"T_6cd66_row5_col0\" class=\"data row5 col0\" >0.000000</td>\n",
              "      <td id=\"T_6cd66_row5_col1\" class=\"data row5 col1\" >0.000000</td>\n",
              "      <td id=\"T_6cd66_row5_col2\" class=\"data row5 col2\" >0.000000</td>\n",
              "      <td id=\"T_6cd66_row5_col3\" class=\"data row5 col3\" >0.034718</td>\n",
              "      <td id=\"T_6cd66_row5_col4\" class=\"data row5 col4\" >0.817273</td>\n",
              "      <td id=\"T_6cd66_row5_col5\" class=\"data row5 col5\" >1.000000</td>\n",
              "    </tr>\n",
              "  </tbody>\n",
              "</table>\n"
            ]
          },
          "metadata": {}
        },
        {
          "output_type": "stream",
          "name": "stdout",
          "text": [
            "\n",
            "zrc_acc\n"
          ]
        },
        {
          "output_type": "display_data",
          "data": {
            "text/plain": [
              "<pandas.io.formats.style.Styler at 0x7faecf9b0f90>"
            ],
            "text/html": [
              "<style type=\"text/css\">\n",
              "#T_3cdf4_row0_col0, #T_3cdf4_row0_col1, #T_3cdf4_row0_col2, #T_3cdf4_row0_col3, #T_3cdf4_row0_col4, #T_3cdf4_row0_col5, #T_3cdf4_row1_col0, #T_3cdf4_row1_col1, #T_3cdf4_row1_col2, #T_3cdf4_row1_col3, #T_3cdf4_row1_col4, #T_3cdf4_row1_col5, #T_3cdf4_row2_col0, #T_3cdf4_row2_col1, #T_3cdf4_row2_col2, #T_3cdf4_row2_col3, #T_3cdf4_row2_col4, #T_3cdf4_row2_col5, #T_3cdf4_row3_col0, #T_3cdf4_row3_col1, #T_3cdf4_row3_col2, #T_3cdf4_row3_col3, #T_3cdf4_row3_col4, #T_3cdf4_row3_col5, #T_3cdf4_row4_col0, #T_3cdf4_row4_col1, #T_3cdf4_row4_col2, #T_3cdf4_row4_col3, #T_3cdf4_row4_col4, #T_3cdf4_row4_col5, #T_3cdf4_row5_col0, #T_3cdf4_row5_col1, #T_3cdf4_row5_col2, #T_3cdf4_row5_col3, #T_3cdf4_row5_col4, #T_3cdf4_row5_col5 {\n",
              "  background-color: white;\n",
              "}\n",
              "</style>\n",
              "<table id=\"T_3cdf4_\" class=\"dataframe\">\n",
              "  <thead>\n",
              "    <tr>\n",
              "      <th class=\"blank level0\" >&nbsp;</th>\n",
              "      <th class=\"col_heading level0 col0\" >L0</th>\n",
              "      <th class=\"col_heading level0 col1\" >L1</th>\n",
              "      <th class=\"col_heading level0 col2\" >L2</th>\n",
              "      <th class=\"col_heading level0 col3\" >L3</th>\n",
              "      <th class=\"col_heading level0 col4\" >L4</th>\n",
              "      <th class=\"col_heading level0 col5\" >L5</th>\n",
              "    </tr>\n",
              "  </thead>\n",
              "  <tbody>\n",
              "    <tr>\n",
              "      <th id=\"T_3cdf4_level0_row0\" class=\"row_heading level0 row0\" >L0</th>\n",
              "      <td id=\"T_3cdf4_row0_col0\" class=\"data row0 col0\" >1.000000</td>\n",
              "      <td id=\"T_3cdf4_row0_col1\" class=\"data row0 col1\" >1.000000</td>\n",
              "      <td id=\"T_3cdf4_row0_col2\" class=\"data row0 col2\" >1.000000</td>\n",
              "      <td id=\"T_3cdf4_row0_col3\" class=\"data row0 col3\" >1.000000</td>\n",
              "      <td id=\"T_3cdf4_row0_col4\" class=\"data row0 col4\" >1.000000</td>\n",
              "      <td id=\"T_3cdf4_row0_col5\" class=\"data row0 col5\" >1.000000</td>\n",
              "    </tr>\n",
              "    <tr>\n",
              "      <th id=\"T_3cdf4_level0_row1\" class=\"row_heading level0 row1\" >L1</th>\n",
              "      <td id=\"T_3cdf4_row1_col0\" class=\"data row1 col0\" >1.000000</td>\n",
              "      <td id=\"T_3cdf4_row1_col1\" class=\"data row1 col1\" >1.000000</td>\n",
              "      <td id=\"T_3cdf4_row1_col2\" class=\"data row1 col2\" >1.000000</td>\n",
              "      <td id=\"T_3cdf4_row1_col3\" class=\"data row1 col3\" >1.000000</td>\n",
              "      <td id=\"T_3cdf4_row1_col4\" class=\"data row1 col4\" >1.000000</td>\n",
              "      <td id=\"T_3cdf4_row1_col5\" class=\"data row1 col5\" >1.000000</td>\n",
              "    </tr>\n",
              "    <tr>\n",
              "      <th id=\"T_3cdf4_level0_row2\" class=\"row_heading level0 row2\" >L2</th>\n",
              "      <td id=\"T_3cdf4_row2_col0\" class=\"data row2 col0\" >1.000000</td>\n",
              "      <td id=\"T_3cdf4_row2_col1\" class=\"data row2 col1\" >1.000000</td>\n",
              "      <td id=\"T_3cdf4_row2_col2\" class=\"data row2 col2\" >1.000000</td>\n",
              "      <td id=\"T_3cdf4_row2_col3\" class=\"data row2 col3\" >1.000000</td>\n",
              "      <td id=\"T_3cdf4_row2_col4\" class=\"data row2 col4\" >1.000000</td>\n",
              "      <td id=\"T_3cdf4_row2_col5\" class=\"data row2 col5\" >1.000000</td>\n",
              "    </tr>\n",
              "    <tr>\n",
              "      <th id=\"T_3cdf4_level0_row3\" class=\"row_heading level0 row3\" >L3</th>\n",
              "      <td id=\"T_3cdf4_row3_col0\" class=\"data row3 col0\" >1.000000</td>\n",
              "      <td id=\"T_3cdf4_row3_col1\" class=\"data row3 col1\" >1.000000</td>\n",
              "      <td id=\"T_3cdf4_row3_col2\" class=\"data row3 col2\" >1.000000</td>\n",
              "      <td id=\"T_3cdf4_row3_col3\" class=\"data row3 col3\" >1.000000</td>\n",
              "      <td id=\"T_3cdf4_row3_col4\" class=\"data row3 col4\" >1.000000</td>\n",
              "      <td id=\"T_3cdf4_row3_col5\" class=\"data row3 col5\" >1.000000</td>\n",
              "    </tr>\n",
              "    <tr>\n",
              "      <th id=\"T_3cdf4_level0_row4\" class=\"row_heading level0 row4\" >L4</th>\n",
              "      <td id=\"T_3cdf4_row4_col0\" class=\"data row4 col0\" >1.000000</td>\n",
              "      <td id=\"T_3cdf4_row4_col1\" class=\"data row4 col1\" >1.000000</td>\n",
              "      <td id=\"T_3cdf4_row4_col2\" class=\"data row4 col2\" >1.000000</td>\n",
              "      <td id=\"T_3cdf4_row4_col3\" class=\"data row4 col3\" >1.000000</td>\n",
              "      <td id=\"T_3cdf4_row4_col4\" class=\"data row4 col4\" >1.000000</td>\n",
              "      <td id=\"T_3cdf4_row4_col5\" class=\"data row4 col5\" >1.000000</td>\n",
              "    </tr>\n",
              "    <tr>\n",
              "      <th id=\"T_3cdf4_level0_row5\" class=\"row_heading level0 row5\" >L5</th>\n",
              "      <td id=\"T_3cdf4_row5_col0\" class=\"data row5 col0\" >1.000000</td>\n",
              "      <td id=\"T_3cdf4_row5_col1\" class=\"data row5 col1\" >1.000000</td>\n",
              "      <td id=\"T_3cdf4_row5_col2\" class=\"data row5 col2\" >1.000000</td>\n",
              "      <td id=\"T_3cdf4_row5_col3\" class=\"data row5 col3\" >1.000000</td>\n",
              "      <td id=\"T_3cdf4_row5_col4\" class=\"data row5 col4\" >1.000000</td>\n",
              "      <td id=\"T_3cdf4_row5_col5\" class=\"data row5 col5\" >1.000000</td>\n",
              "    </tr>\n",
              "  </tbody>\n",
              "</table>\n"
            ]
          },
          "metadata": {}
        },
        {
          "output_type": "stream",
          "name": "stdout",
          "text": [
            "\n",
            "mean_dir_change_vel\n"
          ]
        },
        {
          "output_type": "display_data",
          "data": {
            "text/plain": [
              "<pandas.io.formats.style.Styler at 0x7faed025a3d0>"
            ],
            "text/html": [
              "<style type=\"text/css\">\n",
              "#T_c8238_row0_col0, #T_c8238_row0_col1, #T_c8238_row0_col2, #T_c8238_row0_col3, #T_c8238_row0_col4, #T_c8238_row0_col5, #T_c8238_row1_col0, #T_c8238_row1_col1, #T_c8238_row1_col2, #T_c8238_row1_col5, #T_c8238_row2_col0, #T_c8238_row2_col1, #T_c8238_row2_col2, #T_c8238_row2_col3, #T_c8238_row2_col4, #T_c8238_row2_col5, #T_c8238_row3_col0, #T_c8238_row3_col2, #T_c8238_row3_col3, #T_c8238_row3_col4, #T_c8238_row3_col5, #T_c8238_row4_col0, #T_c8238_row4_col2, #T_c8238_row4_col3, #T_c8238_row4_col4, #T_c8238_row4_col5, #T_c8238_row5_col0, #T_c8238_row5_col1, #T_c8238_row5_col2, #T_c8238_row5_col3, #T_c8238_row5_col4, #T_c8238_row5_col5 {\n",
              "  background-color: white;\n",
              "}\n",
              "#T_c8238_row1_col3, #T_c8238_row1_col4, #T_c8238_row3_col1, #T_c8238_row4_col1 {\n",
              "  background-color: red;\n",
              "}\n",
              "</style>\n",
              "<table id=\"T_c8238_\" class=\"dataframe\">\n",
              "  <thead>\n",
              "    <tr>\n",
              "      <th class=\"blank level0\" >&nbsp;</th>\n",
              "      <th class=\"col_heading level0 col0\" >L0</th>\n",
              "      <th class=\"col_heading level0 col1\" >L1</th>\n",
              "      <th class=\"col_heading level0 col2\" >L2</th>\n",
              "      <th class=\"col_heading level0 col3\" >L3</th>\n",
              "      <th class=\"col_heading level0 col4\" >L4</th>\n",
              "      <th class=\"col_heading level0 col5\" >L5</th>\n",
              "    </tr>\n",
              "  </thead>\n",
              "  <tbody>\n",
              "    <tr>\n",
              "      <th id=\"T_c8238_level0_row0\" class=\"row_heading level0 row0\" >L0</th>\n",
              "      <td id=\"T_c8238_row0_col0\" class=\"data row0 col0\" >1.000000</td>\n",
              "      <td id=\"T_c8238_row0_col1\" class=\"data row0 col1\" >1.000000</td>\n",
              "      <td id=\"T_c8238_row0_col2\" class=\"data row0 col2\" >1.000000</td>\n",
              "      <td id=\"T_c8238_row0_col3\" class=\"data row0 col3\" >0.071464</td>\n",
              "      <td id=\"T_c8238_row0_col4\" class=\"data row0 col4\" >0.071464</td>\n",
              "      <td id=\"T_c8238_row0_col5\" class=\"data row0 col5\" >0.155255</td>\n",
              "    </tr>\n",
              "    <tr>\n",
              "      <th id=\"T_c8238_level0_row1\" class=\"row_heading level0 row1\" >L1</th>\n",
              "      <td id=\"T_c8238_row1_col0\" class=\"data row1 col0\" >1.000000</td>\n",
              "      <td id=\"T_c8238_row1_col1\" class=\"data row1 col1\" >1.000000</td>\n",
              "      <td id=\"T_c8238_row1_col2\" class=\"data row1 col2\" >1.000000</td>\n",
              "      <td id=\"T_c8238_row1_col3\" class=\"data row1 col3\" >0.021159</td>\n",
              "      <td id=\"T_c8238_row1_col4\" class=\"data row1 col4\" >0.021159</td>\n",
              "      <td id=\"T_c8238_row1_col5\" class=\"data row1 col5\" >0.054186</td>\n",
              "    </tr>\n",
              "    <tr>\n",
              "      <th id=\"T_c8238_level0_row2\" class=\"row_heading level0 row2\" >L2</th>\n",
              "      <td id=\"T_c8238_row2_col0\" class=\"data row2 col0\" >1.000000</td>\n",
              "      <td id=\"T_c8238_row2_col1\" class=\"data row2 col1\" >1.000000</td>\n",
              "      <td id=\"T_c8238_row2_col2\" class=\"data row2 col2\" >1.000000</td>\n",
              "      <td id=\"T_c8238_row2_col3\" class=\"data row2 col3\" >0.442604</td>\n",
              "      <td id=\"T_c8238_row2_col4\" class=\"data row2 col4\" >0.442604</td>\n",
              "      <td id=\"T_c8238_row2_col5\" class=\"data row2 col5\" >0.718039</td>\n",
              "    </tr>\n",
              "    <tr>\n",
              "      <th id=\"T_c8238_level0_row3\" class=\"row_heading level0 row3\" >L3</th>\n",
              "      <td id=\"T_c8238_row3_col0\" class=\"data row3 col0\" >0.071464</td>\n",
              "      <td id=\"T_c8238_row3_col1\" class=\"data row3 col1\" >0.021159</td>\n",
              "      <td id=\"T_c8238_row3_col2\" class=\"data row3 col2\" >0.442604</td>\n",
              "      <td id=\"T_c8238_row3_col3\" class=\"data row3 col3\" >1.000000</td>\n",
              "      <td id=\"T_c8238_row3_col4\" class=\"data row3 col4\" >1.000000</td>\n",
              "      <td id=\"T_c8238_row3_col5\" class=\"data row3 col5\" >1.000000</td>\n",
              "    </tr>\n",
              "    <tr>\n",
              "      <th id=\"T_c8238_level0_row4\" class=\"row_heading level0 row4\" >L4</th>\n",
              "      <td id=\"T_c8238_row4_col0\" class=\"data row4 col0\" >0.071464</td>\n",
              "      <td id=\"T_c8238_row4_col1\" class=\"data row4 col1\" >0.021159</td>\n",
              "      <td id=\"T_c8238_row4_col2\" class=\"data row4 col2\" >0.442604</td>\n",
              "      <td id=\"T_c8238_row4_col3\" class=\"data row4 col3\" >1.000000</td>\n",
              "      <td id=\"T_c8238_row4_col4\" class=\"data row4 col4\" >1.000000</td>\n",
              "      <td id=\"T_c8238_row4_col5\" class=\"data row4 col5\" >1.000000</td>\n",
              "    </tr>\n",
              "    <tr>\n",
              "      <th id=\"T_c8238_level0_row5\" class=\"row_heading level0 row5\" >L5</th>\n",
              "      <td id=\"T_c8238_row5_col0\" class=\"data row5 col0\" >0.155255</td>\n",
              "      <td id=\"T_c8238_row5_col1\" class=\"data row5 col1\" >0.054186</td>\n",
              "      <td id=\"T_c8238_row5_col2\" class=\"data row5 col2\" >0.718039</td>\n",
              "      <td id=\"T_c8238_row5_col3\" class=\"data row5 col3\" >1.000000</td>\n",
              "      <td id=\"T_c8238_row5_col4\" class=\"data row5 col4\" >1.000000</td>\n",
              "      <td id=\"T_c8238_row5_col5\" class=\"data row5 col5\" >1.000000</td>\n",
              "    </tr>\n",
              "  </tbody>\n",
              "</table>\n"
            ]
          },
          "metadata": {}
        },
        {
          "output_type": "stream",
          "name": "stdout",
          "text": [
            "\n"
          ]
        }
      ]
    },
    {
      "cell_type": "markdown",
      "source": [
        "# Analyzing drinking influence on person identification algorithms"
      ],
      "metadata": {
        "id": "tCO5O0k-9bYB"
      }
    },
    {
      "cell_type": "code",
      "source": [
        "import matplotlib.pyplot as plt\n",
        "import matplotlib.gridspec as gridspec\n",
        "from sklearn.model_selection import train_test_split\n",
        "from sklearn.model_selection import StratifiedShuffleSplit\n",
        "from sklearn.preprocessing import LabelEncoder\n",
        "# from scikitplot.metrics import plot_confusion_matrix, plot_roc\n",
        "from sklearn.decomposition import PCA\n",
        "from sklearn.decomposition import FastICA\n",
        "from datetime import datetime\n",
        "from sklearn.svm import SVC\n",
        "from sklearn.naive_bayes import GaussianNB\n",
        "from sklearn.neighbors import KNeighborsClassifier\n",
        "from sklearn.preprocessing import StandardScaler\n",
        "from sklearn.model_selection import StratifiedShuffleSplit\n",
        "from sklearn.metrics import classification_report\n",
        "from sklearn.metrics import f1_score\n",
        "import numpy as np\n",
        "import time, datetime, pickle\n",
        "\n",
        "from sklearn.model_selection import KFold, GroupKFold, LeaveOneGroupOut, GroupShuffleSplit, GridSearchCV, cross_val_score, train_test_split\n",
        "from sklearn.feature_selection import SelectKBest, f_classif\n",
        "from sklearn.pipeline import Pipeline"
      ],
      "metadata": {
        "id": "ihuh665W-9qp"
      },
      "execution_count": null,
      "outputs": []
    },
    {
      "cell_type": "code",
      "source": [
        "def split_mono_set(array, labels,seed):\n",
        "    traincX = []\n",
        "    trainY = []\n",
        "    testcX = []\n",
        "    testY = []\n",
        "    sss = StratifiedShuffleSplit(n_splits=1, test_size=0.2, random_state=seed)\n",
        "    for train_index, test_index in sss.split(array, labels):\n",
        "        for ind in train_index:\n",
        "            traincX.append(array[ind])\n",
        "            trainY.append(labels[ind])\n",
        "        for ind in test_index:\n",
        "            testcX.append(array[ind])\n",
        "            testY.append(labels[ind])\n",
        "    return traincX,trainY,testcX,testY"
      ],
      "metadata": {
        "id": "GkgQbIUNBXpP"
      },
      "execution_count": null,
      "outputs": []
    },
    {
      "cell_type": "code",
      "source": [
        "sober_data=filt_db_raw[(filt_db_raw['level']=='L0') | (filt_db_raw['level']=='L1') | (filt_db_raw['level']=='L2')]"
      ],
      "metadata": {
        "id": "wss-VfAL9jST"
      },
      "execution_count": null,
      "outputs": []
    },
    {
      "cell_type": "code",
      "source": [
        "sober_data"
      ],
      "metadata": {
        "colab": {
          "base_uri": "https://localhost:8080/",
          "height": 488
        },
        "id": "2xB7nF7J-qmj",
        "outputId": "7a14d126-5508-4b2f-fcdc-e97f078948d5"
      },
      "execution_count": null,
      "outputs": [
        {
          "output_type": "execute_result",
          "data": {
            "text/plain": [
              "      XX level  owner  acc_by_dur  mean_str_dur  std_str_dur  mean_str_len  \\\n",
              "10    10    L0  Natka    0.434783      0.408286     0.228566     93.117279   \n",
              "11    11    L0  Natka    0.450435      0.476500     0.316416    117.522892   \n",
              "12    12    L0  Natka    0.440916      0.486833     0.312701    117.820870   \n",
              "20    20    L2  Natka    0.410428      0.274889     0.192730     50.259958   \n",
              "21    21    L2  Natka    0.398318      0.350750     0.245820     59.428873   \n",
              "..   ...   ...    ...         ...           ...          ...           ...   \n",
              "261  261    L1  Pawel    0.365540      0.369583     0.294599     62.562911   \n",
              "262  262    L1  Pawel    0.399722      0.367000     0.294117     52.013763   \n",
              "265  265    L0  Pawel    0.411765      0.272800     0.260273     46.931981   \n",
              "266  266    L0  Pawel    0.408665      0.132115     0.124953     21.105097   \n",
              "267  267    L0  Pawel    0.427708      0.062065     0.060678     11.090570   \n",
              "\n",
              "     std_str_len       min_acc       max_acc     mean_acc  zrc_acc  \\\n",
              "10     59.303936 -26041.666667  26463.487442   538.414922      105   \n",
              "11     82.795416 -31626.140074  33494.856564   500.706128       94   \n",
              "12     78.934223 -24598.692796  27124.456370   494.082967      104   \n",
              "20     35.295284 -28317.688963  41494.804125   784.103319      116   \n",
              "21     42.556388 -22183.607735  55555.555556  1604.651157      109   \n",
              "..           ...           ...           ...          ...      ...   \n",
              "261    51.268599 -29686.490618  22110.018146   411.072271      159   \n",
              "262    43.480859 -21438.593876  20803.782506   440.095007      133   \n",
              "265    45.889248 -22881.273056  26690.718086   491.991847      151   \n",
              "266    18.425399 -21614.583333  28656.400073   567.799717      172   \n",
              "267    10.258034 -26696.018572  30577.777778   556.646091      163   \n",
              "\n",
              "     mean_str_press  std_str_press  mean_dir_change_vel  \n",
              "10       582.023185      56.189432            30.270297  \n",
              "11       546.447907      75.047449            29.188290  \n",
              "12       490.207983      46.999700            29.427577  \n",
              "20       546.096007      85.021765            33.288688  \n",
              "21       572.903009      30.193616            34.178772  \n",
              "..              ...            ...                  ...  \n",
              "261      681.340075      77.970947            30.582100  \n",
              "262      665.004671     146.766126            32.123313  \n",
              "265      696.555961      81.576547            31.991886  \n",
              "266      649.196103     213.758048            31.493602  \n",
              "267      646.957793     167.679769            32.361095  \n",
              "\n",
              "[105 rows x 15 columns]"
            ],
            "text/html": [
              "\n",
              "  <div id=\"df-27acb146-b255-4c39-92c7-89c9c58b98e3\">\n",
              "    <div class=\"colab-df-container\">\n",
              "      <div>\n",
              "<style scoped>\n",
              "    .dataframe tbody tr th:only-of-type {\n",
              "        vertical-align: middle;\n",
              "    }\n",
              "\n",
              "    .dataframe tbody tr th {\n",
              "        vertical-align: top;\n",
              "    }\n",
              "\n",
              "    .dataframe thead th {\n",
              "        text-align: right;\n",
              "    }\n",
              "</style>\n",
              "<table border=\"1\" class=\"dataframe\">\n",
              "  <thead>\n",
              "    <tr style=\"text-align: right;\">\n",
              "      <th></th>\n",
              "      <th>XX</th>\n",
              "      <th>level</th>\n",
              "      <th>owner</th>\n",
              "      <th>acc_by_dur</th>\n",
              "      <th>mean_str_dur</th>\n",
              "      <th>std_str_dur</th>\n",
              "      <th>mean_str_len</th>\n",
              "      <th>std_str_len</th>\n",
              "      <th>min_acc</th>\n",
              "      <th>max_acc</th>\n",
              "      <th>mean_acc</th>\n",
              "      <th>zrc_acc</th>\n",
              "      <th>mean_str_press</th>\n",
              "      <th>std_str_press</th>\n",
              "      <th>mean_dir_change_vel</th>\n",
              "    </tr>\n",
              "  </thead>\n",
              "  <tbody>\n",
              "    <tr>\n",
              "      <th>10</th>\n",
              "      <td>10</td>\n",
              "      <td>L0</td>\n",
              "      <td>Natka</td>\n",
              "      <td>0.434783</td>\n",
              "      <td>0.408286</td>\n",
              "      <td>0.228566</td>\n",
              "      <td>93.117279</td>\n",
              "      <td>59.303936</td>\n",
              "      <td>-26041.666667</td>\n",
              "      <td>26463.487442</td>\n",
              "      <td>538.414922</td>\n",
              "      <td>105</td>\n",
              "      <td>582.023185</td>\n",
              "      <td>56.189432</td>\n",
              "      <td>30.270297</td>\n",
              "    </tr>\n",
              "    <tr>\n",
              "      <th>11</th>\n",
              "      <td>11</td>\n",
              "      <td>L0</td>\n",
              "      <td>Natka</td>\n",
              "      <td>0.450435</td>\n",
              "      <td>0.476500</td>\n",
              "      <td>0.316416</td>\n",
              "      <td>117.522892</td>\n",
              "      <td>82.795416</td>\n",
              "      <td>-31626.140074</td>\n",
              "      <td>33494.856564</td>\n",
              "      <td>500.706128</td>\n",
              "      <td>94</td>\n",
              "      <td>546.447907</td>\n",
              "      <td>75.047449</td>\n",
              "      <td>29.188290</td>\n",
              "    </tr>\n",
              "    <tr>\n",
              "      <th>12</th>\n",
              "      <td>12</td>\n",
              "      <td>L0</td>\n",
              "      <td>Natka</td>\n",
              "      <td>0.440916</td>\n",
              "      <td>0.486833</td>\n",
              "      <td>0.312701</td>\n",
              "      <td>117.820870</td>\n",
              "      <td>78.934223</td>\n",
              "      <td>-24598.692796</td>\n",
              "      <td>27124.456370</td>\n",
              "      <td>494.082967</td>\n",
              "      <td>104</td>\n",
              "      <td>490.207983</td>\n",
              "      <td>46.999700</td>\n",
              "      <td>29.427577</td>\n",
              "    </tr>\n",
              "    <tr>\n",
              "      <th>20</th>\n",
              "      <td>20</td>\n",
              "      <td>L2</td>\n",
              "      <td>Natka</td>\n",
              "      <td>0.410428</td>\n",
              "      <td>0.274889</td>\n",
              "      <td>0.192730</td>\n",
              "      <td>50.259958</td>\n",
              "      <td>35.295284</td>\n",
              "      <td>-28317.688963</td>\n",
              "      <td>41494.804125</td>\n",
              "      <td>784.103319</td>\n",
              "      <td>116</td>\n",
              "      <td>546.096007</td>\n",
              "      <td>85.021765</td>\n",
              "      <td>33.288688</td>\n",
              "    </tr>\n",
              "    <tr>\n",
              "      <th>21</th>\n",
              "      <td>21</td>\n",
              "      <td>L2</td>\n",
              "      <td>Natka</td>\n",
              "      <td>0.398318</td>\n",
              "      <td>0.350750</td>\n",
              "      <td>0.245820</td>\n",
              "      <td>59.428873</td>\n",
              "      <td>42.556388</td>\n",
              "      <td>-22183.607735</td>\n",
              "      <td>55555.555556</td>\n",
              "      <td>1604.651157</td>\n",
              "      <td>109</td>\n",
              "      <td>572.903009</td>\n",
              "      <td>30.193616</td>\n",
              "      <td>34.178772</td>\n",
              "    </tr>\n",
              "    <tr>\n",
              "      <th>...</th>\n",
              "      <td>...</td>\n",
              "      <td>...</td>\n",
              "      <td>...</td>\n",
              "      <td>...</td>\n",
              "      <td>...</td>\n",
              "      <td>...</td>\n",
              "      <td>...</td>\n",
              "      <td>...</td>\n",
              "      <td>...</td>\n",
              "      <td>...</td>\n",
              "      <td>...</td>\n",
              "      <td>...</td>\n",
              "      <td>...</td>\n",
              "      <td>...</td>\n",
              "      <td>...</td>\n",
              "    </tr>\n",
              "    <tr>\n",
              "      <th>261</th>\n",
              "      <td>261</td>\n",
              "      <td>L1</td>\n",
              "      <td>Pawel</td>\n",
              "      <td>0.365540</td>\n",
              "      <td>0.369583</td>\n",
              "      <td>0.294599</td>\n",
              "      <td>62.562911</td>\n",
              "      <td>51.268599</td>\n",
              "      <td>-29686.490618</td>\n",
              "      <td>22110.018146</td>\n",
              "      <td>411.072271</td>\n",
              "      <td>159</td>\n",
              "      <td>681.340075</td>\n",
              "      <td>77.970947</td>\n",
              "      <td>30.582100</td>\n",
              "    </tr>\n",
              "    <tr>\n",
              "      <th>262</th>\n",
              "      <td>262</td>\n",
              "      <td>L1</td>\n",
              "      <td>Pawel</td>\n",
              "      <td>0.399722</td>\n",
              "      <td>0.367000</td>\n",
              "      <td>0.294117</td>\n",
              "      <td>52.013763</td>\n",
              "      <td>43.480859</td>\n",
              "      <td>-21438.593876</td>\n",
              "      <td>20803.782506</td>\n",
              "      <td>440.095007</td>\n",
              "      <td>133</td>\n",
              "      <td>665.004671</td>\n",
              "      <td>146.766126</td>\n",
              "      <td>32.123313</td>\n",
              "    </tr>\n",
              "    <tr>\n",
              "      <th>265</th>\n",
              "      <td>265</td>\n",
              "      <td>L0</td>\n",
              "      <td>Pawel</td>\n",
              "      <td>0.411765</td>\n",
              "      <td>0.272800</td>\n",
              "      <td>0.260273</td>\n",
              "      <td>46.931981</td>\n",
              "      <td>45.889248</td>\n",
              "      <td>-22881.273056</td>\n",
              "      <td>26690.718086</td>\n",
              "      <td>491.991847</td>\n",
              "      <td>151</td>\n",
              "      <td>696.555961</td>\n",
              "      <td>81.576547</td>\n",
              "      <td>31.991886</td>\n",
              "    </tr>\n",
              "    <tr>\n",
              "      <th>266</th>\n",
              "      <td>266</td>\n",
              "      <td>L0</td>\n",
              "      <td>Pawel</td>\n",
              "      <td>0.408665</td>\n",
              "      <td>0.132115</td>\n",
              "      <td>0.124953</td>\n",
              "      <td>21.105097</td>\n",
              "      <td>18.425399</td>\n",
              "      <td>-21614.583333</td>\n",
              "      <td>28656.400073</td>\n",
              "      <td>567.799717</td>\n",
              "      <td>172</td>\n",
              "      <td>649.196103</td>\n",
              "      <td>213.758048</td>\n",
              "      <td>31.493602</td>\n",
              "    </tr>\n",
              "    <tr>\n",
              "      <th>267</th>\n",
              "      <td>267</td>\n",
              "      <td>L0</td>\n",
              "      <td>Pawel</td>\n",
              "      <td>0.427708</td>\n",
              "      <td>0.062065</td>\n",
              "      <td>0.060678</td>\n",
              "      <td>11.090570</td>\n",
              "      <td>10.258034</td>\n",
              "      <td>-26696.018572</td>\n",
              "      <td>30577.777778</td>\n",
              "      <td>556.646091</td>\n",
              "      <td>163</td>\n",
              "      <td>646.957793</td>\n",
              "      <td>167.679769</td>\n",
              "      <td>32.361095</td>\n",
              "    </tr>\n",
              "  </tbody>\n",
              "</table>\n",
              "<p>105 rows × 15 columns</p>\n",
              "</div>\n",
              "      <button class=\"colab-df-convert\" onclick=\"convertToInteractive('df-27acb146-b255-4c39-92c7-89c9c58b98e3')\"\n",
              "              title=\"Convert this dataframe to an interactive table.\"\n",
              "              style=\"display:none;\">\n",
              "        \n",
              "  <svg xmlns=\"http://www.w3.org/2000/svg\" height=\"24px\"viewBox=\"0 0 24 24\"\n",
              "       width=\"24px\">\n",
              "    <path d=\"M0 0h24v24H0V0z\" fill=\"none\"/>\n",
              "    <path d=\"M18.56 5.44l.94 2.06.94-2.06 2.06-.94-2.06-.94-.94-2.06-.94 2.06-2.06.94zm-11 1L8.5 8.5l.94-2.06 2.06-.94-2.06-.94L8.5 2.5l-.94 2.06-2.06.94zm10 10l.94 2.06.94-2.06 2.06-.94-2.06-.94-.94-2.06-.94 2.06-2.06.94z\"/><path d=\"M17.41 7.96l-1.37-1.37c-.4-.4-.92-.59-1.43-.59-.52 0-1.04.2-1.43.59L10.3 9.45l-7.72 7.72c-.78.78-.78 2.05 0 2.83L4 21.41c.39.39.9.59 1.41.59.51 0 1.02-.2 1.41-.59l7.78-7.78 2.81-2.81c.8-.78.8-2.07 0-2.86zM5.41 20L4 18.59l7.72-7.72 1.47 1.35L5.41 20z\"/>\n",
              "  </svg>\n",
              "      </button>\n",
              "      \n",
              "  <style>\n",
              "    .colab-df-container {\n",
              "      display:flex;\n",
              "      flex-wrap:wrap;\n",
              "      gap: 12px;\n",
              "    }\n",
              "\n",
              "    .colab-df-convert {\n",
              "      background-color: #E8F0FE;\n",
              "      border: none;\n",
              "      border-radius: 50%;\n",
              "      cursor: pointer;\n",
              "      display: none;\n",
              "      fill: #1967D2;\n",
              "      height: 32px;\n",
              "      padding: 0 0 0 0;\n",
              "      width: 32px;\n",
              "    }\n",
              "\n",
              "    .colab-df-convert:hover {\n",
              "      background-color: #E2EBFA;\n",
              "      box-shadow: 0px 1px 2px rgba(60, 64, 67, 0.3), 0px 1px 3px 1px rgba(60, 64, 67, 0.15);\n",
              "      fill: #174EA6;\n",
              "    }\n",
              "\n",
              "    [theme=dark] .colab-df-convert {\n",
              "      background-color: #3B4455;\n",
              "      fill: #D2E3FC;\n",
              "    }\n",
              "\n",
              "    [theme=dark] .colab-df-convert:hover {\n",
              "      background-color: #434B5C;\n",
              "      box-shadow: 0px 1px 3px 1px rgba(0, 0, 0, 0.15);\n",
              "      filter: drop-shadow(0px 1px 2px rgba(0, 0, 0, 0.3));\n",
              "      fill: #FFFFFF;\n",
              "    }\n",
              "  </style>\n",
              "\n",
              "      <script>\n",
              "        const buttonEl =\n",
              "          document.querySelector('#df-27acb146-b255-4c39-92c7-89c9c58b98e3 button.colab-df-convert');\n",
              "        buttonEl.style.display =\n",
              "          google.colab.kernel.accessAllowed ? 'block' : 'none';\n",
              "\n",
              "        async function convertToInteractive(key) {\n",
              "          const element = document.querySelector('#df-27acb146-b255-4c39-92c7-89c9c58b98e3');\n",
              "          const dataTable =\n",
              "            await google.colab.kernel.invokeFunction('convertToInteractive',\n",
              "                                                     [key], {});\n",
              "          if (!dataTable) return;\n",
              "\n",
              "          const docLinkHtml = 'Like what you see? Visit the ' +\n",
              "            '<a target=\"_blank\" href=https://colab.research.google.com/notebooks/data_table.ipynb>data table notebook</a>'\n",
              "            + ' to learn more about interactive tables.';\n",
              "          element.innerHTML = '';\n",
              "          dataTable['output_type'] = 'display_data';\n",
              "          await google.colab.output.renderOutput(dataTable, element);\n",
              "          const docLink = document.createElement('div');\n",
              "          docLink.innerHTML = docLinkHtml;\n",
              "          element.appendChild(docLink);\n",
              "        }\n",
              "      </script>\n",
              "    </div>\n",
              "  </div>\n",
              "  "
            ]
          },
          "metadata": {},
          "execution_count": 28
        }
      ]
    },
    {
      "cell_type": "code",
      "source": [
        "sober_labels=sober_data['owner']\n",
        "sober_features=sober_data.iloc[:,3:]"
      ],
      "metadata": {
        "id": "fU8O8ocWAQww"
      },
      "execution_count": null,
      "outputs": []
    },
    {
      "cell_type": "code",
      "source": [
        "sober_labels"
      ],
      "metadata": {
        "colab": {
          "base_uri": "https://localhost:8080/"
        },
        "id": "iSQY2FtPBPu9",
        "outputId": "e9d9d607-6952-4b83-f507-b44c51f810ba"
      },
      "execution_count": null,
      "outputs": [
        {
          "output_type": "execute_result",
          "data": {
            "text/plain": [
              "10     Natka\n",
              "11     Natka\n",
              "12     Natka\n",
              "20     Natka\n",
              "21     Natka\n",
              "       ...  \n",
              "261    Pawel\n",
              "262    Pawel\n",
              "265    Pawel\n",
              "266    Pawel\n",
              "267    Pawel\n",
              "Name: owner, Length: 105, dtype: object"
            ]
          },
          "metadata": {},
          "execution_count": 33
        }
      ]
    },
    {
      "cell_type": "code",
      "source": [
        "sober_features"
      ],
      "metadata": {
        "colab": {
          "base_uri": "https://localhost:8080/",
          "height": 488
        },
        "id": "L7M4I2byBJ3c",
        "outputId": "145d60ae-2d8c-482a-b2a7-94793a2fbcf6"
      },
      "execution_count": null,
      "outputs": [
        {
          "output_type": "execute_result",
          "data": {
            "text/plain": [
              "     acc_by_dur  mean_str_dur  std_str_dur  mean_str_len  std_str_len  \\\n",
              "10     0.434783      0.408286     0.228566     93.117279    59.303936   \n",
              "11     0.450435      0.476500     0.316416    117.522892    82.795416   \n",
              "12     0.440916      0.486833     0.312701    117.820870    78.934223   \n",
              "13     0.450620      0.410571     0.241201    100.914054    65.545060   \n",
              "20     0.410428      0.274889     0.192730     50.259958    35.295284   \n",
              "..          ...           ...          ...           ...          ...   \n",
              "265    0.411765      0.272800     0.260273     46.931981    45.889248   \n",
              "266    0.408665      0.132115     0.124953     21.105097    18.425399   \n",
              "267    0.427708      0.062065     0.060678     11.090570    10.258034   \n",
              "268    0.410153      0.152448     0.240040     22.947882    34.991719   \n",
              "269    0.432571      0.128720     0.223143     22.091916    43.303120   \n",
              "\n",
              "          min_acc       max_acc    mean_acc  zrc_acc  mean_str_press  \\\n",
              "10  -26041.666667  26463.487442  538.414922      105      582.023185   \n",
              "11  -31626.140074  33494.856564  500.706128       94      546.447907   \n",
              "12  -24598.692796  27124.456370  494.082967      104      490.207983   \n",
              "13  -34952.293544  46455.153508  489.557555      100      506.020613   \n",
              "20  -28317.688963  41494.804125  784.103319      116      546.096007   \n",
              "..            ...           ...         ...      ...             ...   \n",
              "265 -22881.273056  26690.718086  491.991847      151      696.555961   \n",
              "266 -21614.583333  28656.400073  567.799717      172      649.196103   \n",
              "267 -26696.018572  30577.777778  556.646091      163      646.957793   \n",
              "268 -22006.566437  24957.264957  719.636786      164      627.095983   \n",
              "269 -25624.573010  28316.494450  387.791147      161      702.910192   \n",
              "\n",
              "     std_str_press  mean_dir_change_vel  \n",
              "10       56.189432            30.270297  \n",
              "11       75.047449            29.188290  \n",
              "12       46.999700            29.427577  \n",
              "13       48.417296            29.829399  \n",
              "20       85.021765            33.288688  \n",
              "..             ...                  ...  \n",
              "265      81.576547            31.991886  \n",
              "266     213.758048            31.493602  \n",
              "267     167.679769            32.361095  \n",
              "268     221.749669            30.870444  \n",
              "269     108.493199            33.622483  \n",
              "\n",
              "[129 rows x 12 columns]"
            ],
            "text/html": [
              "\n",
              "  <div id=\"df-7237f83b-a1ef-4cc8-8c24-b2f15f41ae57\">\n",
              "    <div class=\"colab-df-container\">\n",
              "      <div>\n",
              "<style scoped>\n",
              "    .dataframe tbody tr th:only-of-type {\n",
              "        vertical-align: middle;\n",
              "    }\n",
              "\n",
              "    .dataframe tbody tr th {\n",
              "        vertical-align: top;\n",
              "    }\n",
              "\n",
              "    .dataframe thead th {\n",
              "        text-align: right;\n",
              "    }\n",
              "</style>\n",
              "<table border=\"1\" class=\"dataframe\">\n",
              "  <thead>\n",
              "    <tr style=\"text-align: right;\">\n",
              "      <th></th>\n",
              "      <th>acc_by_dur</th>\n",
              "      <th>mean_str_dur</th>\n",
              "      <th>std_str_dur</th>\n",
              "      <th>mean_str_len</th>\n",
              "      <th>std_str_len</th>\n",
              "      <th>min_acc</th>\n",
              "      <th>max_acc</th>\n",
              "      <th>mean_acc</th>\n",
              "      <th>zrc_acc</th>\n",
              "      <th>mean_str_press</th>\n",
              "      <th>std_str_press</th>\n",
              "      <th>mean_dir_change_vel</th>\n",
              "    </tr>\n",
              "  </thead>\n",
              "  <tbody>\n",
              "    <tr>\n",
              "      <th>10</th>\n",
              "      <td>0.434783</td>\n",
              "      <td>0.408286</td>\n",
              "      <td>0.228566</td>\n",
              "      <td>93.117279</td>\n",
              "      <td>59.303936</td>\n",
              "      <td>-26041.666667</td>\n",
              "      <td>26463.487442</td>\n",
              "      <td>538.414922</td>\n",
              "      <td>105</td>\n",
              "      <td>582.023185</td>\n",
              "      <td>56.189432</td>\n",
              "      <td>30.270297</td>\n",
              "    </tr>\n",
              "    <tr>\n",
              "      <th>11</th>\n",
              "      <td>0.450435</td>\n",
              "      <td>0.476500</td>\n",
              "      <td>0.316416</td>\n",
              "      <td>117.522892</td>\n",
              "      <td>82.795416</td>\n",
              "      <td>-31626.140074</td>\n",
              "      <td>33494.856564</td>\n",
              "      <td>500.706128</td>\n",
              "      <td>94</td>\n",
              "      <td>546.447907</td>\n",
              "      <td>75.047449</td>\n",
              "      <td>29.188290</td>\n",
              "    </tr>\n",
              "    <tr>\n",
              "      <th>12</th>\n",
              "      <td>0.440916</td>\n",
              "      <td>0.486833</td>\n",
              "      <td>0.312701</td>\n",
              "      <td>117.820870</td>\n",
              "      <td>78.934223</td>\n",
              "      <td>-24598.692796</td>\n",
              "      <td>27124.456370</td>\n",
              "      <td>494.082967</td>\n",
              "      <td>104</td>\n",
              "      <td>490.207983</td>\n",
              "      <td>46.999700</td>\n",
              "      <td>29.427577</td>\n",
              "    </tr>\n",
              "    <tr>\n",
              "      <th>13</th>\n",
              "      <td>0.450620</td>\n",
              "      <td>0.410571</td>\n",
              "      <td>0.241201</td>\n",
              "      <td>100.914054</td>\n",
              "      <td>65.545060</td>\n",
              "      <td>-34952.293544</td>\n",
              "      <td>46455.153508</td>\n",
              "      <td>489.557555</td>\n",
              "      <td>100</td>\n",
              "      <td>506.020613</td>\n",
              "      <td>48.417296</td>\n",
              "      <td>29.829399</td>\n",
              "    </tr>\n",
              "    <tr>\n",
              "      <th>20</th>\n",
              "      <td>0.410428</td>\n",
              "      <td>0.274889</td>\n",
              "      <td>0.192730</td>\n",
              "      <td>50.259958</td>\n",
              "      <td>35.295284</td>\n",
              "      <td>-28317.688963</td>\n",
              "      <td>41494.804125</td>\n",
              "      <td>784.103319</td>\n",
              "      <td>116</td>\n",
              "      <td>546.096007</td>\n",
              "      <td>85.021765</td>\n",
              "      <td>33.288688</td>\n",
              "    </tr>\n",
              "    <tr>\n",
              "      <th>...</th>\n",
              "      <td>...</td>\n",
              "      <td>...</td>\n",
              "      <td>...</td>\n",
              "      <td>...</td>\n",
              "      <td>...</td>\n",
              "      <td>...</td>\n",
              "      <td>...</td>\n",
              "      <td>...</td>\n",
              "      <td>...</td>\n",
              "      <td>...</td>\n",
              "      <td>...</td>\n",
              "      <td>...</td>\n",
              "    </tr>\n",
              "    <tr>\n",
              "      <th>265</th>\n",
              "      <td>0.411765</td>\n",
              "      <td>0.272800</td>\n",
              "      <td>0.260273</td>\n",
              "      <td>46.931981</td>\n",
              "      <td>45.889248</td>\n",
              "      <td>-22881.273056</td>\n",
              "      <td>26690.718086</td>\n",
              "      <td>491.991847</td>\n",
              "      <td>151</td>\n",
              "      <td>696.555961</td>\n",
              "      <td>81.576547</td>\n",
              "      <td>31.991886</td>\n",
              "    </tr>\n",
              "    <tr>\n",
              "      <th>266</th>\n",
              "      <td>0.408665</td>\n",
              "      <td>0.132115</td>\n",
              "      <td>0.124953</td>\n",
              "      <td>21.105097</td>\n",
              "      <td>18.425399</td>\n",
              "      <td>-21614.583333</td>\n",
              "      <td>28656.400073</td>\n",
              "      <td>567.799717</td>\n",
              "      <td>172</td>\n",
              "      <td>649.196103</td>\n",
              "      <td>213.758048</td>\n",
              "      <td>31.493602</td>\n",
              "    </tr>\n",
              "    <tr>\n",
              "      <th>267</th>\n",
              "      <td>0.427708</td>\n",
              "      <td>0.062065</td>\n",
              "      <td>0.060678</td>\n",
              "      <td>11.090570</td>\n",
              "      <td>10.258034</td>\n",
              "      <td>-26696.018572</td>\n",
              "      <td>30577.777778</td>\n",
              "      <td>556.646091</td>\n",
              "      <td>163</td>\n",
              "      <td>646.957793</td>\n",
              "      <td>167.679769</td>\n",
              "      <td>32.361095</td>\n",
              "    </tr>\n",
              "    <tr>\n",
              "      <th>268</th>\n",
              "      <td>0.410153</td>\n",
              "      <td>0.152448</td>\n",
              "      <td>0.240040</td>\n",
              "      <td>22.947882</td>\n",
              "      <td>34.991719</td>\n",
              "      <td>-22006.566437</td>\n",
              "      <td>24957.264957</td>\n",
              "      <td>719.636786</td>\n",
              "      <td>164</td>\n",
              "      <td>627.095983</td>\n",
              "      <td>221.749669</td>\n",
              "      <td>30.870444</td>\n",
              "    </tr>\n",
              "    <tr>\n",
              "      <th>269</th>\n",
              "      <td>0.432571</td>\n",
              "      <td>0.128720</td>\n",
              "      <td>0.223143</td>\n",
              "      <td>22.091916</td>\n",
              "      <td>43.303120</td>\n",
              "      <td>-25624.573010</td>\n",
              "      <td>28316.494450</td>\n",
              "      <td>387.791147</td>\n",
              "      <td>161</td>\n",
              "      <td>702.910192</td>\n",
              "      <td>108.493199</td>\n",
              "      <td>33.622483</td>\n",
              "    </tr>\n",
              "  </tbody>\n",
              "</table>\n",
              "<p>129 rows × 12 columns</p>\n",
              "</div>\n",
              "      <button class=\"colab-df-convert\" onclick=\"convertToInteractive('df-7237f83b-a1ef-4cc8-8c24-b2f15f41ae57')\"\n",
              "              title=\"Convert this dataframe to an interactive table.\"\n",
              "              style=\"display:none;\">\n",
              "        \n",
              "  <svg xmlns=\"http://www.w3.org/2000/svg\" height=\"24px\"viewBox=\"0 0 24 24\"\n",
              "       width=\"24px\">\n",
              "    <path d=\"M0 0h24v24H0V0z\" fill=\"none\"/>\n",
              "    <path d=\"M18.56 5.44l.94 2.06.94-2.06 2.06-.94-2.06-.94-.94-2.06-.94 2.06-2.06.94zm-11 1L8.5 8.5l.94-2.06 2.06-.94-2.06-.94L8.5 2.5l-.94 2.06-2.06.94zm10 10l.94 2.06.94-2.06 2.06-.94-2.06-.94-.94-2.06-.94 2.06-2.06.94z\"/><path d=\"M17.41 7.96l-1.37-1.37c-.4-.4-.92-.59-1.43-.59-.52 0-1.04.2-1.43.59L10.3 9.45l-7.72 7.72c-.78.78-.78 2.05 0 2.83L4 21.41c.39.39.9.59 1.41.59.51 0 1.02-.2 1.41-.59l7.78-7.78 2.81-2.81c.8-.78.8-2.07 0-2.86zM5.41 20L4 18.59l7.72-7.72 1.47 1.35L5.41 20z\"/>\n",
              "  </svg>\n",
              "      </button>\n",
              "      \n",
              "  <style>\n",
              "    .colab-df-container {\n",
              "      display:flex;\n",
              "      flex-wrap:wrap;\n",
              "      gap: 12px;\n",
              "    }\n",
              "\n",
              "    .colab-df-convert {\n",
              "      background-color: #E8F0FE;\n",
              "      border: none;\n",
              "      border-radius: 50%;\n",
              "      cursor: pointer;\n",
              "      display: none;\n",
              "      fill: #1967D2;\n",
              "      height: 32px;\n",
              "      padding: 0 0 0 0;\n",
              "      width: 32px;\n",
              "    }\n",
              "\n",
              "    .colab-df-convert:hover {\n",
              "      background-color: #E2EBFA;\n",
              "      box-shadow: 0px 1px 2px rgba(60, 64, 67, 0.3), 0px 1px 3px 1px rgba(60, 64, 67, 0.15);\n",
              "      fill: #174EA6;\n",
              "    }\n",
              "\n",
              "    [theme=dark] .colab-df-convert {\n",
              "      background-color: #3B4455;\n",
              "      fill: #D2E3FC;\n",
              "    }\n",
              "\n",
              "    [theme=dark] .colab-df-convert:hover {\n",
              "      background-color: #434B5C;\n",
              "      box-shadow: 0px 1px 3px 1px rgba(0, 0, 0, 0.15);\n",
              "      filter: drop-shadow(0px 1px 2px rgba(0, 0, 0, 0.3));\n",
              "      fill: #FFFFFF;\n",
              "    }\n",
              "  </style>\n",
              "\n",
              "      <script>\n",
              "        const buttonEl =\n",
              "          document.querySelector('#df-7237f83b-a1ef-4cc8-8c24-b2f15f41ae57 button.colab-df-convert');\n",
              "        buttonEl.style.display =\n",
              "          google.colab.kernel.accessAllowed ? 'block' : 'none';\n",
              "\n",
              "        async function convertToInteractive(key) {\n",
              "          const element = document.querySelector('#df-7237f83b-a1ef-4cc8-8c24-b2f15f41ae57');\n",
              "          const dataTable =\n",
              "            await google.colab.kernel.invokeFunction('convertToInteractive',\n",
              "                                                     [key], {});\n",
              "          if (!dataTable) return;\n",
              "\n",
              "          const docLinkHtml = 'Like what you see? Visit the ' +\n",
              "            '<a target=\"_blank\" href=https://colab.research.google.com/notebooks/data_table.ipynb>data table notebook</a>'\n",
              "            + ' to learn more about interactive tables.';\n",
              "          element.innerHTML = '';\n",
              "          dataTable['output_type'] = 'display_data';\n",
              "          await google.colab.output.renderOutput(dataTable, element);\n",
              "          const docLink = document.createElement('div');\n",
              "          docLink.innerHTML = docLinkHtml;\n",
              "          element.appendChild(docLink);\n",
              "        }\n",
              "      </script>\n",
              "    </div>\n",
              "  </div>\n",
              "  "
            ]
          },
          "metadata": {},
          "execution_count": 86
        }
      ]
    },
    {
      "cell_type": "code",
      "source": [
        "seed=4\n",
        "comp_sig=12"
      ],
      "metadata": {
        "id": "NQLqcXQIGB6b"
      },
      "execution_count": null,
      "outputs": []
    },
    {
      "cell_type": "code",
      "source": [
        "len(train_X)"
      ],
      "metadata": {
        "colab": {
          "base_uri": "https://localhost:8080/"
        },
        "id": "7nLeCPn7w_fw",
        "outputId": "09590e34-b144-4548-a159-e9c6929250d7"
      },
      "execution_count": null,
      "outputs": [
        {
          "output_type": "execute_result",
          "data": {
            "text/plain": [
              "84"
            ]
          },
          "metadata": {},
          "execution_count": 37
        }
      ]
    },
    {
      "cell_type": "code",
      "source": [
        "sob_np_features=sober_features.to_numpy()\n",
        "sob_np_labels=sober_labels.to_numpy()\n",
        "le = LabelEncoder()\n",
        "sob_np_labels=le.fit_transform(sob_np_labels)\n",
        "train_X, train_Y, test_X, test_Y = split_mono_set(sob_np_features, sob_np_labels,seed)"
      ],
      "metadata": {
        "id": "eUkT_7-dB_g2"
      },
      "execution_count": null,
      "outputs": []
    },
    {
      "cell_type": "code",
      "source": [
        "scaler_sig = StandardScaler()\n",
        "train_X=scaler_sig.fit_transform(train_X)\n",
        "pca_sig = PCA(svd_solver=\"randomized\", n_components=comp_sig, whiten=True)\n",
        "train_X=pca_sig.fit_transform(train_X)\n",
        "\n",
        "test_X = scaler_sig.transform(np.array(test_X))\n",
        "test_X = pca_sig.transform(test_X)"
      ],
      "metadata": {
        "id": "CBoeUvHWE2pz"
      },
      "execution_count": null,
      "outputs": []
    },
    {
      "cell_type": "code",
      "source": [
        "class_model = SVC(kernel=\"rbf\", C=30, gamma=0.008333333333333333,break_ties=False, random_state=3,decision_function_shape='ovr',probability=True)\n",
        "class_model.fit(train_X, train_Y)\n",
        "predictions = class_model.predict(test_X)\n",
        "print(classification_report(test_Y, predictions, target_names=le.classes_))"
      ],
      "metadata": {
        "colab": {
          "base_uri": "https://localhost:8080/"
        },
        "id": "TjRxjcC1GMKw",
        "outputId": "fd7e489c-68fd-4143-acb3-5692aa12b806"
      },
      "execution_count": null,
      "outputs": [
        {
          "output_type": "stream",
          "name": "stdout",
          "text": [
            "              precision    recall  f1-score   support\n",
            "\n",
            "       Kowal       1.00      1.00      1.00         3\n",
            "      Kraken       0.00      0.00      0.00         2\n",
            "      Lukasz       1.00      1.00      1.00         3\n",
            "       Magda       1.00      1.00      1.00         2\n",
            "     Natalia       1.00      1.00      1.00         3\n",
            "       Natka       1.00      1.00      1.00         2\n",
            "      Patryk       1.00      1.00      1.00         2\n",
            "       Pawel       0.50      1.00      0.67         2\n",
            "       Venom       1.00      1.00      1.00         2\n",
            "\n",
            "    accuracy                           0.90        21\n",
            "   macro avg       0.83      0.89      0.85        21\n",
            "weighted avg       0.86      0.90      0.87        21\n",
            "\n"
          ]
        },
        {
          "output_type": "stream",
          "name": "stderr",
          "text": [
            "/usr/local/lib/python3.7/dist-packages/sklearn/metrics/_classification.py:1318: UndefinedMetricWarning: Precision and F-score are ill-defined and being set to 0.0 in labels with no predicted samples. Use `zero_division` parameter to control this behavior.\n",
            "  _warn_prf(average, modifier, msg_start, len(result))\n",
            "/usr/local/lib/python3.7/dist-packages/sklearn/metrics/_classification.py:1318: UndefinedMetricWarning: Precision and F-score are ill-defined and being set to 0.0 in labels with no predicted samples. Use `zero_division` parameter to control this behavior.\n",
            "  _warn_prf(average, modifier, msg_start, len(result))\n",
            "/usr/local/lib/python3.7/dist-packages/sklearn/metrics/_classification.py:1318: UndefinedMetricWarning: Precision and F-score are ill-defined and being set to 0.0 in labels with no predicted samples. Use `zero_division` parameter to control this behavior.\n",
            "  _warn_prf(average, modifier, msg_start, len(result))\n"
          ]
        }
      ]
    },
    {
      "cell_type": "markdown",
      "source": [
        "# Pipelines\n"
      ],
      "metadata": {
        "id": "y5wXcpvPtrXf"
      }
    },
    {
      "cell_type": "code",
      "source": [
        "def svm_setup():\n",
        "\n",
        "    classifier_svm = SVC(kernel=\"rbf\",break_ties=False,decision_function_shape='ovr',probability=True)\n",
        "\n",
        "    k_best = SelectKBest(f_classif)\n",
        "    pca_sig = PCA( whiten=True)\n",
        "\n",
        "    pipeline = Pipeline(steps=[\n",
        "                               ('scaler', StandardScaler()), \n",
        "                               ('pca', pca_sig),\n",
        "                               ('svm', classifier_svm)]) \n",
        "\n",
        "    # k = [8,10,12,14]\n",
        "    C_values = [1, 2, 5, 10, 20, 30, 40]\n",
        "    # svd_solver=['auto', 'randomized']\n",
        "    pca_components = [8, 9, 10, 11, 12]\n",
        "    gamma_values = [1/12] * np.array([0.001,0.01, 0.1, 1, 10])\n",
        "\n",
        "    grid_search_parameters = {\n",
        "                              'svm__C': C_values,\n",
        "                              'pca__n_components': pca_components,\n",
        "                              # 'pca__svd_solver': svd_solver,\n",
        "                              'svm__gamma': gamma_values,\n",
        "                              }\n",
        "    \n",
        "    # print(grid_search_parameters)\n",
        "    xgboost = False\n",
        "    \n",
        "    return pipeline, grid_search_parameters "
      ],
      "metadata": {
        "id": "-yGdUJs7UPpW"
      },
      "execution_count": null,
      "outputs": []
    },
    {
      "cell_type": "code",
      "source": [
        "def svm_setup2():\n",
        "\n",
        "    classifier_svm = SVC(kernel=\"rbf\",break_ties=False,decision_function_shape='ovr',probability=True)\n",
        "\n",
        "    k_best = SelectKBest(f_classif)\n",
        "    ica_sig = FastICA(max_iter=400, whiten=True)\n",
        "\n",
        "    pipeline = Pipeline(steps=[\n",
        "                               ('scaler', StandardScaler()), \n",
        "                               ('ica', ica_sig),\n",
        "                               ('svm', classifier_svm)]) \n",
        "\n",
        "    # k = [8,10,12,14]\n",
        "    C_values = [ 10, 20, 30, 40, 60, 80]\n",
        "    # ica_fun = ['logcosh', 'exp', 'cube']\n",
        "    ica_components = [8, 9, 10, 11, 12]\n",
        "    gamma_values = [1/12] * np.array([ 0.1, 1, 10, 50, 100])\n",
        "    # algorithm{‘parallel’, ‘deflation’}\n",
        "    # ica_alorithm=['parallel', 'deflation']\n",
        "\n",
        "    grid_search_parameters = {\n",
        "                              'svm__C': C_values,\n",
        "                              'ica__n_components': ica_components,\n",
        "                              'svm__gamma': gamma_values,\n",
        "                              }\n",
        "    \n",
        "    # print(grid_search_parameters)\n",
        "    xgboost = False\n",
        "    \n",
        "    return pipeline, grid_search_parameters "
      ],
      "metadata": {
        "id": "T3AukD-LeOI-"
      },
      "execution_count": null,
      "outputs": []
    },
    {
      "cell_type": "code",
      "source": [
        "def train(X_data, y_data, pipeline, grid_search_parameters, cv, cv_groups, xgboost_flag):\n",
        "    \n",
        "    if xgboost_flag == True: \n",
        "        n_jobs = 1\n",
        "    else:                       \n",
        "        n_jobs = 16\n",
        "\n",
        "    grid_search = GridSearchCV(pipeline, \n",
        "                               grid_search_parameters, \n",
        "                               cv = cv, \n",
        "                               n_jobs = n_jobs,\n",
        "                               scoring = 'accuracy',\n",
        "                               # iid = False,\n",
        "                               return_train_score = True)\n",
        "    start_time = time.time()\n",
        "\n",
        "    grid_search.fit(X_data, y_data)\n",
        "    # grid_search.fit(X_data, y_data, groups = cv_groups)\n",
        "\n",
        "    pd_results = pd.DataFrame(grid_search.cv_results_)\n",
        "    means = grid_search.cv_results_['mean_test_score']\n",
        "    stds = grid_search.cv_results_['std_test_score']\n",
        "    params = grid_search.cv_results_['params']\n",
        "\n",
        "    zipped = zip(means, stds, params)\n",
        "    print('\\nGrid search results:\\n')\n",
        "    for mean, std, params in sorted(zipped, key = lambda x: x[0]):\n",
        "        print(\"%0.3f (+/-%0.03f) for %r\"% (mean, std, params))\n",
        "\n",
        "    print('\\nBest parameters:', grid_search.best_params_)\n",
        "    # print('Test acc: ', grid_search.score(X_test, y_test))\n",
        "    print('\\nTrain CV acc: ',grid_search.best_score_)\n",
        "    print('\\nTime elapsed (hh:mm:ss): ', datetime.timedelta(seconds=(time.time() - start_time)))\n",
        "    \n",
        "    return grid_search"
      ],
      "metadata": {
        "id": "Mcx8f-g1UaeX"
      },
      "execution_count": null,
      "outputs": []
    },
    {
      "cell_type": "markdown",
      "source": [
        "# Tuning with PCA"
      ],
      "metadata": {
        "id": "h6cnhJd3l0Ol"
      }
    },
    {
      "cell_type": "code",
      "source": [
        "sob_np_features=sober_features.to_numpy()\n",
        "sob_np_labels=sober_labels.to_numpy()\n",
        "le = LabelEncoder()\n",
        "sob_np_labels=le.fit_transform(sob_np_labels)\n",
        "train_X, train_Y, test_X, test_Y = split_mono_set(sob_np_features, sob_np_labels,seed)"
      ],
      "metadata": {
        "id": "6r4X6tlVZF8P"
      },
      "execution_count": null,
      "outputs": []
    },
    {
      "cell_type": "code",
      "source": [
        "n_splits = 10\n",
        "\n",
        "cv = KFold(n_splits=n_splits, shuffle=True, random_state=seed)\n",
        "# cv = GroupKFold(n_splits=n_splits)\n",
        "# cv = LeaveOneGroupOut()\n",
        "cv_groups = []"
      ],
      "metadata": {
        "id": "50Boej3cYOss"
      },
      "execution_count": null,
      "outputs": []
    },
    {
      "cell_type": "code",
      "source": [
        "start_time = time.time()\n",
        "\n",
        "# # Logit\n",
        "# pipeline, grid_search_parameters  = logit_setup()\n",
        "# grid_search = train(X_train, y_train, pipeline, grid_search_parameters, cv, cv_groups, xgboost_flag = False)\n",
        "\n",
        "# svm\n",
        "pipeline, grid_search_parameters  = svm_setup()\n",
        "grid_search_pca = train(train_X, train_Y, pipeline, grid_search_parameters, cv, cv_groups, xgboost_flag = False)\n",
        "\n",
        "# # XGBoost \n",
        "# pipeline, grid_search_parameters  = xgboost_setup()\n",
        "# grid_search = train(X_train, y_train, pipeline, grid_search_parameters, cv, cv_groups, xgboost_flag = True)\n",
        "\n",
        "print('\\n+++++++ Total computation time (hh:mm:ss): ', datetime.timedelta(seconds=(time.time() - start_time)))"
      ],
      "metadata": {
        "colab": {
          "base_uri": "https://localhost:8080/"
        },
        "id": "aWQnPu3OYf9t",
        "outputId": "d381c7fa-7276-4475-8f1f-0290dbb24aa4"
      },
      "execution_count": null,
      "outputs": [
        {
          "output_type": "stream",
          "name": "stdout",
          "text": [
            "\n",
            "Grid search results:\n",
            "\n",
            "0.082 (+/-0.092) for {'pca__n_components': 8, 'svm__C': 1, 'svm__gamma': 8.333333333333333e-05}\n",
            "0.082 (+/-0.092) for {'pca__n_components': 8, 'svm__C': 1, 'svm__gamma': 0.0008333333333333333}\n",
            "0.082 (+/-0.092) for {'pca__n_components': 8, 'svm__C': 2, 'svm__gamma': 8.333333333333333e-05}\n",
            "0.082 (+/-0.092) for {'pca__n_components': 8, 'svm__C': 2, 'svm__gamma': 0.0008333333333333333}\n",
            "0.082 (+/-0.092) for {'pca__n_components': 8, 'svm__C': 5, 'svm__gamma': 8.333333333333333e-05}\n",
            "0.082 (+/-0.092) for {'pca__n_components': 8, 'svm__C': 5, 'svm__gamma': 0.0008333333333333333}\n",
            "0.082 (+/-0.092) for {'pca__n_components': 8, 'svm__C': 10, 'svm__gamma': 8.333333333333333e-05}\n",
            "0.082 (+/-0.092) for {'pca__n_components': 8, 'svm__C': 20, 'svm__gamma': 8.333333333333333e-05}\n",
            "0.082 (+/-0.092) for {'pca__n_components': 8, 'svm__C': 30, 'svm__gamma': 8.333333333333333e-05}\n",
            "0.082 (+/-0.092) for {'pca__n_components': 8, 'svm__C': 40, 'svm__gamma': 8.333333333333333e-05}\n",
            "0.082 (+/-0.092) for {'pca__n_components': 9, 'svm__C': 1, 'svm__gamma': 8.333333333333333e-05}\n",
            "0.082 (+/-0.092) for {'pca__n_components': 9, 'svm__C': 1, 'svm__gamma': 0.0008333333333333333}\n",
            "0.082 (+/-0.092) for {'pca__n_components': 9, 'svm__C': 2, 'svm__gamma': 8.333333333333333e-05}\n",
            "0.082 (+/-0.092) for {'pca__n_components': 9, 'svm__C': 2, 'svm__gamma': 0.0008333333333333333}\n",
            "0.082 (+/-0.092) for {'pca__n_components': 9, 'svm__C': 5, 'svm__gamma': 8.333333333333333e-05}\n",
            "0.082 (+/-0.092) for {'pca__n_components': 9, 'svm__C': 5, 'svm__gamma': 0.0008333333333333333}\n",
            "0.082 (+/-0.092) for {'pca__n_components': 9, 'svm__C': 10, 'svm__gamma': 8.333333333333333e-05}\n",
            "0.082 (+/-0.092) for {'pca__n_components': 9, 'svm__C': 20, 'svm__gamma': 8.333333333333333e-05}\n",
            "0.082 (+/-0.092) for {'pca__n_components': 9, 'svm__C': 30, 'svm__gamma': 8.333333333333333e-05}\n",
            "0.082 (+/-0.092) for {'pca__n_components': 9, 'svm__C': 40, 'svm__gamma': 8.333333333333333e-05}\n",
            "0.082 (+/-0.092) for {'pca__n_components': 10, 'svm__C': 1, 'svm__gamma': 8.333333333333333e-05}\n",
            "0.082 (+/-0.092) for {'pca__n_components': 10, 'svm__C': 1, 'svm__gamma': 0.0008333333333333333}\n",
            "0.082 (+/-0.092) for {'pca__n_components': 10, 'svm__C': 2, 'svm__gamma': 8.333333333333333e-05}\n",
            "0.082 (+/-0.092) for {'pca__n_components': 10, 'svm__C': 2, 'svm__gamma': 0.0008333333333333333}\n",
            "0.082 (+/-0.092) for {'pca__n_components': 10, 'svm__C': 5, 'svm__gamma': 8.333333333333333e-05}\n",
            "0.082 (+/-0.092) for {'pca__n_components': 10, 'svm__C': 5, 'svm__gamma': 0.0008333333333333333}\n",
            "0.082 (+/-0.092) for {'pca__n_components': 10, 'svm__C': 10, 'svm__gamma': 8.333333333333333e-05}\n",
            "0.082 (+/-0.092) for {'pca__n_components': 10, 'svm__C': 20, 'svm__gamma': 8.333333333333333e-05}\n",
            "0.082 (+/-0.092) for {'pca__n_components': 10, 'svm__C': 30, 'svm__gamma': 8.333333333333333e-05}\n",
            "0.082 (+/-0.092) for {'pca__n_components': 10, 'svm__C': 40, 'svm__gamma': 8.333333333333333e-05}\n",
            "0.082 (+/-0.092) for {'pca__n_components': 11, 'svm__C': 1, 'svm__gamma': 8.333333333333333e-05}\n",
            "0.082 (+/-0.092) for {'pca__n_components': 11, 'svm__C': 1, 'svm__gamma': 0.0008333333333333333}\n",
            "0.082 (+/-0.092) for {'pca__n_components': 11, 'svm__C': 2, 'svm__gamma': 8.333333333333333e-05}\n",
            "0.082 (+/-0.092) for {'pca__n_components': 11, 'svm__C': 2, 'svm__gamma': 0.0008333333333333333}\n",
            "0.082 (+/-0.092) for {'pca__n_components': 11, 'svm__C': 5, 'svm__gamma': 8.333333333333333e-05}\n",
            "0.082 (+/-0.092) for {'pca__n_components': 11, 'svm__C': 10, 'svm__gamma': 8.333333333333333e-05}\n",
            "0.082 (+/-0.092) for {'pca__n_components': 11, 'svm__C': 20, 'svm__gamma': 8.333333333333333e-05}\n",
            "0.082 (+/-0.092) for {'pca__n_components': 11, 'svm__C': 30, 'svm__gamma': 8.333333333333333e-05}\n",
            "0.082 (+/-0.092) for {'pca__n_components': 11, 'svm__C': 40, 'svm__gamma': 8.333333333333333e-05}\n",
            "0.082 (+/-0.092) for {'pca__n_components': 12, 'svm__C': 1, 'svm__gamma': 8.333333333333333e-05}\n",
            "0.082 (+/-0.092) for {'pca__n_components': 12, 'svm__C': 1, 'svm__gamma': 0.0008333333333333333}\n",
            "0.082 (+/-0.092) for {'pca__n_components': 12, 'svm__C': 2, 'svm__gamma': 8.333333333333333e-05}\n",
            "0.082 (+/-0.092) for {'pca__n_components': 12, 'svm__C': 2, 'svm__gamma': 0.0008333333333333333}\n",
            "0.082 (+/-0.092) for {'pca__n_components': 12, 'svm__C': 5, 'svm__gamma': 8.333333333333333e-05}\n",
            "0.082 (+/-0.092) for {'pca__n_components': 12, 'svm__C': 10, 'svm__gamma': 8.333333333333333e-05}\n",
            "0.082 (+/-0.092) for {'pca__n_components': 12, 'svm__C': 20, 'svm__gamma': 8.333333333333333e-05}\n",
            "0.082 (+/-0.092) for {'pca__n_components': 12, 'svm__C': 30, 'svm__gamma': 8.333333333333333e-05}\n",
            "0.082 (+/-0.092) for {'pca__n_components': 12, 'svm__C': 40, 'svm__gamma': 8.333333333333333e-05}\n",
            "0.094 (+/-0.105) for {'pca__n_components': 11, 'svm__C': 5, 'svm__gamma': 0.0008333333333333333}\n",
            "0.094 (+/-0.089) for {'pca__n_components': 12, 'svm__C': 5, 'svm__gamma': 0.0008333333333333333}\n",
            "0.225 (+/-0.167) for {'pca__n_components': 8, 'svm__C': 1, 'svm__gamma': 0.008333333333333333}\n",
            "0.236 (+/-0.177) for {'pca__n_components': 10, 'svm__C': 1, 'svm__gamma': 0.008333333333333333}\n",
            "0.249 (+/-0.182) for {'pca__n_components': 9, 'svm__C': 1, 'svm__gamma': 0.008333333333333333}\n",
            "0.249 (+/-0.182) for {'pca__n_components': 11, 'svm__C': 1, 'svm__gamma': 0.008333333333333333}\n",
            "0.250 (+/-0.081) for {'pca__n_components': 12, 'svm__C': 1, 'svm__gamma': 0.8333333333333333}\n",
            "0.250 (+/-0.081) for {'pca__n_components': 12, 'svm__C': 2, 'svm__gamma': 0.8333333333333333}\n",
            "0.250 (+/-0.081) for {'pca__n_components': 12, 'svm__C': 5, 'svm__gamma': 0.8333333333333333}\n",
            "0.250 (+/-0.081) for {'pca__n_components': 12, 'svm__C': 10, 'svm__gamma': 0.8333333333333333}\n",
            "0.250 (+/-0.081) for {'pca__n_components': 12, 'svm__C': 20, 'svm__gamma': 0.8333333333333333}\n",
            "0.250 (+/-0.081) for {'pca__n_components': 12, 'svm__C': 30, 'svm__gamma': 0.8333333333333333}\n",
            "0.250 (+/-0.081) for {'pca__n_components': 12, 'svm__C': 40, 'svm__gamma': 0.8333333333333333}\n",
            "0.258 (+/-0.170) for {'pca__n_components': 12, 'svm__C': 1, 'svm__gamma': 0.008333333333333333}\n",
            "0.263 (+/-0.119) for {'pca__n_components': 10, 'svm__C': 1, 'svm__gamma': 0.8333333333333333}\n",
            "0.275 (+/-0.110) for {'pca__n_components': 11, 'svm__C': 1, 'svm__gamma': 0.8333333333333333}\n",
            "0.275 (+/-0.110) for {'pca__n_components': 11, 'svm__C': 2, 'svm__gamma': 0.8333333333333333}\n",
            "0.275 (+/-0.110) for {'pca__n_components': 11, 'svm__C': 5, 'svm__gamma': 0.8333333333333333}\n",
            "0.275 (+/-0.110) for {'pca__n_components': 11, 'svm__C': 10, 'svm__gamma': 0.8333333333333333}\n",
            "0.275 (+/-0.110) for {'pca__n_components': 11, 'svm__C': 20, 'svm__gamma': 0.8333333333333333}\n",
            "0.275 (+/-0.110) for {'pca__n_components': 11, 'svm__C': 30, 'svm__gamma': 0.8333333333333333}\n",
            "0.275 (+/-0.110) for {'pca__n_components': 11, 'svm__C': 40, 'svm__gamma': 0.8333333333333333}\n",
            "0.299 (+/-0.109) for {'pca__n_components': 9, 'svm__C': 1, 'svm__gamma': 0.8333333333333333}\n",
            "0.308 (+/-0.127) for {'pca__n_components': 10, 'svm__C': 2, 'svm__gamma': 0.8333333333333333}\n",
            "0.308 (+/-0.127) for {'pca__n_components': 10, 'svm__C': 5, 'svm__gamma': 0.8333333333333333}\n",
            "0.308 (+/-0.127) for {'pca__n_components': 10, 'svm__C': 10, 'svm__gamma': 0.8333333333333333}\n",
            "0.308 (+/-0.127) for {'pca__n_components': 10, 'svm__C': 20, 'svm__gamma': 0.8333333333333333}\n",
            "0.308 (+/-0.127) for {'pca__n_components': 10, 'svm__C': 30, 'svm__gamma': 0.8333333333333333}\n",
            "0.308 (+/-0.127) for {'pca__n_components': 10, 'svm__C': 40, 'svm__gamma': 0.8333333333333333}\n",
            "0.319 (+/-0.176) for {'pca__n_components': 11, 'svm__C': 10, 'svm__gamma': 0.0008333333333333333}\n",
            "0.321 (+/-0.176) for {'pca__n_components': 8, 'svm__C': 10, 'svm__gamma': 0.0008333333333333333}\n",
            "0.321 (+/-0.201) for {'pca__n_components': 9, 'svm__C': 10, 'svm__gamma': 0.0008333333333333333}\n",
            "0.332 (+/-0.192) for {'pca__n_components': 10, 'svm__C': 10, 'svm__gamma': 0.0008333333333333333}\n",
            "0.367 (+/-0.211) for {'pca__n_components': 12, 'svm__C': 10, 'svm__gamma': 0.0008333333333333333}\n",
            "0.392 (+/-0.193) for {'pca__n_components': 9, 'svm__C': 2, 'svm__gamma': 0.8333333333333333}\n",
            "0.392 (+/-0.193) for {'pca__n_components': 9, 'svm__C': 5, 'svm__gamma': 0.8333333333333333}\n",
            "0.392 (+/-0.193) for {'pca__n_components': 9, 'svm__C': 10, 'svm__gamma': 0.8333333333333333}\n",
            "0.392 (+/-0.193) for {'pca__n_components': 9, 'svm__C': 20, 'svm__gamma': 0.8333333333333333}\n",
            "0.392 (+/-0.193) for {'pca__n_components': 9, 'svm__C': 30, 'svm__gamma': 0.8333333333333333}\n",
            "0.392 (+/-0.193) for {'pca__n_components': 9, 'svm__C': 40, 'svm__gamma': 0.8333333333333333}\n",
            "0.407 (+/-0.126) for {'pca__n_components': 8, 'svm__C': 1, 'svm__gamma': 0.8333333333333333}\n",
            "0.512 (+/-0.187) for {'pca__n_components': 8, 'svm__C': 2, 'svm__gamma': 0.8333333333333333}\n",
            "0.512 (+/-0.187) for {'pca__n_components': 8, 'svm__C': 5, 'svm__gamma': 0.8333333333333333}\n",
            "0.512 (+/-0.187) for {'pca__n_components': 8, 'svm__C': 10, 'svm__gamma': 0.8333333333333333}\n",
            "0.512 (+/-0.187) for {'pca__n_components': 8, 'svm__C': 20, 'svm__gamma': 0.8333333333333333}\n",
            "0.512 (+/-0.187) for {'pca__n_components': 8, 'svm__C': 30, 'svm__gamma': 0.8333333333333333}\n",
            "0.512 (+/-0.187) for {'pca__n_components': 8, 'svm__C': 40, 'svm__gamma': 0.8333333333333333}\n",
            "0.561 (+/-0.184) for {'pca__n_components': 8, 'svm__C': 20, 'svm__gamma': 0.0008333333333333333}\n",
            "0.562 (+/-0.155) for {'pca__n_components': 8, 'svm__C': 2, 'svm__gamma': 0.008333333333333333}\n",
            "0.585 (+/-0.141) for {'pca__n_components': 9, 'svm__C': 2, 'svm__gamma': 0.008333333333333333}\n",
            "0.586 (+/-0.168) for {'pca__n_components': 11, 'svm__C': 20, 'svm__gamma': 0.0008333333333333333}\n",
            "0.596 (+/-0.175) for {'pca__n_components': 9, 'svm__C': 20, 'svm__gamma': 0.0008333333333333333}\n",
            "0.596 (+/-0.175) for {'pca__n_components': 11, 'svm__C': 2, 'svm__gamma': 0.008333333333333333}\n",
            "0.597 (+/-0.160) for {'pca__n_components': 10, 'svm__C': 2, 'svm__gamma': 0.008333333333333333}\n",
            "0.597 (+/-0.169) for {'pca__n_components': 10, 'svm__C': 20, 'svm__gamma': 0.0008333333333333333}\n",
            "0.621 (+/-0.137) for {'pca__n_components': 9, 'svm__C': 30, 'svm__gamma': 0.0008333333333333333}\n",
            "0.621 (+/-0.137) for {'pca__n_components': 12, 'svm__C': 2, 'svm__gamma': 0.008333333333333333}\n",
            "0.624 (+/-0.190) for {'pca__n_components': 8, 'svm__C': 30, 'svm__gamma': 0.0008333333333333333}\n",
            "0.644 (+/-0.140) for {'pca__n_components': 12, 'svm__C': 20, 'svm__gamma': 0.0008333333333333333}\n",
            "0.667 (+/-0.181) for {'pca__n_components': 8, 'svm__C': 1, 'svm__gamma': 0.08333333333333333}\n",
            "0.668 (+/-0.177) for {'pca__n_components': 8, 'svm__C': 40, 'svm__gamma': 0.0008333333333333333}\n",
            "0.668 (+/-0.170) for {'pca__n_components': 10, 'svm__C': 30, 'svm__gamma': 0.0008333333333333333}\n",
            "0.669 (+/-0.175) for {'pca__n_components': 12, 'svm__C': 30, 'svm__gamma': 0.0008333333333333333}\n",
            "0.676 (+/-0.148) for {'pca__n_components': 12, 'svm__C': 1, 'svm__gamma': 0.08333333333333333}\n",
            "0.679 (+/-0.173) for {'pca__n_components': 9, 'svm__C': 40, 'svm__gamma': 0.0008333333333333333}\n",
            "0.679 (+/-0.164) for {'pca__n_components': 11, 'svm__C': 30, 'svm__gamma': 0.0008333333333333333}\n",
            "0.681 (+/-0.186) for {'pca__n_components': 8, 'svm__C': 5, 'svm__gamma': 0.008333333333333333}\n",
            "0.681 (+/-0.157) for {'pca__n_components': 10, 'svm__C': 40, 'svm__gamma': 0.0008333333333333333}\n",
            "0.682 (+/-0.184) for {'pca__n_components': 12, 'svm__C': 40, 'svm__gamma': 0.0008333333333333333}\n",
            "0.692 (+/-0.182) for {'pca__n_components': 9, 'svm__C': 1, 'svm__gamma': 0.08333333333333333}\n",
            "0.715 (+/-0.146) for {'pca__n_components': 11, 'svm__C': 40, 'svm__gamma': 0.0008333333333333333}\n",
            "0.717 (+/-0.180) for {'pca__n_components': 9, 'svm__C': 5, 'svm__gamma': 0.008333333333333333}\n",
            "0.718 (+/-0.148) for {'pca__n_components': 12, 'svm__C': 5, 'svm__gamma': 0.008333333333333333}\n",
            "0.728 (+/-0.131) for {'pca__n_components': 10, 'svm__C': 1, 'svm__gamma': 0.08333333333333333}\n",
            "0.728 (+/-0.153) for {'pca__n_components': 11, 'svm__C': 5, 'svm__gamma': 0.008333333333333333}\n",
            "0.738 (+/-0.119) for {'pca__n_components': 12, 'svm__C': 2, 'svm__gamma': 0.08333333333333333}\n",
            "0.739 (+/-0.140) for {'pca__n_components': 11, 'svm__C': 1, 'svm__gamma': 0.08333333333333333}\n",
            "0.740 (+/-0.169) for {'pca__n_components': 10, 'svm__C': 5, 'svm__gamma': 0.008333333333333333}\n",
            "0.743 (+/-0.160) for {'pca__n_components': 8, 'svm__C': 2, 'svm__gamma': 0.08333333333333333}\n",
            "0.751 (+/-0.184) for {'pca__n_components': 8, 'svm__C': 10, 'svm__gamma': 0.008333333333333333}\n",
            "0.760 (+/-0.093) for {'pca__n_components': 11, 'svm__C': 5, 'svm__gamma': 0.08333333333333333}\n",
            "0.760 (+/-0.093) for {'pca__n_components': 11, 'svm__C': 10, 'svm__gamma': 0.08333333333333333}\n",
            "0.760 (+/-0.093) for {'pca__n_components': 11, 'svm__C': 20, 'svm__gamma': 0.08333333333333333}\n",
            "0.760 (+/-0.093) for {'pca__n_components': 11, 'svm__C': 30, 'svm__gamma': 0.08333333333333333}\n",
            "0.760 (+/-0.093) for {'pca__n_components': 11, 'svm__C': 40, 'svm__gamma': 0.08333333333333333}\n",
            "0.761 (+/-0.110) for {'pca__n_components': 11, 'svm__C': 2, 'svm__gamma': 0.08333333333333333}\n",
            "0.762 (+/-0.089) for {'pca__n_components': 10, 'svm__C': 5, 'svm__gamma': 0.08333333333333333}\n",
            "0.764 (+/-0.083) for {'pca__n_components': 10, 'svm__C': 10, 'svm__gamma': 0.08333333333333333}\n",
            "0.765 (+/-0.126) for {'pca__n_components': 12, 'svm__C': 10, 'svm__gamma': 0.008333333333333333}\n",
            "0.775 (+/-0.124) for {'pca__n_components': 11, 'svm__C': 10, 'svm__gamma': 0.008333333333333333}\n",
            "0.776 (+/-0.132) for {'pca__n_components': 9, 'svm__C': 2, 'svm__gamma': 0.08333333333333333}\n",
            "0.776 (+/-0.089) for {'pca__n_components': 10, 'svm__C': 20, 'svm__gamma': 0.08333333333333333}\n",
            "0.776 (+/-0.089) for {'pca__n_components': 10, 'svm__C': 30, 'svm__gamma': 0.08333333333333333}\n",
            "0.776 (+/-0.089) for {'pca__n_components': 10, 'svm__C': 40, 'svm__gamma': 0.08333333333333333}\n",
            "0.776 (+/-0.109) for {'pca__n_components': 10, 'svm__C': 2, 'svm__gamma': 0.08333333333333333}\n",
            "0.778 (+/-0.160) for {'pca__n_components': 9, 'svm__C': 10, 'svm__gamma': 0.008333333333333333}\n",
            "0.779 (+/-0.151) for {'pca__n_components': 9, 'svm__C': 10, 'svm__gamma': 0.08333333333333333}\n",
            "0.783 (+/-0.119) for {'pca__n_components': 12, 'svm__C': 5, 'svm__gamma': 0.08333333333333333}\n",
            "0.783 (+/-0.119) for {'pca__n_components': 12, 'svm__C': 10, 'svm__gamma': 0.08333333333333333}\n",
            "0.783 (+/-0.119) for {'pca__n_components': 12, 'svm__C': 20, 'svm__gamma': 0.08333333333333333}\n",
            "0.783 (+/-0.119) for {'pca__n_components': 12, 'svm__C': 30, 'svm__gamma': 0.08333333333333333}\n",
            "0.783 (+/-0.119) for {'pca__n_components': 12, 'svm__C': 40, 'svm__gamma': 0.08333333333333333}\n",
            "0.789 (+/-0.125) for {'pca__n_components': 10, 'svm__C': 10, 'svm__gamma': 0.008333333333333333}\n",
            "0.790 (+/-0.140) for {'pca__n_components': 8, 'svm__C': 20, 'svm__gamma': 0.008333333333333333}\n",
            "0.792 (+/-0.153) for {'pca__n_components': 9, 'svm__C': 20, 'svm__gamma': 0.08333333333333333}\n",
            "0.792 (+/-0.153) for {'pca__n_components': 9, 'svm__C': 30, 'svm__gamma': 0.08333333333333333}\n",
            "0.792 (+/-0.153) for {'pca__n_components': 9, 'svm__C': 40, 'svm__gamma': 0.08333333333333333}\n",
            "0.799 (+/-0.107) for {'pca__n_components': 12, 'svm__C': 20, 'svm__gamma': 0.008333333333333333}\n",
            "0.799 (+/-0.118) for {'pca__n_components': 12, 'svm__C': 30, 'svm__gamma': 0.008333333333333333}\n",
            "0.799 (+/-0.118) for {'pca__n_components': 12, 'svm__C': 40, 'svm__gamma': 0.008333333333333333}\n",
            "0.810 (+/-0.110) for {'pca__n_components': 11, 'svm__C': 20, 'svm__gamma': 0.008333333333333333}\n",
            "0.825 (+/-0.131) for {'pca__n_components': 9, 'svm__C': 20, 'svm__gamma': 0.008333333333333333}\n",
            "0.833 (+/-0.098) for {'pca__n_components': 10, 'svm__C': 20, 'svm__gamma': 0.008333333333333333}\n",
            "0.836 (+/-0.126) for {'pca__n_components': 9, 'svm__C': 5, 'svm__gamma': 0.08333333333333333}\n",
            "0.844 (+/-0.120) for {'pca__n_components': 11, 'svm__C': 30, 'svm__gamma': 0.008333333333333333}\n",
            "0.844 (+/-0.120) for {'pca__n_components': 11, 'svm__C': 40, 'svm__gamma': 0.008333333333333333}\n",
            "0.849 (+/-0.113) for {'pca__n_components': 8, 'svm__C': 30, 'svm__gamma': 0.008333333333333333}\n",
            "0.856 (+/-0.073) for {'pca__n_components': 10, 'svm__C': 40, 'svm__gamma': 0.008333333333333333}\n",
            "0.868 (+/-0.085) for {'pca__n_components': 10, 'svm__C': 30, 'svm__gamma': 0.008333333333333333}\n",
            "0.871 (+/-0.107) for {'pca__n_components': 8, 'svm__C': 5, 'svm__gamma': 0.08333333333333333}\n",
            "0.874 (+/-0.105) for {'pca__n_components': 8, 'svm__C': 10, 'svm__gamma': 0.08333333333333333}\n",
            "0.874 (+/-0.105) for {'pca__n_components': 8, 'svm__C': 20, 'svm__gamma': 0.08333333333333333}\n",
            "0.874 (+/-0.105) for {'pca__n_components': 8, 'svm__C': 30, 'svm__gamma': 0.08333333333333333}\n",
            "0.874 (+/-0.105) for {'pca__n_components': 8, 'svm__C': 40, 'svm__gamma': 0.08333333333333333}\n",
            "0.882 (+/-0.117) for {'pca__n_components': 9, 'svm__C': 40, 'svm__gamma': 0.008333333333333333}\n",
            "0.883 (+/-0.117) for {'pca__n_components': 9, 'svm__C': 30, 'svm__gamma': 0.008333333333333333}\n",
            "0.896 (+/-0.119) for {'pca__n_components': 8, 'svm__C': 40, 'svm__gamma': 0.008333333333333333}\n",
            "\n",
            "Best parameters: {'pca__n_components': 8, 'svm__C': 40, 'svm__gamma': 0.008333333333333333}\n",
            "\n",
            "Train CV acc:  0.8958333333333333\n",
            "\n",
            "Time elapsed (hh:mm:ss):  0:00:35.798443\n",
            "\n",
            "+++++++ Total computation time (hh:mm:ss):  0:00:35.799137\n"
          ]
        }
      ]
    },
    {
      "cell_type": "markdown",
      "source": [
        "# Tuning with ICA"
      ],
      "metadata": {
        "id": "DBpC3HkRl7rY"
      }
    },
    {
      "cell_type": "code",
      "source": [
        "sob_np_features=sober_features.to_numpy()\n",
        "sob_np_labels=sober_labels.to_numpy()\n",
        "le = LabelEncoder()\n",
        "sob_np_labels=le.fit_transform(sob_np_labels)\n",
        "train_X, train_Y, test_X, test_Y = split_mono_set(sob_np_features, sob_np_labels,seed)"
      ],
      "metadata": {
        "id": "2zjqY_4AmBlh"
      },
      "execution_count": null,
      "outputs": []
    },
    {
      "cell_type": "code",
      "source": [
        "n_splits = 10\n",
        "\n",
        "cv = KFold(n_splits=n_splits, shuffle=True, random_state=seed)\n",
        "# cv = GroupKFold(n_splits=n_splits)\n",
        "# cv = LeaveOneGroupOut()\n",
        "cv_groups = []"
      ],
      "metadata": {
        "id": "JUgi3e1HmBlh"
      },
      "execution_count": null,
      "outputs": []
    },
    {
      "cell_type": "code",
      "source": [
        "start_time = time.time()\n",
        "\n",
        "# # Logit\n",
        "# pipeline, grid_search_parameters  = logit_setup()\n",
        "# grid_search = train(X_train, y_train, pipeline, grid_search_parameters, cv, cv_groups, xgboost_flag = False)\n",
        "\n",
        "# svm\n",
        "pipeline, grid_search_parameters  = svm_setup2()\n",
        "grid_search_ica = train(train_X, train_Y, pipeline, grid_search_parameters, cv, cv_groups, xgboost_flag = False)\n",
        "\n",
        "# # XGBoost \n",
        "# pipeline, grid_search_parameters  = xgboost_setup()\n",
        "# grid_search = train(X_train, y_train, pipeline, grid_search_parameters, cv, cv_groups, xgboost_flag = True)\n",
        "\n",
        "print('\\n+++++++ Total computation time (hh:mm:ss): ', datetime.timedelta(seconds=(time.time() - start_time)))"
      ],
      "metadata": {
        "colab": {
          "base_uri": "https://localhost:8080/"
        },
        "id": "v9QOdNBnmBlj",
        "outputId": "386fd305-7fc9-4a4b-e80a-433957326b91"
      },
      "execution_count": null,
      "outputs": [
        {
          "output_type": "stream",
          "name": "stdout",
          "text": [
            "\n",
            "Grid search results:\n",
            "\n",
            "0.082 (+/-0.092) for {'ica__n_components': 8, 'svm__C': 10, 'svm__gamma': 0.008333333333333333}\n",
            "0.082 (+/-0.092) for {'ica__n_components': 8, 'svm__C': 20, 'svm__gamma': 0.008333333333333333}\n",
            "0.082 (+/-0.092) for {'ica__n_components': 8, 'svm__C': 30, 'svm__gamma': 0.008333333333333333}\n",
            "0.082 (+/-0.092) for {'ica__n_components': 9, 'svm__C': 10, 'svm__gamma': 0.008333333333333333}\n",
            "0.082 (+/-0.092) for {'ica__n_components': 9, 'svm__C': 20, 'svm__gamma': 0.008333333333333333}\n",
            "0.082 (+/-0.092) for {'ica__n_components': 9, 'svm__C': 30, 'svm__gamma': 0.008333333333333333}\n",
            "0.082 (+/-0.092) for {'ica__n_components': 10, 'svm__C': 10, 'svm__gamma': 0.008333333333333333}\n",
            "0.082 (+/-0.092) for {'ica__n_components': 10, 'svm__C': 20, 'svm__gamma': 0.008333333333333333}\n",
            "0.082 (+/-0.092) for {'ica__n_components': 10, 'svm__C': 30, 'svm__gamma': 0.008333333333333333}\n",
            "0.082 (+/-0.092) for {'ica__n_components': 11, 'svm__C': 10, 'svm__gamma': 0.008333333333333333}\n",
            "0.082 (+/-0.092) for {'ica__n_components': 11, 'svm__C': 20, 'svm__gamma': 0.008333333333333333}\n",
            "0.082 (+/-0.092) for {'ica__n_components': 11, 'svm__C': 30, 'svm__gamma': 0.008333333333333333}\n",
            "0.082 (+/-0.092) for {'ica__n_components': 12, 'svm__C': 10, 'svm__gamma': 0.008333333333333333}\n",
            "0.082 (+/-0.092) for {'ica__n_components': 12, 'svm__C': 20, 'svm__gamma': 0.008333333333333333}\n",
            "0.082 (+/-0.092) for {'ica__n_components': 12, 'svm__C': 30, 'svm__gamma': 0.008333333333333333}\n",
            "0.107 (+/-0.100) for {'ica__n_components': 8, 'svm__C': 40, 'svm__gamma': 0.008333333333333333}\n",
            "0.107 (+/-0.100) for {'ica__n_components': 9, 'svm__C': 40, 'svm__gamma': 0.008333333333333333}\n",
            "0.107 (+/-0.100) for {'ica__n_components': 10, 'svm__C': 40, 'svm__gamma': 0.008333333333333333}\n",
            "0.107 (+/-0.100) for {'ica__n_components': 11, 'svm__C': 40, 'svm__gamma': 0.008333333333333333}\n",
            "0.118 (+/-0.106) for {'ica__n_components': 12, 'svm__C': 40, 'svm__gamma': 0.008333333333333333}\n",
            "0.164 (+/-0.131) for {'ica__n_components': 8, 'svm__C': 60, 'svm__gamma': 0.008333333333333333}\n",
            "0.176 (+/-0.155) for {'ica__n_components': 9, 'svm__C': 60, 'svm__gamma': 0.008333333333333333}\n",
            "0.176 (+/-0.155) for {'ica__n_components': 10, 'svm__C': 60, 'svm__gamma': 0.008333333333333333}\n",
            "0.212 (+/-0.167) for {'ica__n_components': 11, 'svm__C': 60, 'svm__gamma': 0.008333333333333333}\n",
            "0.258 (+/-0.197) for {'ica__n_components': 12, 'svm__C': 60, 'svm__gamma': 0.008333333333333333}\n",
            "0.332 (+/-0.192) for {'ica__n_components': 9, 'svm__C': 80, 'svm__gamma': 0.008333333333333333}\n",
            "0.332 (+/-0.192) for {'ica__n_components': 10, 'svm__C': 80, 'svm__gamma': 0.008333333333333333}\n",
            "0.343 (+/-0.189) for {'ica__n_components': 11, 'svm__C': 80, 'svm__gamma': 0.008333333333333333}\n",
            "0.356 (+/-0.178) for {'ica__n_components': 8, 'svm__C': 80, 'svm__gamma': 0.008333333333333333}\n",
            "0.367 (+/-0.211) for {'ica__n_components': 12, 'svm__C': 80, 'svm__gamma': 0.008333333333333333}\n",
            "0.476 (+/-0.105) for {'ica__n_components': 9, 'svm__C': 10, 'svm__gamma': 0.08333333333333333}\n",
            "0.489 (+/-0.127) for {'ica__n_components': 10, 'svm__C': 10, 'svm__gamma': 0.08333333333333333}\n",
            "0.512 (+/-0.162) for {'ica__n_components': 11, 'svm__C': 10, 'svm__gamma': 0.08333333333333333}\n",
            "0.525 (+/-0.160) for {'ica__n_components': 8, 'svm__C': 10, 'svm__gamma': 0.08333333333333333}\n",
            "0.526 (+/-0.153) for {'ica__n_components': 12, 'svm__C': 10, 'svm__gamma': 0.08333333333333333}\n",
            "0.586 (+/-0.173) for {'ica__n_components': 8, 'svm__C': 20, 'svm__gamma': 0.08333333333333333}\n",
            "0.644 (+/-0.196) for {'ica__n_components': 9, 'svm__C': 20, 'svm__gamma': 0.08333333333333333}\n",
            "0.668 (+/-0.177) for {'ica__n_components': 8, 'svm__C': 30, 'svm__gamma': 0.08333333333333333}\n",
            "0.668 (+/-0.160) for {'ica__n_components': 11, 'svm__C': 20, 'svm__gamma': 0.08333333333333333}\n",
            "0.669 (+/-0.198) for {'ica__n_components': 10, 'svm__C': 20, 'svm__gamma': 0.08333333333333333}\n",
            "0.669 (+/-0.175) for {'ica__n_components': 12, 'svm__C': 20, 'svm__gamma': 0.08333333333333333}\n",
            "0.679 (+/-0.173) for {'ica__n_components': 9, 'svm__C': 30, 'svm__gamma': 0.08333333333333333}\n",
            "0.681 (+/-0.157) for {'ica__n_components': 10, 'svm__C': 30, 'svm__gamma': 0.08333333333333333}\n",
            "0.682 (+/-0.184) for {'ica__n_components': 12, 'svm__C': 30, 'svm__gamma': 0.08333333333333333}\n",
            "0.704 (+/-0.198) for {'ica__n_components': 8, 'svm__C': 40, 'svm__gamma': 0.08333333333333333}\n",
            "0.715 (+/-0.146) for {'ica__n_components': 11, 'svm__C': 30, 'svm__gamma': 0.08333333333333333}\n",
            "0.717 (+/-0.180) for {'ica__n_components': 9, 'svm__C': 40, 'svm__gamma': 0.08333333333333333}\n",
            "0.717 (+/-0.180) for {'ica__n_components': 10, 'svm__C': 40, 'svm__gamma': 0.08333333333333333}\n",
            "0.728 (+/-0.131) for {'ica__n_components': 12, 'svm__C': 60, 'svm__gamma': 0.08333333333333333}\n",
            "0.729 (+/-0.140) for {'ica__n_components': 12, 'svm__C': 40, 'svm__gamma': 0.08333333333333333}\n",
            "0.729 (+/-0.168) for {'ica__n_components': 9, 'svm__C': 60, 'svm__gamma': 0.08333333333333333}\n",
            "0.739 (+/-0.196) for {'ica__n_components': 8, 'svm__C': 60, 'svm__gamma': 0.08333333333333333}\n",
            "0.739 (+/-0.153) for {'ica__n_components': 11, 'svm__C': 40, 'svm__gamma': 0.08333333333333333}\n",
            "0.749 (+/-0.066) for {'ica__n_components': 11, 'svm__C': 10, 'svm__gamma': 8.333333333333332}\n",
            "0.749 (+/-0.066) for {'ica__n_components': 11, 'svm__C': 20, 'svm__gamma': 8.333333333333332}\n",
            "0.749 (+/-0.066) for {'ica__n_components': 11, 'svm__C': 30, 'svm__gamma': 8.333333333333332}\n",
            "0.749 (+/-0.066) for {'ica__n_components': 11, 'svm__C': 40, 'svm__gamma': 8.333333333333332}\n",
            "0.749 (+/-0.066) for {'ica__n_components': 11, 'svm__C': 60, 'svm__gamma': 8.333333333333332}\n",
            "0.749 (+/-0.066) for {'ica__n_components': 11, 'svm__C': 80, 'svm__gamma': 8.333333333333332}\n",
            "0.751 (+/-0.184) for {'ica__n_components': 8, 'svm__C': 80, 'svm__gamma': 0.08333333333333333}\n",
            "0.751 (+/-0.093) for {'ica__n_components': 10, 'svm__C': 10, 'svm__gamma': 8.333333333333332}\n",
            "0.751 (+/-0.093) for {'ica__n_components': 10, 'svm__C': 20, 'svm__gamma': 8.333333333333332}\n",
            "0.751 (+/-0.093) for {'ica__n_components': 10, 'svm__C': 30, 'svm__gamma': 8.333333333333332}\n",
            "0.751 (+/-0.093) for {'ica__n_components': 10, 'svm__C': 40, 'svm__gamma': 8.333333333333332}\n",
            "0.751 (+/-0.093) for {'ica__n_components': 10, 'svm__C': 60, 'svm__gamma': 8.333333333333332}\n",
            "0.751 (+/-0.093) for {'ica__n_components': 10, 'svm__C': 80, 'svm__gamma': 8.333333333333332}\n",
            "0.760 (+/-0.143) for {'ica__n_components': 12, 'svm__C': 10, 'svm__gamma': 8.333333333333332}\n",
            "0.760 (+/-0.143) for {'ica__n_components': 12, 'svm__C': 20, 'svm__gamma': 8.333333333333332}\n",
            "0.760 (+/-0.143) for {'ica__n_components': 12, 'svm__C': 30, 'svm__gamma': 8.333333333333332}\n",
            "0.760 (+/-0.143) for {'ica__n_components': 12, 'svm__C': 40, 'svm__gamma': 8.333333333333332}\n",
            "0.760 (+/-0.143) for {'ica__n_components': 12, 'svm__C': 60, 'svm__gamma': 8.333333333333332}\n",
            "0.760 (+/-0.143) for {'ica__n_components': 12, 'svm__C': 80, 'svm__gamma': 8.333333333333332}\n",
            "0.762 (+/-0.143) for {'ica__n_components': 11, 'svm__C': 60, 'svm__gamma': 0.08333333333333333}\n",
            "0.764 (+/-0.168) for {'ica__n_components': 8, 'svm__C': 10, 'svm__gamma': 0.8333333333333333}\n",
            "0.767 (+/-0.109) for {'ica__n_components': 12, 'svm__C': 80, 'svm__gamma': 0.08333333333333333}\n",
            "0.767 (+/-0.127) for {'ica__n_components': 9, 'svm__C': 10, 'svm__gamma': 8.333333333333332}\n",
            "0.776 (+/-0.134) for {'ica__n_components': 10, 'svm__C': 80, 'svm__gamma': 0.08333333333333333}\n",
            "0.778 (+/-0.104) for {'ica__n_components': 12, 'svm__C': 10, 'svm__gamma': 0.8333333333333333}\n",
            "0.779 (+/-0.131) for {'ica__n_components': 9, 'svm__C': 20, 'svm__gamma': 8.333333333333332}\n",
            "0.779 (+/-0.131) for {'ica__n_components': 9, 'svm__C': 30, 'svm__gamma': 8.333333333333332}\n",
            "0.779 (+/-0.131) for {'ica__n_components': 9, 'svm__C': 40, 'svm__gamma': 8.333333333333332}\n",
            "0.779 (+/-0.131) for {'ica__n_components': 9, 'svm__C': 60, 'svm__gamma': 8.333333333333332}\n",
            "0.779 (+/-0.131) for {'ica__n_components': 9, 'svm__C': 80, 'svm__gamma': 8.333333333333332}\n",
            "0.783 (+/-0.092) for {'ica__n_components': 11, 'svm__C': 10, 'svm__gamma': 4.166666666666666}\n",
            "0.783 (+/-0.092) for {'ica__n_components': 11, 'svm__C': 20, 'svm__gamma': 4.166666666666666}\n",
            "0.783 (+/-0.092) for {'ica__n_components': 11, 'svm__C': 30, 'svm__gamma': 4.166666666666666}\n",
            "0.783 (+/-0.092) for {'ica__n_components': 11, 'svm__C': 40, 'svm__gamma': 4.166666666666666}\n",
            "0.783 (+/-0.092) for {'ica__n_components': 11, 'svm__C': 60, 'svm__gamma': 4.166666666666666}\n",
            "0.783 (+/-0.092) for {'ica__n_components': 11, 'svm__C': 80, 'svm__gamma': 4.166666666666666}\n",
            "0.786 (+/-0.113) for {'ica__n_components': 10, 'svm__C': 10, 'svm__gamma': 4.166666666666666}\n",
            "0.786 (+/-0.118) for {'ica__n_components': 11, 'svm__C': 80, 'svm__gamma': 0.08333333333333333}\n",
            "0.787 (+/-0.108) for {'ica__n_components': 10, 'svm__C': 20, 'svm__gamma': 4.166666666666666}\n",
            "0.787 (+/-0.108) for {'ica__n_components': 10, 'svm__C': 30, 'svm__gamma': 4.166666666666666}\n",
            "0.787 (+/-0.108) for {'ica__n_components': 10, 'svm__C': 40, 'svm__gamma': 4.166666666666666}\n",
            "0.787 (+/-0.108) for {'ica__n_components': 10, 'svm__C': 60, 'svm__gamma': 4.166666666666666}\n",
            "0.787 (+/-0.108) for {'ica__n_components': 10, 'svm__C': 80, 'svm__gamma': 4.166666666666666}\n",
            "0.787 (+/-0.114) for {'ica__n_components': 12, 'svm__C': 20, 'svm__gamma': 0.8333333333333333}\n",
            "0.790 (+/-0.163) for {'ica__n_components': 9, 'svm__C': 10, 'svm__gamma': 0.8333333333333333}\n",
            "0.792 (+/-0.153) for {'ica__n_components': 9, 'svm__C': 20, 'svm__gamma': 4.166666666666666}\n",
            "0.792 (+/-0.153) for {'ica__n_components': 9, 'svm__C': 30, 'svm__gamma': 4.166666666666666}\n",
            "0.792 (+/-0.153) for {'ica__n_components': 9, 'svm__C': 40, 'svm__gamma': 4.166666666666666}\n",
            "0.792 (+/-0.153) for {'ica__n_components': 9, 'svm__C': 60, 'svm__gamma': 4.166666666666666}\n",
            "0.792 (+/-0.153) for {'ica__n_components': 9, 'svm__C': 80, 'svm__gamma': 4.166666666666666}\n",
            "0.796 (+/-0.107) for {'ica__n_components': 12, 'svm__C': 10, 'svm__gamma': 4.166666666666666}\n",
            "0.796 (+/-0.107) for {'ica__n_components': 12, 'svm__C': 20, 'svm__gamma': 4.166666666666666}\n",
            "0.796 (+/-0.107) for {'ica__n_components': 12, 'svm__C': 30, 'svm__gamma': 4.166666666666666}\n",
            "0.796 (+/-0.107) for {'ica__n_components': 12, 'svm__C': 40, 'svm__gamma': 4.166666666666666}\n",
            "0.796 (+/-0.107) for {'ica__n_components': 12, 'svm__C': 60, 'svm__gamma': 4.166666666666666}\n",
            "0.796 (+/-0.107) for {'ica__n_components': 12, 'svm__C': 80, 'svm__gamma': 4.166666666666666}\n",
            "0.799 (+/-0.142) for {'ica__n_components': 10, 'svm__C': 60, 'svm__gamma': 0.08333333333333333}\n",
            "0.799 (+/-0.118) for {'ica__n_components': 12, 'svm__C': 30, 'svm__gamma': 0.8333333333333333}\n",
            "0.801 (+/-0.140) for {'ica__n_components': 9, 'svm__C': 10, 'svm__gamma': 4.166666666666666}\n",
            "0.803 (+/-0.154) for {'ica__n_components': 9, 'svm__C': 80, 'svm__gamma': 0.08333333333333333}\n",
            "0.811 (+/-0.121) for {'ica__n_components': 10, 'svm__C': 10, 'svm__gamma': 0.8333333333333333}\n",
            "0.814 (+/-0.125) for {'ica__n_components': 8, 'svm__C': 20, 'svm__gamma': 0.8333333333333333}\n",
            "0.822 (+/-0.094) for {'ica__n_components': 11, 'svm__C': 10, 'svm__gamma': 0.8333333333333333}\n",
            "0.833 (+/-0.076) for {'ica__n_components': 10, 'svm__C': 40, 'svm__gamma': 0.8333333333333333}\n",
            "0.833 (+/-0.133) for {'ica__n_components': 11, 'svm__C': 60, 'svm__gamma': 0.8333333333333333}\n",
            "0.833 (+/-0.133) for {'ica__n_components': 11, 'svm__C': 80, 'svm__gamma': 0.8333333333333333}\n",
            "0.833 (+/-0.098) for {'ica__n_components': 12, 'svm__C': 40, 'svm__gamma': 0.8333333333333333}\n",
            "0.836 (+/-0.089) for {'ica__n_components': 8, 'svm__C': 10, 'svm__gamma': 8.333333333333332}\n",
            "0.844 (+/-0.097) for {'ica__n_components': 10, 'svm__C': 20, 'svm__gamma': 0.8333333333333333}\n",
            "0.844 (+/-0.097) for {'ica__n_components': 11, 'svm__C': 20, 'svm__gamma': 0.8333333333333333}\n",
            "0.844 (+/-0.123) for {'ica__n_components': 11, 'svm__C': 40, 'svm__gamma': 0.8333333333333333}\n",
            "0.846 (+/-0.076) for {'ica__n_components': 12, 'svm__C': 60, 'svm__gamma': 0.8333333333333333}\n",
            "0.846 (+/-0.076) for {'ica__n_components': 12, 'svm__C': 80, 'svm__gamma': 0.8333333333333333}\n",
            "0.847 (+/-0.101) for {'ica__n_components': 10, 'svm__C': 60, 'svm__gamma': 0.8333333333333333}\n",
            "0.847 (+/-0.101) for {'ica__n_components': 10, 'svm__C': 80, 'svm__gamma': 0.8333333333333333}\n",
            "0.849 (+/-0.101) for {'ica__n_components': 8, 'svm__C': 20, 'svm__gamma': 8.333333333333332}\n",
            "0.849 (+/-0.101) for {'ica__n_components': 8, 'svm__C': 30, 'svm__gamma': 8.333333333333332}\n",
            "0.849 (+/-0.101) for {'ica__n_components': 8, 'svm__C': 40, 'svm__gamma': 8.333333333333332}\n",
            "0.849 (+/-0.101) for {'ica__n_components': 8, 'svm__C': 60, 'svm__gamma': 8.333333333333332}\n",
            "0.849 (+/-0.101) for {'ica__n_components': 8, 'svm__C': 80, 'svm__gamma': 8.333333333333332}\n",
            "0.856 (+/-0.073) for {'ica__n_components': 10, 'svm__C': 30, 'svm__gamma': 0.8333333333333333}\n",
            "0.856 (+/-0.107) for {'ica__n_components': 11, 'svm__C': 30, 'svm__gamma': 0.8333333333333333}\n",
            "0.860 (+/-0.138) for {'ica__n_components': 9, 'svm__C': 20, 'svm__gamma': 0.8333333333333333}\n",
            "0.861 (+/-0.096) for {'ica__n_components': 8, 'svm__C': 20, 'svm__gamma': 4.166666666666666}\n",
            "0.861 (+/-0.096) for {'ica__n_components': 8, 'svm__C': 30, 'svm__gamma': 4.166666666666666}\n",
            "0.863 (+/-0.157) for {'ica__n_components': 9, 'svm__C': 60, 'svm__gamma': 0.8333333333333333}\n",
            "0.871 (+/-0.092) for {'ica__n_components': 8, 'svm__C': 10, 'svm__gamma': 4.166666666666666}\n",
            "0.872 (+/-0.128) for {'ica__n_components': 8, 'svm__C': 60, 'svm__gamma': 0.8333333333333333}\n",
            "0.872 (+/-0.138) for {'ica__n_components': 9, 'svm__C': 40, 'svm__gamma': 0.8333333333333333}\n",
            "0.874 (+/-0.105) for {'ica__n_components': 8, 'svm__C': 40, 'svm__gamma': 4.166666666666666}\n",
            "0.874 (+/-0.105) for {'ica__n_components': 8, 'svm__C': 60, 'svm__gamma': 4.166666666666666}\n",
            "0.874 (+/-0.105) for {'ica__n_components': 8, 'svm__C': 80, 'svm__gamma': 4.166666666666666}\n",
            "0.874 (+/-0.155) for {'ica__n_components': 9, 'svm__C': 80, 'svm__gamma': 0.8333333333333333}\n",
            "0.882 (+/-0.117) for {'ica__n_components': 9, 'svm__C': 30, 'svm__gamma': 0.8333333333333333}\n",
            "0.883 (+/-0.114) for {'ica__n_components': 8, 'svm__C': 40, 'svm__gamma': 0.8333333333333333}\n",
            "0.885 (+/-0.122) for {'ica__n_components': 8, 'svm__C': 80, 'svm__gamma': 0.8333333333333333}\n",
            "0.896 (+/-0.119) for {'ica__n_components': 8, 'svm__C': 30, 'svm__gamma': 0.8333333333333333}\n",
            "\n",
            "Best parameters: {'ica__n_components': 8, 'svm__C': 30, 'svm__gamma': 0.8333333333333333}\n",
            "\n",
            "Train CV acc:  0.8958333333333333\n",
            "\n",
            "Time elapsed (hh:mm:ss):  0:02:33.589570\n",
            "\n",
            "+++++++ Total computation time (hh:mm:ss):  0:02:33.590447\n"
          ]
        },
        {
          "output_type": "stream",
          "name": "stderr",
          "text": [
            "/usr/local/lib/python3.7/dist-packages/sklearn/decomposition/_fastica.py:119: ConvergenceWarning: FastICA did not converge. Consider increasing tolerance or the maximum number of iterations.\n",
            "  ConvergenceWarning,\n"
          ]
        }
      ]
    },
    {
      "cell_type": "markdown",
      "source": [
        "# Both algorithm tests"
      ],
      "metadata": {
        "id": "tgjnn9mcsyb5"
      }
    },
    {
      "cell_type": "markdown",
      "source": [
        "# PCA test"
      ],
      "metadata": {
        "id": "_7eel8CUtO-q"
      }
    },
    {
      "cell_type": "code",
      "source": [
        "# 0.855 (+/-0.100) for {'pca__n_components': 10, 'svm__C': 2, 'svm__gamma': 0.08333333333333333}"
      ],
      "metadata": {
        "id": "tTEyG97H9hqP"
      },
      "execution_count": null,
      "outputs": []
    },
    {
      "cell_type": "code",
      "source": [
        "C_value = grid_search_pca.best_params_['svm__C']\n",
        "components = grid_search_pca.best_params_['pca__n_components']\n",
        "gamma_value = grid_search_pca.best_params_['svm__gamma']"
      ],
      "metadata": {
        "id": "k4JaBsecl7Cs"
      },
      "execution_count": null,
      "outputs": []
    },
    {
      "cell_type": "code",
      "source": [
        "# C_value = 2\n",
        "# components = 10\n",
        "# gamma_value = 0.08333333333333333"
      ],
      "metadata": {
        "id": "YHX2Fi0L9jOM"
      },
      "execution_count": null,
      "outputs": []
    },
    {
      "cell_type": "code",
      "source": [
        "res=[]\n",
        "for i in range(10):\n",
        "  seed=i\n",
        "  sob_np_features=sober_features.to_numpy()\n",
        "  sob_np_labels=sober_labels.to_numpy()\n",
        "  le = LabelEncoder()\n",
        "  sob_np_labels=le.fit_transform(sob_np_labels)\n",
        "  train_X, train_Y, test_X, test_Y = split_mono_set(sob_np_features, sob_np_labels,seed)\n",
        "  scaler_sig = StandardScaler()\n",
        "  train_X=scaler_sig.fit_transform(train_X)\n",
        "  pca_sig = PCA(svd_solver=\"randomized\", n_components=components, whiten=True)\n",
        "  train_X=pca_sig.fit_transform(train_X)\n",
        "\n",
        "  test_X = scaler_sig.transform(np.array(test_X))\n",
        "  test_X = pca_sig.transform(test_X)\n",
        "  class_model = SVC(kernel=\"rbf\", C=C_value, gamma=gamma_value,break_ties=False,decision_function_shape='ovr',probability=True)\n",
        "  class_model.fit(train_X, train_Y)\n",
        "  predictions = class_model.predict(test_X)\n",
        "  # print(classification_report(test_Y, predictions, target_names=le.classes_))\n",
        "  res.append(f1_score(test_Y, predictions,average='micro'))"
      ],
      "metadata": {
        "id": "jYZgd_6Att7V"
      },
      "execution_count": null,
      "outputs": []
    },
    {
      "cell_type": "code",
      "source": [
        "print(np.mean(np.array(res)))\n",
        "print(np.std(np.array(res)))"
      ],
      "metadata": {
        "colab": {
          "base_uri": "https://localhost:8080/"
        },
        "id": "BHN8vR-Ktt7W",
        "outputId": "240a309a-b588-453c-c3e1-a655140f7bcd"
      },
      "execution_count": null,
      "outputs": [
        {
          "output_type": "stream",
          "name": "stdout",
          "text": [
            "0.8571428571428571\n",
            "0.05634361698190109\n"
          ]
        }
      ]
    },
    {
      "cell_type": "code",
      "source": [
        "res"
      ],
      "metadata": {
        "colab": {
          "base_uri": "https://localhost:8080/"
        },
        "id": "uH9L1-3NBm9V",
        "outputId": "49ad24f8-123b-465e-ab28-4987231c3b5d"
      },
      "execution_count": null,
      "outputs": [
        {
          "output_type": "execute_result",
          "data": {
            "text/plain": [
              "[0.8571428571428571,\n",
              " 0.8571428571428571,\n",
              " 0.8571428571428571,\n",
              " 0.8571428571428571,\n",
              " 0.9523809523809523,\n",
              " 0.9523809523809523,\n",
              " 0.8571428571428571,\n",
              " 0.7619047619047619,\n",
              " 0.8095238095238095,\n",
              " 0.8095238095238095]"
            ]
          },
          "metadata": {},
          "execution_count": 54
        }
      ]
    },
    {
      "cell_type": "code",
      "source": [
        ""
      ],
      "metadata": {
        "colab": {
          "base_uri": "https://localhost:8080/"
        },
        "outputId": "0659e3ba-d971-44c7-8cc7-c50ddaae16d1",
        "id": "xihN-kD4tt7W"
      },
      "execution_count": null,
      "outputs": [
        {
          "output_type": "stream",
          "name": "stdout",
          "text": [
            "              precision    recall  f1-score   support\n",
            "\n",
            "       Kowal       1.00      1.00      1.00         3\n",
            "      Kraken       0.67      1.00      0.80         2\n",
            "      Lukasz       1.00      1.00      1.00         3\n",
            "       Magda       1.00      1.00      1.00         3\n",
            "     Natalia       0.67      0.67      0.67         3\n",
            "       Natka       1.00      1.00      1.00         3\n",
            "      Patryk       0.67      0.67      0.67         3\n",
            "       Pawel       1.00      0.67      0.80         3\n",
            "       Venom       1.00      1.00      1.00         3\n",
            "\n",
            "    accuracy                           0.88        26\n",
            "   macro avg       0.89      0.89      0.88        26\n",
            "weighted avg       0.90      0.88      0.88        26\n",
            "\n"
          ]
        }
      ]
    },
    {
      "cell_type": "markdown",
      "source": [
        "# ICA test"
      ],
      "metadata": {
        "id": "Qef5vICptbWd"
      }
    },
    {
      "cell_type": "code",
      "source": [
        "C_value = grid_search_ica.best_params_['svm__C']\n",
        "components = grid_search_ica.best_params_['ica__n_components']\n",
        "gamma_value = grid_search_ica.best_params_['svm__gamma']"
      ],
      "metadata": {
        "id": "PzZC5fMjxd_Z"
      },
      "execution_count": null,
      "outputs": []
    },
    {
      "cell_type": "code",
      "source": [
        "res=[]\n",
        "for i in range(10):\n",
        "  seed=i\n",
        "  sob_np_features=sober_features.to_numpy()\n",
        "  sob_np_labels=sober_labels.to_numpy()\n",
        "  le = LabelEncoder()\n",
        "  sob_np_labels=le.fit_transform(sob_np_labels)\n",
        "  train_X, train_Y, test_X, test_Y = split_mono_set(sob_np_features, sob_np_labels,seed)\n",
        "  scaler_sig = StandardScaler()\n",
        "  train_X=scaler_sig.fit_transform(train_X)\n",
        "  pca_sig = FastICA(n_components = components, tol=10**(-1) , max_iter=800, whiten=True)\n",
        "  train_X=pca_sig.fit_transform(train_X)\n",
        "\n",
        "  test_X = scaler_sig.transform(np.array(test_X))\n",
        "  test_X = pca_sig.transform(test_X)\n",
        "  class_model = SVC(kernel=\"rbf\", C=C_value, gamma=gamma_value,break_ties=False,decision_function_shape='ovr',probability=True)\n",
        "  class_model.fit(train_X, train_Y)\n",
        "  predictions = class_model.predict(test_X)\n",
        "  print(classification_report(test_Y, predictions, target_names=le.classes_))\n",
        "  res.append(f1_score(test_Y, predictions,average='micro'))"
      ],
      "metadata": {
        "colab": {
          "base_uri": "https://localhost:8080/"
        },
        "id": "erojK9_Nxd_Z",
        "outputId": "b0949c6b-1b0d-4a4f-910c-12141237c363"
      },
      "execution_count": null,
      "outputs": [
        {
          "output_type": "stream",
          "name": "stdout",
          "text": [
            "              precision    recall  f1-score   support\n",
            "\n",
            "       Kowal       0.75      1.00      0.86         3\n",
            "      Kraken       1.00      0.50      0.67         2\n",
            "      Lukasz       1.00      1.00      1.00         3\n",
            "       Magda       1.00      1.00      1.00         2\n",
            "     Natalia       0.67      0.67      0.67         3\n",
            "       Natka       1.00      1.00      1.00         2\n",
            "      Patryk       1.00      0.50      0.67         2\n",
            "       Pawel       0.67      1.00      0.80         2\n",
            "       Venom       1.00      1.00      1.00         2\n",
            "\n",
            "    accuracy                           0.86        21\n",
            "   macro avg       0.90      0.85      0.85        21\n",
            "weighted avg       0.88      0.86      0.85        21\n",
            "\n",
            "              precision    recall  f1-score   support\n",
            "\n",
            "       Kowal       1.00      1.00      1.00         3\n",
            "      Kraken       1.00      0.50      0.67         2\n",
            "      Lukasz       0.75      1.00      0.86         3\n",
            "       Magda       1.00      1.00      1.00         2\n",
            "     Natalia       0.75      1.00      0.86         3\n",
            "       Natka       1.00      1.00      1.00         2\n",
            "      Patryk       1.00      0.50      0.67         2\n",
            "       Pawel       0.67      1.00      0.80         2\n",
            "       Venom       1.00      0.50      0.67         2\n",
            "\n",
            "    accuracy                           0.86        21\n",
            "   macro avg       0.91      0.83      0.83        21\n",
            "weighted avg       0.90      0.86      0.84        21\n",
            "\n",
            "              precision    recall  f1-score   support\n",
            "\n",
            "       Kowal       1.00      1.00      1.00         3\n",
            "      Kraken       1.00      0.50      0.67         2\n",
            "      Lukasz       0.75      1.00      0.86         3\n",
            "       Magda       1.00      1.00      1.00         2\n",
            "     Natalia       0.67      0.67      0.67         3\n",
            "       Natka       1.00      1.00      1.00         2\n",
            "      Patryk       1.00      0.50      0.67         2\n",
            "       Pawel       0.67      1.00      0.80         2\n",
            "       Venom       1.00      1.00      1.00         2\n",
            "\n",
            "    accuracy                           0.86        21\n",
            "   macro avg       0.90      0.85      0.85        21\n",
            "weighted avg       0.88      0.86      0.85        21\n",
            "\n",
            "              precision    recall  f1-score   support\n",
            "\n",
            "       Kowal       1.00      1.00      1.00         3\n",
            "      Kraken       1.00      0.50      0.67         2\n",
            "      Lukasz       0.75      1.00      0.86         3\n",
            "       Magda       1.00      1.00      1.00         2\n",
            "     Natalia       1.00      1.00      1.00         3\n",
            "       Natka       1.00      1.00      1.00         2\n",
            "      Patryk       1.00      0.50      0.67         2\n",
            "       Pawel       0.67      1.00      0.80         2\n",
            "       Venom       1.00      1.00      1.00         2\n",
            "\n",
            "    accuracy                           0.90        21\n",
            "   macro avg       0.94      0.89      0.89        21\n",
            "weighted avg       0.93      0.90      0.90        21\n",
            "\n",
            "              precision    recall  f1-score   support\n",
            "\n",
            "       Kowal       1.00      1.00      1.00         3\n",
            "      Kraken       1.00      0.50      0.67         2\n",
            "      Lukasz       1.00      1.00      1.00         3\n",
            "       Magda       1.00      1.00      1.00         2\n",
            "     Natalia       1.00      1.00      1.00         3\n",
            "       Natka       1.00      1.00      1.00         2\n",
            "      Patryk       1.00      1.00      1.00         2\n",
            "       Pawel       0.67      1.00      0.80         2\n",
            "       Venom       1.00      1.00      1.00         2\n",
            "\n",
            "    accuracy                           0.95        21\n",
            "   macro avg       0.96      0.94      0.94        21\n",
            "weighted avg       0.97      0.95      0.95        21\n",
            "\n",
            "              precision    recall  f1-score   support\n",
            "\n",
            "       Kowal       1.00      1.00      1.00         3\n",
            "      Kraken       1.00      1.00      1.00         2\n",
            "      Lukasz       0.75      1.00      0.86         3\n",
            "       Magda       1.00      1.00      1.00         2\n",
            "     Natalia       1.00      1.00      1.00         3\n",
            "       Natka       1.00      1.00      1.00         2\n",
            "      Patryk       1.00      1.00      1.00         2\n",
            "       Pawel       1.00      1.00      1.00         2\n",
            "       Venom       1.00      0.50      0.67         2\n",
            "\n",
            "    accuracy                           0.95        21\n",
            "   macro avg       0.97      0.94      0.95        21\n",
            "weighted avg       0.96      0.95      0.95        21\n",
            "\n",
            "              precision    recall  f1-score   support\n",
            "\n",
            "       Kowal       1.00      0.67      0.80         3\n",
            "      Kraken       1.00      1.00      1.00         2\n",
            "      Lukasz       1.00      1.00      1.00         3\n",
            "       Magda       1.00      1.00      1.00         2\n",
            "     Natalia       0.60      1.00      0.75         3\n",
            "       Natka       0.67      1.00      0.80         2\n",
            "      Patryk       0.00      0.00      0.00         2\n",
            "       Pawel       1.00      1.00      1.00         2\n",
            "       Venom       1.00      1.00      1.00         2\n",
            "\n",
            "    accuracy                           0.86        21\n",
            "   macro avg       0.81      0.85      0.82        21\n",
            "weighted avg       0.82      0.86      0.82        21\n",
            "\n",
            "              precision    recall  f1-score   support\n",
            "\n",
            "       Kowal       1.00      0.67      0.80         3\n",
            "      Kraken       0.00      0.00      0.00         2\n",
            "      Lukasz       1.00      1.00      1.00         3\n",
            "       Magda       1.00      1.00      1.00         2\n",
            "     Natalia       0.75      1.00      0.86         3\n",
            "       Natka       0.67      1.00      0.80         2\n",
            "      Patryk       1.00      0.50      0.67         2\n",
            "       Pawel       0.50      1.00      0.67         2\n",
            "       Venom       1.00      1.00      1.00         2\n",
            "\n",
            "    accuracy                           0.81        21\n",
            "   macro avg       0.77      0.80      0.75        21\n",
            "weighted avg       0.79      0.81      0.77        21\n",
            "\n",
            "              precision    recall  f1-score   support\n",
            "\n",
            "       Kowal       1.00      0.67      0.80         3\n",
            "      Kraken       1.00      1.00      1.00         2\n",
            "      Lukasz       0.75      1.00      0.86         3\n",
            "       Magda       1.00      0.50      0.67         2\n",
            "     Natalia       0.60      1.00      0.75         3\n",
            "       Natka       0.67      1.00      0.80         2\n",
            "      Patryk       1.00      0.50      0.67         2\n",
            "       Pawel       1.00      1.00      1.00         2\n",
            "       Venom       1.00      0.50      0.67         2\n",
            "\n",
            "    accuracy                           0.81        21\n",
            "   macro avg       0.89      0.80      0.80        21\n",
            "weighted avg       0.88      0.81      0.80        21\n",
            "\n",
            "              precision    recall  f1-score   support\n",
            "\n",
            "       Kowal       1.00      0.67      0.80         3\n",
            "      Kraken       0.67      1.00      0.80         2\n",
            "      Lukasz       1.00      1.00      1.00         3\n",
            "       Magda       1.00      1.00      1.00         2\n",
            "     Natalia       0.50      1.00      0.67         3\n",
            "       Natka       1.00      1.00      1.00         2\n",
            "      Patryk       0.00      0.00      0.00         2\n",
            "       Pawel       1.00      0.50      0.67         2\n",
            "       Venom       1.00      1.00      1.00         2\n",
            "\n",
            "    accuracy                           0.81        21\n",
            "   macro avg       0.80      0.80      0.77        21\n",
            "weighted avg       0.80      0.81      0.78        21\n",
            "\n"
          ]
        },
        {
          "output_type": "stream",
          "name": "stderr",
          "text": [
            "/usr/local/lib/python3.7/dist-packages/sklearn/metrics/_classification.py:1318: UndefinedMetricWarning: Precision and F-score are ill-defined and being set to 0.0 in labels with no predicted samples. Use `zero_division` parameter to control this behavior.\n",
            "  _warn_prf(average, modifier, msg_start, len(result))\n",
            "/usr/local/lib/python3.7/dist-packages/sklearn/metrics/_classification.py:1318: UndefinedMetricWarning: Precision and F-score are ill-defined and being set to 0.0 in labels with no predicted samples. Use `zero_division` parameter to control this behavior.\n",
            "  _warn_prf(average, modifier, msg_start, len(result))\n",
            "/usr/local/lib/python3.7/dist-packages/sklearn/metrics/_classification.py:1318: UndefinedMetricWarning: Precision and F-score are ill-defined and being set to 0.0 in labels with no predicted samples. Use `zero_division` parameter to control this behavior.\n",
            "  _warn_prf(average, modifier, msg_start, len(result))\n",
            "/usr/local/lib/python3.7/dist-packages/sklearn/metrics/_classification.py:1318: UndefinedMetricWarning: Precision and F-score are ill-defined and being set to 0.0 in labels with no predicted samples. Use `zero_division` parameter to control this behavior.\n",
            "  _warn_prf(average, modifier, msg_start, len(result))\n",
            "/usr/local/lib/python3.7/dist-packages/sklearn/metrics/_classification.py:1318: UndefinedMetricWarning: Precision and F-score are ill-defined and being set to 0.0 in labels with no predicted samples. Use `zero_division` parameter to control this behavior.\n",
            "  _warn_prf(average, modifier, msg_start, len(result))\n",
            "/usr/local/lib/python3.7/dist-packages/sklearn/metrics/_classification.py:1318: UndefinedMetricWarning: Precision and F-score are ill-defined and being set to 0.0 in labels with no predicted samples. Use `zero_division` parameter to control this behavior.\n",
            "  _warn_prf(average, modifier, msg_start, len(result))\n",
            "/usr/local/lib/python3.7/dist-packages/sklearn/metrics/_classification.py:1318: UndefinedMetricWarning: Precision and F-score are ill-defined and being set to 0.0 in labels with no predicted samples. Use `zero_division` parameter to control this behavior.\n",
            "  _warn_prf(average, modifier, msg_start, len(result))\n",
            "/usr/local/lib/python3.7/dist-packages/sklearn/metrics/_classification.py:1318: UndefinedMetricWarning: Precision and F-score are ill-defined and being set to 0.0 in labels with no predicted samples. Use `zero_division` parameter to control this behavior.\n",
            "  _warn_prf(average, modifier, msg_start, len(result))\n",
            "/usr/local/lib/python3.7/dist-packages/sklearn/metrics/_classification.py:1318: UndefinedMetricWarning: Precision and F-score are ill-defined and being set to 0.0 in labels with no predicted samples. Use `zero_division` parameter to control this behavior.\n",
            "  _warn_prf(average, modifier, msg_start, len(result))\n"
          ]
        }
      ]
    },
    {
      "cell_type": "code",
      "source": [
        "print(np.mean(np.array(res)))\n",
        "print(np.std(np.array(res)))"
      ],
      "metadata": {
        "colab": {
          "base_uri": "https://localhost:8080/"
        },
        "id": "1j-In3JWu1ok",
        "outputId": "968a4e9a-3fb0-4ea3-bac4-bc76a6ec8457"
      },
      "execution_count": null,
      "outputs": [
        {
          "output_type": "stream",
          "name": "stdout",
          "text": [
            "0.8666666666666666\n",
            "0.05128728387747145\n"
          ]
        }
      ]
    },
    {
      "cell_type": "markdown",
      "source": [
        "# Drinking comparison\n"
      ],
      "metadata": {
        "id": "5880I7dBB0vP"
      }
    },
    {
      "cell_type": "markdown",
      "source": [
        "Prepare drunk data"
      ],
      "metadata": {
        "id": "wBqPyPI1F8P-"
      }
    },
    {
      "cell_type": "code",
      "source": [
        "def test_pca(level):\n",
        "  \n",
        "\n",
        "  C_value = grid_search_pca.best_params_['svm__C']\n",
        "  components = grid_search_pca.best_params_['pca__n_components']\n",
        "  gamma_value = grid_search_pca.best_params_['svm__gamma']\n",
        "\n",
        "  res=[]\n",
        "  for i in range(10):\n",
        "    drunk_data=filt_db_raw[(filt_db_raw['level']==level)]\n",
        "    drunk_labels=drunk_data['owner']\n",
        "    drunk_features=drunk_data.iloc[:,3:]\n",
        "    drunk_np_features=drunk_features.to_numpy()\n",
        "    drunk_np_labels=drunk_labels.to_numpy()\n",
        "    test_drunk_X = drunk_np_features\n",
        "    test_drunk_Y = drunk_np_labels\n",
        "    seed=i\n",
        "    sob_np_features=sober_features.to_numpy()\n",
        "    sob_np_labels=sober_labels.to_numpy()\n",
        "    le = LabelEncoder()\n",
        "    sob_np_labels=le.fit_transform(sob_np_labels)\n",
        "    train_X, train_Y, test_X, test_Y = split_mono_set(sob_np_features, sob_np_labels,seed)\n",
        "    scaler_sig = StandardScaler()\n",
        "    train_X=scaler_sig.fit_transform(train_X)\n",
        "    pca_sig = PCA(svd_solver=\"randomized\", n_components=components, whiten=True)\n",
        "    train_X=pca_sig.fit_transform(train_X)\n",
        "\n",
        "    test_X = scaler_sig.transform(np.array(test_X))\n",
        "    test_X = pca_sig.transform(test_X)\n",
        "    class_model = SVC(kernel=\"rbf\", C=C_value, gamma=gamma_value,break_ties=False,decision_function_shape='ovr',probability=True)\n",
        "    class_model.fit(train_X, train_Y)\n",
        "    # predictions = class_model.predict(test_X)\n",
        "\n",
        "    test_drunk_Y = le.transform(test_drunk_Y)\n",
        "    test_drunk_X = scaler_sig.transform(np.array(test_drunk_X))\n",
        "    test_drunk_X = pca_sig.transform(test_drunk_X)\n",
        "\n",
        "    predictions = class_model.predict(test_drunk_X)\n",
        "    # print(classification_report(test_Y, predictions, target_names=le.classes_))\n",
        "    # res.append(f1_score(test_Y, predictions,average='micro'))\n",
        "    res.append(f1_score(test_drunk_Y, predictions,average='micro'))\n",
        "  # print(res)\n",
        "  print(np.mean(np.array(res)))\n",
        "  print(np.std(np.array(res))) "
      ],
      "metadata": {
        "id": "kSH8-nAdLRVq"
      },
      "execution_count": null,
      "outputs": []
    },
    {
      "cell_type": "code",
      "source": [
        "def test_ica(level):\n",
        "  \n",
        "\n",
        "  C_value = grid_search_ica.best_params_['svm__C']\n",
        "  components = grid_search_ica.best_params_['ica__n_components']\n",
        "  gamma_value = grid_search_ica.best_params_['svm__gamma']\n",
        "\n",
        "  res=[]\n",
        "  for i in range(10):\n",
        "    drunk_data=filt_db_raw[(filt_db_raw['level']==level)]\n",
        "    drunk_labels=drunk_data['owner']\n",
        "    drunk_features=drunk_data.iloc[:,3:]\n",
        "    drunk_np_features=drunk_features.to_numpy()\n",
        "    drunk_np_labels=drunk_labels.to_numpy()\n",
        "    test_drunk_X = drunk_np_features\n",
        "    test_drunk_Y = drunk_np_labels\n",
        "    seed=i\n",
        "    sob_np_features=sober_features.to_numpy()\n",
        "    sob_np_labels=sober_labels.to_numpy()\n",
        "    le = LabelEncoder()\n",
        "    sob_np_labels=le.fit_transform(sob_np_labels)\n",
        "    train_X, train_Y, test_X, test_Y = split_mono_set(sob_np_features, sob_np_labels,seed)\n",
        "    scaler_sig = StandardScaler()\n",
        "    train_X=scaler_sig.fit_transform(train_X)\n",
        "    \n",
        "    pca_sig = FastICA(n_components = components, tol=10**(-1) , max_iter=800, whiten=True)\n",
        "    train_X=pca_sig.fit_transform(train_X)\n",
        "\n",
        "    test_X = scaler_sig.transform(np.array(test_X))\n",
        "    test_X = pca_sig.transform(test_X)\n",
        "    class_model = SVC(kernel=\"rbf\", C=C_value, gamma=gamma_value,break_ties=False,decision_function_shape='ovr',probability=True)\n",
        "    class_model.fit(train_X, train_Y)\n",
        "    # predictions = class_model.predict(test_X)\n",
        "\n",
        "    test_drunk_Y = le.transform(test_drunk_Y)\n",
        "    test_drunk_X = scaler_sig.transform(np.array(test_drunk_X))\n",
        "    test_drunk_X = pca_sig.transform(test_drunk_X)\n",
        "\n",
        "    predictions = class_model.predict(test_drunk_X)\n",
        "    # print(classification_report(test_Y, predictions, target_names=le.classes_))\n",
        "    # res.append(f1_score(test_Y, predictions,average='micro'))\n",
        "    res.append(f1_score(test_drunk_Y, predictions,average='micro'))\n",
        "  # print(res)\n",
        "  print(np.mean(np.array(res)))\n",
        "  print(np.std(np.array(res))) "
      ],
      "metadata": {
        "id": "DdpFxQ19OFVR"
      },
      "execution_count": null,
      "outputs": []
    },
    {
      "cell_type": "code",
      "source": [
        "test_ica('L5')"
      ],
      "metadata": {
        "colab": {
          "base_uri": "https://localhost:8080/"
        },
        "id": "F8F6h9EGO53i",
        "outputId": "d22501f9-7ac9-4d5c-fd29-62f673266f9c"
      },
      "execution_count": null,
      "outputs": [
        {
          "output_type": "stream",
          "name": "stdout",
          "text": [
            "0.4057142857142858\n",
            "0.04571428571428571\n"
          ]
        }
      ]
    },
    {
      "cell_type": "code",
      "source": [
        "drunk_data=filt_db_raw[(filt_db_raw['level']=='L3')]"
      ],
      "metadata": {
        "id": "o6B6PROSDGn7"
      },
      "execution_count": null,
      "outputs": []
    },
    {
      "cell_type": "code",
      "source": [
        "drunk_labels=drunk_data['owner']\n",
        "drunk_features=drunk_data.iloc[:,3:]"
      ],
      "metadata": {
        "id": "JRhsdxU7EEd2"
      },
      "execution_count": null,
      "outputs": []
    },
    {
      "cell_type": "code",
      "source": [
        "drunk_np_features=drunk_features.to_numpy()\n",
        "drunk_np_labels=drunk_labels.to_numpy()\n",
        "test_drunk_X = drunk_np_features\n",
        "test_drunk_Y = drunk_np_labels"
      ],
      "metadata": {
        "id": "9T5S2FylEg_9"
      },
      "execution_count": null,
      "outputs": []
    },
    {
      "cell_type": "code",
      "source": [
        "test_drunk_Y"
      ],
      "metadata": {
        "colab": {
          "base_uri": "https://localhost:8080/"
        },
        "id": "7xZH0-OsHGfs",
        "outputId": "a4e71cc1-b8e6-45b8-fc0d-b00f0405ae95"
      },
      "execution_count": null,
      "outputs": [
        {
          "output_type": "execute_result",
          "data": {
            "text/plain": [
              "array(['Natka', 'Natka', 'Natka', 'Natka', 'Natka', 'Patryk', 'Patryk',\n",
              "       'Patryk', 'Patryk', 'Patryk', 'Magda', 'Magda', 'Magda', 'Kraken',\n",
              "       'Kraken', 'Kraken', 'Kraken', 'Kraken', 'Venom', 'Venom', 'Venom',\n",
              "       'Venom', 'Venom', 'Kowal', 'Kowal', 'Kowal', 'Kowal', 'Kowal',\n",
              "       'Lukasz', 'Lukasz', 'Lukasz', 'Lukasz', 'Lukasz', 'Natalia',\n",
              "       'Natalia', 'Natalia', 'Natalia', 'Natalia', 'Pawel', 'Pawel',\n",
              "       'Pawel', 'Pawel'], dtype=object)"
            ]
          },
          "metadata": {},
          "execution_count": 301
        }
      ]
    },
    {
      "cell_type": "code",
      "source": [
        "C_value = grid_search_pca.best_params_['svm__C']\n",
        "components = grid_search_pca.best_params_['pca__n_components']\n",
        "gamma_value = grid_search_pca.best_params_['svm__gamma']\n",
        "sob_np_features=sober_features.to_numpy()\n",
        "sob_np_labels=sober_labels.to_numpy()\n",
        "le = LabelEncoder()\n",
        "sob_np_labels=le.fit_transform(sob_np_labels)\n",
        "train_X, train_Y, test_X, test_Y = split_mono_set(sob_np_features, sob_np_labels,seed)\n",
        "scaler_sig = StandardScaler()\n",
        "train_X=scaler_sig.fit_transform(train_X)\n",
        "pca_sig = PCA(svd_solver=\"randomized\", n_components=components, whiten=True)\n",
        "train_X=pca_sig.fit_transform(train_X)\n",
        "\n",
        "test_X = scaler_sig.transform(np.array(test_X))\n",
        "test_X = pca_sig.transform(test_X)\n",
        "class_model = SVC(kernel=\"rbf\", C=C_value, gamma=gamma_value,break_ties=False,decision_function_shape='ovr',probability=True)\n",
        "class_model.fit(train_X, train_Y)\n",
        "predictions = class_model.predict(test_X)\n",
        "print(classification_report(test_Y, predictions, target_names=le.classes_))"
      ],
      "metadata": {
        "colab": {
          "base_uri": "https://localhost:8080/"
        },
        "id": "n4F7q4lGF6Yh",
        "outputId": "58015389-2902-4f5a-fc23-21b0f26e3c47"
      },
      "execution_count": null,
      "outputs": [
        {
          "output_type": "stream",
          "name": "stdout",
          "text": [
            "              precision    recall  f1-score   support\n",
            "\n",
            "       Kowal       1.00      0.67      0.80         3\n",
            "      Kraken       1.00      1.00      1.00         2\n",
            "      Lukasz       0.75      1.00      0.86         3\n",
            "       Magda       1.00      1.00      1.00         3\n",
            "     Natalia       0.00      0.00      0.00         3\n",
            "       Natka       1.00      1.00      1.00         3\n",
            "      Patryk       0.50      0.67      0.57         3\n",
            "       Pawel       1.00      1.00      1.00         3\n",
            "       Venom       1.00      1.00      1.00         3\n",
            "\n",
            "    accuracy                           0.81        26\n",
            "   macro avg       0.81      0.81      0.80        26\n",
            "weighted avg       0.80      0.81      0.80        26\n",
            "\n"
          ]
        }
      ]
    },
    {
      "cell_type": "code",
      "source": [
        "test_drunk_Y = le.transform(test_drunk_Y)\n",
        "test_drunk_X = scaler_sig.transform(np.array(test_drunk_X))\n",
        "test_drunk_X = pca_sig.transform(test_drunk_X)\n",
        "\n",
        "predictions = class_model.predict(test_drunk_X)\n",
        "# print(classification_report(test_Y, predictions, target_names=le.classes_))\n",
        "# res.append(f1_score(test_Y, predictions,average='micro'))\n",
        "f1_score(test_drunk_Y, predictions,average='micro')"
      ],
      "metadata": {
        "colab": {
          "base_uri": "https://localhost:8080/"
        },
        "id": "mlQzw56XGRbE",
        "outputId": "b2fef4ed-7f6c-4467-b674-58160bc85bf4"
      },
      "execution_count": null,
      "outputs": [
        {
          "output_type": "execute_result",
          "data": {
            "text/plain": [
              "0.5476190476190477"
            ]
          },
          "metadata": {},
          "execution_count": 303
        }
      ]
    }
  ]
}